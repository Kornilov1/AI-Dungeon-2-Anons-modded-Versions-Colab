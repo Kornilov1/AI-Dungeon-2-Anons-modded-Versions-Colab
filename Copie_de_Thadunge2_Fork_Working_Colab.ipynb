{
  "nbformat": 4,
  "nbformat_minor": 0,
  "metadata": {
    "colab": {
      "name": "Copie de Thadunge2 Fork Working Colab.ipynb",
      "provenance": [],
      "collapsed_sections": [],
      "include_colab_link": true
    },
    "kernelspec": {
      "name": "python3",
      "display_name": "Python 3"
    },
    "accelerator": "GPU"
  },
  "cells": [
    {
      "cell_type": "markdown",
      "metadata": {
        "id": "view-in-github",
        "colab_type": "text"
      },
      "source": [
        "<a href=\"https://colab.research.google.com/github/Kornilov1/Thadunge2-Fork-Working-Colab/blob/Visuals/Copie_de_Thadunge2_Fork_Working_Colab.ipynb\" target=\"_parent\"><img src=\"https://colab.research.google.com/assets/colab-badge.svg\" alt=\"Open In Colab\"/></a>"
      ]
    },
    {
      "cell_type": "markdown",
      "metadata": {
        "id": "7dRi_BDWErNf",
        "colab_type": "text"
      },
      "source": [
        "# AI Dungeon 2 Thadunge2 Fork Working Colab\n",
        "\n",
        "![BYU PCCL](https://pcc4318.files.wordpress.com/2018/02/asset-1.png?w=277)![BYU PCCL](https://i.ibb.co/gPmRK87/1496877631500.png)\n",
        "\n",
        "Sponsored by the [BYU PCCL Lab](https://pcc.cs.byu.edu/).\n",
        "\n",
        "### <a href=\"https://twitter.com/nickwalton00?ref_src=twsrc%5Etfw\" class=\"twitter-follow-button\" data-show-count=\"false\">Follow @nickwalton00</a> on twitter for updates.\n",
        "\n",
        "## About\n",
        "AI Dungeon 2 is a completely AI generated text adventure built with OpenAI's largest GPT-2 model. It's a first of it's kind game that allows you to enter and will react to any action you can imagine.\n",
        "\n",
        "This is a mod of the base game made entirely by the collective efforts of Anons, so you know what to expect from this.\n",
        "\n",
        "## Official Links\n",
        "* While you wait you can [read adventures others have had](https://console.cloud.google.com/storage/browser/aidungeonstories?pli=1/).\n",
        "* [Read more](https://pcc.cs.byu.edu/2019/11/21/ai-dungeon-2-creating-infinitely-generated-text-adventures-with-deep-learning-language-models/) about how AI Dungeon 2 is made.\n",
        "\n",
        "* If you have any questions or issues feel free to contact the author on twitter https://twitter.com/nickwalton00.\n",
        "* If you like playing then please consider [supporting](https://www.patreon.com/join/AIDungeon/) the author. BEWARE that there is no telling of if he will ever cuck out to pressure, but you can see for yourself [here](https://www.patreon.com/posts/roadmap-32316007), also remember that he is a mormom IRL so you know what to expect.\n",
        " - It's official, the author is a confirmed hack that doesn't even know what the fuck is he doing: he trained the AI with bullshit it didn't even need, with the training data being badly formatted (which is where all the weird responses from the AI come from), on an Open Source software (GPT-2 model), and putting it online with some simple code anyone could write.\n",
        " - And now he begs for money on patreon, for costs he doesn't even have, to do something he is too retarded to do, and with promises to change shit he can't change. He is a scammer and doesn't deserve your money. If you already donated, try to pull out.\n",
        " - There are Anons currently trying to integrate the vanilla Open Source GPT-2 model with whatever works of the modded version of AI Dungeon 2. But, for the time being, we will have to do with this modded one. There is also the possibility of re-training the AI, but this option (while being looked for) is still too remote for now. "
      ]
    },
    {
      "cell_type": "markdown",
      "metadata": {
        "id": "xn0bEX3R8IMC",
        "colab_type": "text"
      },
      "source": [
        "---\n",
        "---\n",
        "---\n",
        "---\n",
        "# How to play\n",
        "---\n",
        "---\n",
        "---\n",
        "---\n",
        "*When you are asked to run a cell, it means click the small [ ] at the left of the cell.*\n",
        "\n",
        "*Make sure each command is finished, some of them take a while to process.*\n",
        "\n",
        "*For a comfier experience, click \"Tools\"-> \"Settings...\" -> \"Theme\" -> \"Dark\"*\n",
        "\n",
        "*Run the [SECTION 3 - CELL 1](#scrollTo=zITeSYmJvBp4) if you want more RAM, the allocated GPU will crash (takes about 80-85 seconds) and Google Colab will offer you an option to get more RAM (max is 25GB).*\n",
        "\n",
        "---\n",
        "\n",
        "1. First **make sure you have a Google Drive account with at least 6Gb of free space in it and that you are signed up**.\n",
        "--\n",
        "2. On the top left: Click \"File\"-> \"Save a a copy in Drive\". A new tab will open, **close the current tab and use the new one**.\n",
        "--\n",
        "3. Delete your AIdungeon folder in your Google Drive if it's already in it.\n",
        " - If you have already downloaded the \"model_v5\" folder through torrent, I advise against deleting it, it might come handy in the future. If anyone is curious **[here is the torrent](https://github.com/nickwalton/AIDungeon/files/3935881/model_v5.torrent.zip)**.\n",
        "--\n",
        "4. Run the [SECTION 1 - CELL 1](#scrollTo=36Gkd-RytcM_), it will install needed dependencies and mount your Google Drive. **It will ask for authorization so follow the link given and log in, then paste the code back in the box that showed up under the code and press enter**.\n",
        "--\n",
        "5. Run the [SECTION 1 - CELL 2](#scrollTo=sSR483VQts7V), it will download the game files to /content/AIDungeon/. You can also freely choose your favorite repo there.\n",
        "--\n",
        "6. Run the [SECTION 1 - CELL **4**](#scrollTo=afImEGdNuC9A), it will copy the game files to your Google Drive so they won't have to be downloaded every time.\n",
        "--\n",
        "7. Now AIDungeon is correctly installed in your Google Drive, you just need to run the [SECTION 2 - CELL 1](#scrollTo=A_sVH81JyJin) to play, but **DO NOT REPEAT THE PREVIOUS STEPS**\n",
        "---\n",
        "---\n",
        "---\n",
        "# How to play again / update / try something else\n",
        "---\n",
        "---\n",
        "---\n",
        "---\n",
        "Play again\n",
        "---\n",
        "---\n",
        "1. When running the game **again** (i.e.: after you closed the tab) just:\n",
        " - Run the [SECTION 1 - CELL 1](#scrollTo=36Gkd-RytcM_). You will need to authorize it again.\n",
        "        + If this cell gives you an error, try clicking \"Runtime\"-> \"Restart runtime\" on the top of the screen.\n",
        " - Run the [SECTION 2 - CELL 1](#scrollTo=A_sVH81JyJin) and play the game.\n",
        "---\n",
        "Update\n",
        "---\n",
        "---\n",
        "1. Run [SECTION 1 - CELL 3](#scrollTo=_ZQXntSqJjFT), it will get only the latest changes made on the GitHub\n",
        "2. If you're paranoid and want to make sure everything is up-to-date, you will have to repeat everything over again starting from **How to play - step 3** , from time to time.\n",
        "---\n",
        "Try something else\n",
        "---\n",
        "---\n",
        "1. To spice things up a bit once in a while, you might like to switch to the untrained Open Source GPT-2 model (AFAIK it seems to generate better porn stories than the one trained by the author, while that last one seems to be better at generating adventure stories).\n",
        " - You just have to follow these steps and be very CAREFUL (not really tested, please let me know if it works) (Also I'm not even sure if the files I used are really the vanilla GPT-2 model ones):\n",
        " - Download **[this](https://www31.zippyshare.com/v/MmIhmh8P/file.html)**.\n",
        " - Upload the folder inside the \".rar\" to your Google Drive account.\n",
        " - Go to the Colab.\n",
        " - Now comes the tricky part. There are 2 methods with which you can switch back and for between the trained and untrained AI, the first one involving **editing the Colab (easier)**, while the second one **editing Google Drive (trickier)**. Pick one method and stick with it:\n",
        "\n",
        "> Method A\n",
        "\n",
        "Use the dropdown list of [SECTION 2 - CELL 1](#scrollTo=A_sVH81JyJin)\n",
        " > Method B\n",
        " \n",
        " Each time you want to use a different trained model you will have to rename the desired model folder name (in your Google Drive) to \"AIDungeon\". Then, when you run the [SECTION 2 - CELL 1](#scrollTo=A_sVH81JyJin)'s normal value (AIDungeon) it will load that folder which you just renamed. For simplicity’s sake, just do this:\n",
        "\n",
        "  + For the AI Dungeon 2 trained model: rename its folder (default \"AIDungeon\") to \"AIDungeon-Trained\".\n",
        "  + For the Open Source GPT-2 model:  rename its folder (default \"AIDungeon-Vanilla GPT-2\") to \"AIDungeon-Vanilla GPT-2\".\n",
        "  + When you want to play one of the models just rename the desired model folder to \"AIDungeon\".\n",
        "  + After you finish playing with the desired model, rename back the model folder to its past name.\n",
        "    * BEWARE that if you forget to do this method properly and, by mistake, you run the second and then the third cells, they will replace your model folder named \"AIDungeon\" (inside your Google Drive) with the one being used in the GitHub fork on the second cell. So if, at that moment, you had the \"AIDungeon-Vanilla GPT-2\" model named as \"AIDungeon\", this would overwrite and replace it with the \"AIDungeon\" trained model one from the GitHub fork. YOU HAVE BEEN WARNED.\n",
        "\n",
        " - With either of the methods used, you just need to run the [SECTION 1 - CELL 1](#scrollTo=36Gkd-RytcM_) and [SECTION 2 - CELL 1](#scrollTo=A_sVH81JyJin) to play. If you are using \"AIDungeon-Vanilla GPT-2\" model, the [SECTION 1 - CELL 2](#scrollTo=sSR483VQts7V) and [SECTION 1 - CELL 3](#scrollTo=afImEGdNuC9A) cells won’t affect you, they will only be required to run when updating the GitHub fork when you switch back of model. But BE EXTREMELY CAREFUL with what was said in the warning up there.\n",
        "\n"
      ]
    },
    {
      "cell_type": "markdown",
      "metadata": {
        "id": "nqgPglYzMeek",
        "colab_type": "text"
      },
      "source": [
        "---\n",
        "---\n",
        "---\n",
        "---\n",
        "# SECTION 1 : SETUP\n",
        "---\n",
        "---\n",
        "---\n",
        "---"
      ]
    },
    {
      "cell_type": "markdown",
      "metadata": {
        "id": "36Gkd-RytcM_",
        "colab_type": "text"
      },
      "source": [
        "---\n",
        "---\n",
        "#CELL 1 : Installing dependencies and mounting GDrive\n"
      ]
    },
    {
      "cell_type": "markdown",
      "metadata": {
        "id": "WcHlF6MkP0-Y",
        "colab_type": "text"
      },
      "source": [
        "click the square to run the cell"
      ]
    },
    {
      "cell_type": "code",
      "metadata": {
        "id": "meQ2T-4uxFDN",
        "colab_type": "code",
        "colab": {}
      },
      "source": [
        "!pip install regex\n",
        "!pip install profanityfilter\n",
        "!pip install playsound\n",
        "!pip install func_timeout\n",
        "!pip install tracery\n",
        "from google.colab import drive\n",
        "drive.mount('/content/gdrive', force_remount=True)\n",
        "root_dir = \"/content/gdrive/My Drive/\""
      ],
      "execution_count": 0,
      "outputs": []
    },
    {
      "cell_type": "markdown",
      "metadata": {
        "id": "sSR483VQts7V",
        "colab_type": "text"
      },
      "source": [
        "---\n",
        "---\n",
        "#CELL 2 : Cloning GIT repo to VM"
      ]
    },
    {
      "cell_type": "markdown",
      "metadata": {
        "id": "PULJhld0QWZp",
        "colab_type": "text"
      },
      "source": [
        "Choose your repo on the right and click the square to run the cell. Only Thadunge2 and Unmodded repos are listed but you can use whatever fork you want by just inputting username/repo from github straight to the dropdown list."
      ]
    },
    {
      "cell_type": "code",
      "metadata": {
        "colab_type": "code",
        "id": "4MeHmMf_CUAZ",
        "colab": {}
      },
      "source": [
        "#@title Choose your repo here { form-width: \"30%\", display-mode: \"both\" }\n",
        "repo = \"thadunge2/AIDungeon\" #@param [\"thadunge2/AIDungeon\", \"AIDungeon/AIDungeon/\"] {allow-input: true}\n",
        "!git clone https://github.com/$repo\n",
        "%cd AIDungeon\n",
        "!chmod 777 install.sh \n",
        "!sed -i -e 's/\\r$//' install.sh\n",
        "!./install.sh\n",
        "!chmod 777 download_model.sh \n",
        "!sed -i -e 's/\\r$//' download_model.sh\n",
        "!./download_model.sh\n",
        "from IPython.display import clear_output \n",
        "clear_output()\n",
        "print(\"Download Complete!\")"
      ],
      "execution_count": 0,
      "outputs": []
    },
    {
      "cell_type": "markdown",
      "metadata": {
        "id": "_ZQXntSqJjFT",
        "colab_type": "text"
      },
      "source": [
        "---\n",
        "---\n",
        "# CELL 3 : Updating GIT repo"
      ]
    },
    {
      "cell_type": "markdown",
      "metadata": {
        "id": "D1Ow-hkCJ3Rp",
        "colab_type": "text"
      },
      "source": [
        "Only supports thadunge2 and vanilla GPT2 versions for now"
      ]
    },
    {
      "cell_type": "code",
      "metadata": {
        "id": "k8hQY-z-HGkO",
        "colab_type": "code",
        "colab": {}
      },
      "source": [
        "#@title Select GPT2 type here { form-width: \"30%\", display-mode: \"both\" }\n",
        "GPT2_Type = \"AIDungeon\" #@param [\"AIDungeon\", \"AIDungeon-Vanilla GPT-2\"]\n",
        "%cd \"/content/gdrive/My Drive/\"$GPT2_Type\n",
        "!git pull"
      ],
      "execution_count": 0,
      "outputs": []
    },
    {
      "cell_type": "markdown",
      "metadata": {
        "id": "afImEGdNuC9A",
        "colab_type": "text"
      },
      "source": [
        "---\n",
        "---\n",
        "#CELL 4 : Copying game files from VM to GDrive"
      ]
    },
    {
      "cell_type": "markdown",
      "metadata": {
        "id": "dKSFipS_CuoC",
        "colab_type": "text"
      },
      "source": [
        "click the square to run the cell"
      ]
    },
    {
      "cell_type": "code",
      "metadata": {
        "colab_type": "code",
        "id": "6y7zF5AdCTSz",
        "colab": {}
      },
      "source": [
        "%cd /content/gdrive/My\\ Drive/\n",
        "!mkdir AIDungeon\n",
        "!mv /content/AIDungeon/{,.[^.]}* /content/gdrive/My\\ Drive/AIDungeon"
      ],
      "execution_count": 0,
      "outputs": []
    },
    {
      "cell_type": "markdown",
      "metadata": {
        "id": "sad33SaPNMQU",
        "colab_type": "text"
      },
      "source": [
        "---\n",
        "---\n",
        "---\n",
        "---\n",
        "# SECTION 2 : PLAY THE GAME\n",
        "---\n",
        "---\n",
        "---\n",
        "---"
      ]
    },
    {
      "cell_type": "markdown",
      "metadata": {
        "id": "A_sVH81JyJin",
        "colab_type": "text"
      },
      "source": [
        "---\n",
        "---\n",
        "# CELL 1 : Select the GPT-2 type you want to use then run the cell."
      ]
    },
    {
      "cell_type": "markdown",
      "metadata": {
        "id": "vunT3Rp-lO6N",
        "colab_type": "text"
      },
      "source": [
        "Make sure you have downloaded the file in \"Try something else\" and uploaded it in your gdrive before attempting to run AIDungeon-Vanilla GPT2"
      ]
    },
    {
      "cell_type": "code",
      "metadata": {
        "colab_type": "code",
        "id": "3F-suih1TuDZ",
        "colab": {}
      },
      "source": [
        "#@title Select GPT2 type here { form-width: \"30%\", display-mode: \"both\" }\n",
        "GPT2_Type = \"AIDungeon-Vanilla GPT-2\" #@param [\"AIDungeon\", \"AIDungeon-Vanilla GPT-2\"]\n",
        "%cd \"/content/gdrive/My Drive/\"$GPT2_Type\n",
        "from IPython.display import Javascript\n",
        "display(Javascript('''google.colab.output.setIframeHeight(0, true, {maxHeight: 5000})'''))\n",
        "!python play.py"
      ],
      "execution_count": 0,
      "outputs": []
    },
    {
      "cell_type": "markdown",
      "metadata": {
        "id": "9mO5XY3HOBKN",
        "colab_type": "text"
      },
      "source": [
        "---\n",
        "---\n",
        "---\n",
        "---\n",
        "# SECTION 3 : OPTIONAL\n",
        "---\n",
        "---\n",
        "---\n",
        "---"
      ]
    },
    {
      "cell_type": "markdown",
      "metadata": {
        "id": "zITeSYmJvBp4",
        "colab_type": "text"
      },
      "source": [
        "---\n",
        "---\n",
        "# CELL 1 : Maximize RAM"
      ]
    },
    {
      "cell_type": "markdown",
      "metadata": {
        "id": "s8JwIpZhqxJa",
        "colab_type": "text"
      },
      "source": [
        "If you get an OOM (out of memory error, random crashes) you might want to increase the available RAM. To do this, run the code below. Wait until it crashes and a little message pops up (takes about 80-85 seconds) asking if you'd like to increase the available memory. Say yes and run the game."
      ]
    },
    {
      "cell_type": "code",
      "metadata": {
        "id": "Zb8MBT52sIHn",
        "colab_type": "code",
        "colab": {}
      },
      "source": [
        "thislist = [\"1\"]\n",
        "while 1:\n",
        "    thislist.append(\"1\")"
      ],
      "execution_count": 0,
      "outputs": []
    }
  ]
}