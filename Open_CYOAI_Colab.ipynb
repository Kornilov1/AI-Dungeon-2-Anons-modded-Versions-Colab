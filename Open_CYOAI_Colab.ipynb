{
  "nbformat": 4,
  "nbformat_minor": 0,
  "metadata": {
    "colab": {
      "name": "Open CYOAI Colab v1.2.ipynb",
      "provenance": [],
      "collapsed_sections": [],
      "machine_shape": "hm",
      "include_colab_link": true
    },
    "kernelspec": {
      "name": "python3",
      "display_name": "Python 3"
    },
    "accelerator": "GPU"
  },
  "cells": [
    {
      "cell_type": "markdown",
      "metadata": {
        "id": "view-in-github",
        "colab_type": "text"
      },
      "source": [
        "<a href=\"https://colab.research.google.com/github/Kornilov1/AI-Dungeon-2-Anons-modded-Versions-Colab/blob/master/Open_CYOAI_Colab.ipynb\" target=\"_parent\"><img src=\"https://colab.research.google.com/assets/colab-badge.svg\" alt=\"Open In Colab\"/></a>"
      ]
    },
    {
      "cell_type": "markdown",
      "metadata": {
        "id": "7dRi_BDWErNf",
        "colab_type": "text"
      },
      "source": [
        "# ![Special Edition](https://i.ibb.co/h1v7yNz/1577001234473.png)\n",
        "Based on [Nick Walton](https://twitter.com/nickwalton00)'s work."
      ]
    },
    {
      "cell_type": "markdown",
      "metadata": {
        "id": "0FBTZwEOzKQ1",
        "colab_type": "text"
      },
      "source": [
        "---\n",
        "### About the game\n",
        "---"
      ]
    },
    {
      "cell_type": "markdown",
      "metadata": {
        "id": "JICnNPtb6S-I",
        "colab_type": "text"
      },
      "source": [
        "AI Dungeon 2 is a completely AI generated text adventure built with OpenAI's largest GPT-2 model. It's a first of it's kind game that allows you to enter and will react to any action you can imagine.\n",
        "\n",
        "This is a mod of the base game made entirely by the collective efforts of Anons, so you know what to expect from this.\n",
        "\n",
        "This colab is a frontend aiming to allow users to easily run different versions of AIDungeon 2. It is under [AGPL](https://github.com/Kornilov1/AI-Dungeon-2-Anons-modded-Versions-Colab/blob/master/LICENSE)\n",
        "\n",
        "\n",
        "\n",
        "\n",
        "\n",
        "All modded versions uses the AIDungeon 2's default model_v5 unless explicit mention.\n",
        "Currently supported repositories, with their licenses :\n",
        "* [Thadunge2](https://github.com/thadunge2/AIDungeon/) - [AGPL](https://github.com/thadunge2/AIDungeon/blob/master/LICENSE)\n",
        "* [Clover-Edition](https://github.com/cloveranon/Clover-Edition) - [MIT](https://github.com/cloveranon/Clover-Edition/blob/master/LICENSE)\n",
        "\n",
        "If you would like to install the game locally to run directly in your PC instead of through here, go [here](https://pastebin.com/KH12Yq81) and follow the instructions.\n",
        "\n",
        "To see most changes, addons, instructions, explanations and different versions made by the collective effort of Anons through the threads, just go [here](https://pastebin.com/t0BTyd5H) and read through the pastebins.\n"
      ]
    },
    {
      "cell_type": "markdown",
      "metadata": {
        "id": "9OyOAgpo0XfU",
        "colab_type": "text"
      },
      "source": [
        "---\n",
        "### Disclaimer about [Nick Walton](https://twitter.com/nickwalton00) (original author)\n",
        "---"
      ]
    },
    {
      "cell_type": "markdown",
      "metadata": {
        "id": "0hFoc_QD0U9j",
        "colab_type": "text"
      },
      "source": [
        "* He's not as intelligent as he lets on; he...\n",
        "    * relies on a (free) third-party library for the AI; his own code could be written by any programming student\n",
        "        * [Exhibit A](https://github.com/openai/gpt-2): OpenAI's GPT-2 framework\n",
        "    * used university resources to get the project off the ground\n",
        "        * _BETA TEXT: exhibit(s) needed_\n",
        "    * screwed up the formating of the AI's training data (causes most of the erroneous AI responses)\n",
        "        * _BETA TEXT: exhibit(s) needed_\n",
        "    * chose AI training datasets that are not useful to storytelling\n",
        "        * _BETA TEXT: exhibit(s) needed_\n",
        "\n",
        "\n",
        "* He begs for money on Patreon...\n",
        "    * and makes promises to his backers while lacking essential knowledge on what he's even doing:\n",
        "        * He knows nothing on how to transfer data and relied on us\n",
        "            * [Exhibit A](https://web.archive.org/web/20191223063209/https:/twitter.com/nickwalton00/status/1203843111287316485): Tweet from shortly after the project's surge of popularity\n",
        "    * while misrepresenting the ongoing costs:\n",
        "        * The AI model is distributed by torrent, **which incurs no hosting costs**\n",
        "            * [Exhibit A](https://github.com/AIDungeon/AIDungeon/blob/master/download_model.sh) & [Exhibit B](https://github.com/nickwalton/AIDungeon/blob/master/download_model.sh): The download script on Walton's repos\n",
        "        * He **does** pay for Amazon Web Services for the phone apps (that he may not have even developed himself), but he could very easily just use Colab in the same way this repo does\n",
        "            * _BETA TEXT: exhibit(s) needed_\n",
        "    * and barely even works on the game:\n",
        "        * He works almost exclusively on his .ipynb and profits off those who develop and fix his game for him\n",
        "            * [Exhibit A](https://github.com/AIDungeon/AIDungeon/commits/master): History of AIDungeon 2's GitHub\n",
        "\n",
        "\n",
        "* He is vying for full community control, as evidenced by his attempt to shut down this colab...\n",
        "    * by citing breach of copyright over a logo, despite not being a member of the associated Copyright Licensing Office\n",
        "        * _BETA TEXT: exhibit(s) needed_\n",
        "    * and did not even try to hide he was motivated by wanting to remove content he deemed offensive\n",
        "        * [Exhibit A](https://github.com/Kornilov1/AI-Dungeon-2-Anons-modded-Versions-Colab/issues/140): C&D via Repo Issue\n",
        "    * which makes him a hypocrite, due to his own distribution of offensive content\n",
        "        * [Exhibit A](https://i.ibb.co/FHbwvYw/1576830623440.png), [Exhibit B](https://i.ibb.co/MCf0kgp/1576831691518.png), [Exhibit C](https://i.ibb.co/rpGyzvQ/1576831799954.png): Datasets he used for the AI model\n",
        "        \n",
        "_This may be a coincidence, but is worth mentioning for posterity: While we were discussing on putting a license to prevent him from using Anons' code (to have at least him say **where he got the code** from), we received the aforementioned Cease and Desist \"**order**\". [Archived thread](https://web.archive.org/web/20191221190204/https://arch.b4k.co/v/thread/489594729/). This is why the AGPL license was decided on._\n",
        "\n",
        "* In summation:\n",
        "    * He has handled the project poorly and on how he has proven that he has **no idea on what he is doing** and **relies entirely on others to fix things**, all while **profiting** from it.\n",
        "    * He _does_ deserve credit for being the first to present a playable form of this use of the technology.\n",
        "    * He **doesn't** deserve your money. If you already donated, try to pull out."
      ]
    },
    {
      "cell_type": "markdown",
      "metadata": {
        "id": "xn0bEX3R8IMC",
        "colab_type": "text"
      },
      "source": [
        "---\n",
        "### Initial Setup\n",
        "---"
      ]
    },
    {
      "cell_type": "markdown",
      "metadata": {
        "id": "Fr5j3r9N3v39",
        "colab_type": "text"
      },
      "source": [
        "*For a comfier experience, click \"Tools\"-> \"Settings...\" -> \"Theme\" -> \"Dark\"*\n",
        "\n",
        "*If you have already downloaded the \"model_v5\" folder through torrent, I advise against deleting it, it might come handy in the future. If anyone is curious [here is the torrent](https://github.com/nickwalton/AIDungeon/files/3935881/model_v5.torrent.zip)*."
      ]
    },
    {
      "cell_type": "markdown",
      "metadata": {
        "id": "1kFSce_Y2Gys",
        "colab_type": "text"
      },
      "source": [
        "1. First **make sure you have a Google Drive account with at least 6GB of free space in it and that you are signed up**.\n",
        "2. On the top left: Click \"File\"-> \"Save a a copy in Drive\". A new tab will open, **close the current tab and use the new one**.\n",
        "3. Delete your AIdungeon folder in your Google Drive if it's already in it."
      ]
    },
    {
      "cell_type": "markdown",
      "metadata": {
        "id": "gmioGz252Ghx",
        "colab_type": "text"
      },
      "source": [
        "---\n",
        "### How to play\n",
        "---"
      ]
    },
    {
      "cell_type": "markdown",
      "metadata": {
        "id": "kp6f3co42GFg",
        "colab_type": "text"
      },
      "source": [
        "1. (Optional) Run the [SECTION 2 - CELL 1](#scrollTo=zITeSYmJvBp4) for more RAM, the allocated GPU will crash (takes about 10 seconds) and Google Colab will offer you an option to get more RAM (max is 25GB), if you already have max RAM you can skip this.\n",
        "2. Go to [SECTION 1 : PLAY THE GAME](#scrollTo=nqgPglYzMeek), select the modded game version of your choice, chose the height of the game output, run the cell and play.\n",
        "3. (Optional) Go to [SECTION 2 - CELL 2](#scrollTo=ooL1ozRUgO5r) to see some Drawfag OC."
      ]
    },
    {
      "cell_type": "markdown",
      "metadata": {
        "id": "88pDH9FP0TCz",
        "colab_type": "text"
      },
      "source": [
        "---\n",
        "### Latest News\n",
        "---"
      ]
    },
    {
      "cell_type": "markdown",
      "metadata": {
        "id": "pEm0jTmB0jty",
        "colab_type": "text"
      },
      "source": [
        "* **Workarounds**\n",
        "    * Ghost files in Google Drive\n",
        "        * It appears Google's UI sucks and lags as fuck, but **as soon as you hit \"Empty trash bin\", you're good**, even if it continues to show files and a full storage space bar (give it some time and it shows the changes). **It's just their shitty UI**. **Not real files**.\n",
        "            * Runtime -> reset environment -> GDrive -> Delete whatever you want to delete -> Empty trash bin\n",
        "\n",
        "---\n",
        " + **AIDungeon**\n",
        "\n",
        "    *  [Changelog](https://github.com/thadunge2/AIDungeon/blob/master/CHANGELOG.md)\n",
        "\n",
        "---\n",
        " + **Clover-Edition**\n",
        "\n",
        "    * Added custom prompts and word-wrapping\n",
        "\n",
        "---\n",
        "* **Colab**\n",
        "    * Completly re-worked the play cells so that now there is a all in one cell.\n",
        "    * This Colab can now support drawfag creations, find them in [SECTION 2 - CELL 2](#scrollTo=ooL1ozRUgO5r). We need feedback on this."
      ]
    },
    {
      "cell_type": "markdown",
      "metadata": {
        "id": "nqgPglYzMeek",
        "colab_type": "text"
      },
      "source": [
        "\n",
        "---\n",
        "---\n",
        "## SECTION 1 : PLAY THE GAME\n",
        "---\n",
        "---"
      ]
    },
    {
      "cell_type": "code",
      "metadata": {
        "id": "mgeE5kbXXr6o",
        "colab_type": "code",
        "colab": {}
      },
      "source": [
        "# All comments starting with @something are actually \n",
        "# the visible text when the code is hidden.\n",
        "#@title <- Click this once you're all set { form-width: \"10%\", display-mode: \"form\" }\n",
        "\n",
        "# Here goes all the class imports needed by the cell\n",
        "from google.colab import drive\n",
        "from IPython.display import clear_output, Javascript, HTML\n",
        "from IPython import os\n",
        "\n",
        "# This will mount GDrive into the VM at /content/gdrive/My Drive\n",
        "# and place us in it\n",
        "print('----------------------------------------------------')\n",
        "print(\"Hello there Anon! Let us begin with the Google login\")\n",
        "print('It will authorize Colab to access your GDrive')\n",
        "print('----------------------------------------------------\\n\\n')\n",
        "drive.mount('/content/gdrive')\n",
        "root_dir = \"/content/gdrive/My Drive/\"\n",
        "\n",
        "# This will install needed dependencies\n",
        "print('\\n\\n----------------------------------------------------')\n",
        "print(\"Now we must install some dependencies\")\n",
        "print('----------------------------------------------------\\n\\n')\n",
        "!pip install regex\n",
        "!pip install profanityfilter\n",
        "!pip install playsound\n",
        "!pip install func_timeout\n",
        "!pip install tracery\n",
        "!pip install cryptography\n",
        "\n",
        "# These variables are dynamically changed depending of the form\n",
        "#@markdown Choose which modded AIDungeon 2 you want to run\n",
        "repository = \"thadunge2/AIDungeon\" #@param [\"thadunge2/AIDungeon\", \"cloveranon/Clover-Edition\"]\n",
        "#@markdown Select the maximum height (in pixels) of the game render\n",
        "heightmax = 5000 #@param {type:\"slider\", min:0, max:10000, step:100}\n",
        "#@markdown Double-click here to show/hide the code if you're a curiousfag\n",
        "# This small code sets all variables needed according to the repository variable\n",
        "# Is compatible with any repo using the standard filesystem. Just ad a new \"if (repo...\" block\n",
        "# and enter the repo variables to set it up.\n",
        "if (repository == \"thadunge2/AIDungeon\"):\n",
        "  gamename = \"AIDungeon\"\n",
        "  gamefolder = \"AIDungeon\"\n",
        "  gamepath = \"/content/gdrive/My Drive/AIDungeon\"\n",
        "  modelpath = \"/content/gdrive/My Drive/AIDungeon/generator/gpt2/models/model_v5\"\n",
        "  remotegit = \"https://github.com/thadunge2/AIDungeon\"\n",
        "if (repository == \"cloveranon/Clover-Edition\"):\n",
        "  gamename = \"Clover-Edition\"\n",
        "  gamefolder = \"Clover-Edition\"\n",
        "  gamepath = \"/content/gdrive/My Drive/Clover-Edition\"\n",
        "  modelpath = \"/content/gdrive/My Drive/Clover-Edition/generator/gpt2/models/model_v5\"\n",
        "  remotegit = \"https://github.com/cloveranon/Clover-Edition\"\n",
        "\n",
        "# This is the main code. It checks the existence of the game main folder and\n",
        "# the game's model_v5 folder. in case it doesn't found the game path, it asks\n",
        "# you to install the game. If it finds the game, but not the model_v5 folder,\n",
        "# it asks you if you want to try to download it from the scripts in the game\n",
        "# folder. if it can't install the game or get the model_v5 folder, it aborts\n",
        "# cell with a (warned) crash. It's the only way I know to stop a cell by itself.\n",
        "# If it finds the game folder and the model_v5 folder, it goes straight to\n",
        "# !git fetch.\n",
        "if os.path.isdir(gamepath):\n",
        "    print('\\n\\n----------------------------------------------------')\n",
        "    print(str(gamename) + \"'s folder found!\")\n",
        "    print('----------------------------------------------------\\n\\n')    \n",
        "else:\n",
        "    answer = None\n",
        "    while answer not in (\"yes\",\"no\",\"y\",\"n\"):\n",
        "        answer = input('\\n' + str(gamename) + \"'s folder not found. Do you want to install \" + str(gamename) + \"? (yes, y / no, n)\\n\\n\")\n",
        "        if answer in (\"yes\",\"y\"):\n",
        "            try:\n",
        "                input('MAKE SURE TO CHOOSE YES if/when it asks you if you want to RE-DOWNLOAD the model.\\nPress Enter to start the installation...\\n')\n",
        "                !git clone $remotegit\n",
        "                %cd -q $gamefolder\n",
        "                !chmod 777 install.sh \n",
        "                !sed -i -e 's/\\r$//' install.sh\n",
        "                !./install.sh\n",
        "                !chmod 777 download_model.sh \n",
        "                !sed -i -e 's/\\r$//' download_model.sh\n",
        "                !./download_model.sh\n",
        "                %cd -q $root_dir\n",
        "                !mkdir $gamefolder\n",
        "                print('Moving the files from VM to GDrive. Can be a bit long.')\n",
        "                #URGENT try to find a verbose mode or a thing to show some progress for !mv URGENT\n",
        "                !mv -v \"/content/${gamefolder}/\"{,.[^.]}* \"/content/gdrive/My Drive/${gamefolder}\"\n",
        "            except KeyboardInterrupt:\n",
        "                pass\n",
        "                if os.path.isdir(gamepath):\n",
        "                    print('----------------------------------------------------')\n",
        "                    print(str(gamename) + \"'s successfully installed!\")\n",
        "                    print('----------------------------------------------------\\n\\n')                    \n",
        "                    if os.path.isdir(modelpath):\n",
        "                        print('----------------------------------------------------')\n",
        "                        print('model_v5 successfully installed!')\n",
        "                        print('----------------------------------------------------\\n\\n')                        \n",
        "                    else:\n",
        "                        input('Something went wrong, model_v5 folder is missing.\\nSend this to the thread :\\nERROR : MISSING MODEL_V5 POST-INSTALL\\nThe cell will crash now, please press ENTER...\\n')\n",
        "                        # URGENT try a rerun with magics or find a way to stop cell without force crash URGENT\n",
        "                        raise SystemExit\n",
        "        elif answer in (\"no\",\"n\"):\n",
        "            input(\"Without install, the game can't run.\\nThe cell will crash now, please press ENTER...\\n\")\n",
        "                # URGENT try a rerun with magics or find a way to stop cell without force crash URGENT\n",
        "            raise SystemExit\n",
        "        else:\n",
        "            print(\"Accepted inputs: yes, y, no, n.\")\n",
        "\n",
        "\n",
        "if os.path.isdir(modelpath):\n",
        "    print('\\n\\n----------------------------------------------------')\n",
        "    print(\"model_v5 folder found!\")\n",
        "    print('----------------------------------------------------\\n\\n')    \n",
        "else:\n",
        "    answer = None\n",
        "    while answer not in (\"yes\",\"no\",\"y\",\"n\"):\n",
        "        answer = input(\"model_v5 folder not found!\\nDo you want to try to download it with \" + str(gamename) + \"'s scripts?\\n\\n\")\n",
        "        #COMING (as) SOON (as I figure out how to do it) : Our own download model_v5 script to avoid git hub scripts issues\n",
        "        if answer in (\"yes\",\"y\"):\n",
        "            try:\n",
        "                input('MAKE SURE TO CHOOSE YES if/when it asks you if you want to RE-DOWNLOAD the model.\\nPress Enter to start the download...\\n')\n",
        "            except KeyboardInterrupt:\n",
        "                pass\n",
        "                %cd -q $gamepath\n",
        "                !chmod 777 download_model.sh \n",
        "                !sed -i -e 's/\\r$//' download_model.sh\n",
        "                !./download_model.sh\n",
        "                if os.path.isdir(modelpath):\n",
        "                    print('\\n\\n----------------------------------------------------')\n",
        "                    print(\"model_v5 folder found!\")\n",
        "                    print('----------------------------------------------------\\n\\n')\n",
        "                else:\n",
        "                    input(\"The model_v5 folder is still not there.\\nSend this to the thread :\\nERROR : MISSING MODEL_V5 STANDARD CHECK RE DOWNLOAD FAIL\\nThe cell will crash now, please press ENTER...\\n\")\n",
        "                    #  URGENT try a rerun with magics or find a way to stop cell without force crash URGENT\n",
        "                    raise SystemExit\n",
        "        elif answer in (\"no\",\"n\"):\n",
        "                input(\"You can get the torrent file here :\\nhttps://github.com/nickwalton/AIDungeon/files/3935881/model_v5.torrent.zip\\nThe cell will now crash.\\nPlease press Enter...\")\n",
        "                #  URGENT try a rerun with magics or find a way to stop cell without force crash URGENT\n",
        "                raise SystemExit\n",
        "        else:\n",
        "            print(\"Accepted inputs: yes, y, no, n.\\n\")\n",
        "# The last bits of code. Checking for update verbose mode to\n",
        "# show the message when it's already up-to-date.\n",
        "%cd -q $gamepath\n",
        "!git fetch -v\n",
        "# Asking if you want to update. might be a way to hook the fetch result and\n",
        "# determine if it's needed, but it's quite minor. For now, this will do the job.\n",
        "answer = None\n",
        "while answer not in (\"yes\",\"no\",\"y\",\"n\"):\n",
        "    answer = input(\"Do you need/want to update?\\n\")\n",
        "    if answer in (\"yes\",\"y\"):\n",
        "        !git pull\n",
        "    elif answer in (\"no\",\"n\"):\n",
        "        # Nothing needed here, goes straight to clear_output()\n",
        "        pass\n",
        "    else:\n",
        "        print(\"Accepted inputs: yes, y, no, n.\\n\")\n",
        "# Launching the game\n",
        "try:\n",
        "    input('Press Enter to play...\\n')\n",
        "except KeyboardInterrupt:\n",
        "    pass\n",
        "clear_output()\n",
        "display(Javascript('''google.colab.output.setIframeHeight(0, true, {maxHeight: heightmax})'''))\n",
        "!python play.py\n",
        "reduceType = ['int8', 'float8']"
      ],
      "execution_count": 0,
      "outputs": []
    },
    {
      "cell_type": "markdown",
      "metadata": {
        "id": "9mO5XY3HOBKN",
        "colab_type": "text"
      },
      "source": [
        "\n",
        "---\n",
        "---\n",
        "## SECTION 2 : OPTIONAL\n",
        "---\n",
        "---"
      ]
    },
    {
      "cell_type": "markdown",
      "metadata": {
        "id": "zITeSYmJvBp4",
        "colab_type": "text"
      },
      "source": [
        "### CELL 1 : Maximize RAM"
      ]
    },
    {
      "cell_type": "code",
      "metadata": {
        "id": "Zb8MBT52sIHn",
        "colab_type": "code",
        "colab": {}
      },
      "source": [
        "#@title <- Run this cell if you suffer an out of memory (OOM) error. { form-width: \"10%\", display-mode: \"form\" }\n",
        "#@markdown *Wait until it crashes and a little message pops up (takes about 10 seconds) asking if you'd like to increase the available memory.*\n",
        "#@markdown\n",
        "#@markdown  *Say yes and run the game in [SECTION 1 : PLAY THE GAME](#scrollTo=nqgPglYzMeek).*\n",
        "thislist = [\"1\"]\n",
        "while 1:\n",
        "    thislist *= 10"
      ],
      "execution_count": 0,
      "outputs": []
    },
    {
      "cell_type": "markdown",
      "metadata": {
        "id": "ooL1ozRUgO5r",
        "colab_type": "text"
      },
      "source": [
        "---\n",
        "---\n",
        "### CELL 2 : Drawfag OC"
      ]
    },
    {
      "cell_type": "markdown",
      "metadata": {
        "id": "nQN338QjYrqO",
        "colab_type": "text"
      },
      "source": [
        "Run this cell and get a random image from a Git repo with some drawfag stuff. The pic is even clickable so you can go straight to its Github page."
      ]
    },
    {
      "cell_type": "markdown",
      "metadata": {
        "id": "U7FT4lAWZILx",
        "colab_type": "text"
      },
      "source": [
        "*The cell is currently in development. It works perfectly in its current state, but have some flaws explained under the cell for curiousfags.*"
      ]
    },
    {
      "cell_type": "code",
      "metadata": {
        "id": "g9BG1IB6gl5L",
        "colab_type": "code",
        "colab": {}
      },
      "source": [
        "from IPython.display import HTML, Image\n",
        "from random import choice\n",
        "# listing of pictures made from github filenames (currently 1 to 12 and all .png)\n",
        "sequence = [i for i in range(1, 13)]\n",
        "# select a random pic\n",
        "for _ in range(1):\n",
        "\tpic = choice(sequence)\n",
        "# because fucktards\n",
        "print (\"<- Click this icon to close the pic. Big pictures take longer to load.\")\n",
        "# draw the pic and make it clickable to check it on github\n",
        "HTML(\"<center><a href=https://github.com/AIDungeonpastes/AID2-Art/tree/master/art/\" + str(pic) + \".png target=_blank><img src=https://raw.githubusercontent.com/AIDungeonpastes/AID2-Art/master/art/\" + str(pic) + \".png></a></center>\")"
      ],
      "execution_count": 0,
      "outputs": []
    },
    {
      "cell_type": "markdown",
      "metadata": {
        "id": "1dwuWFcBZ_Eu",
        "colab_type": "text"
      },
      "source": [
        "*   The pictures listing is not dynamic and if any picture name change, the script will broke on it.\n",
        "*   Any new picture in the repo needs the (1, 13) to be implemented manually accordingly (basically +1 for each new pic)\n",
        "*   By default, Colab cells output scrolls down to the last line, meaning you have to scroll up to the beginning of the story\n",
        "\n"
      ]
    }
  ]
}
