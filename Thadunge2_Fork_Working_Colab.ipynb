{
  "nbformat": 4,
  "nbformat_minor": 0,
  "metadata": {
    "colab": {
      "name": "Thadunge2 Fork Working Colab.ipynb",
      "provenance": [],
      "collapsed_sections": [],
      "include_colab_link": true
    },
    "kernelspec": {
      "name": "python3",
      "display_name": "Python 3"
    },
    "accelerator": "GPU"
  },
  "cells": [
    {
      "cell_type": "markdown",
      "metadata": {
        "id": "view-in-github",
        "colab_type": "text"
      },
      "source": [
        "<a href=\"https://colab.research.google.com/github/Kornilov1/Thadunge2-Fork-Working-Colab/blob/Visuals/Thadunge2_Fork_Working_Colab.ipynb\" target=\"_parent\"><img src=\"https://colab.research.google.com/assets/colab-badge.svg\" alt=\"Open In Colab\"/></a>"
      ]
    },
    {
      "cell_type": "markdown",
      "metadata": {
        "id": "7dRi_BDWErNf",
        "colab_type": "text"
      },
      "source": [
        "# ![Special Edition](https://i.ibb.co/zN5YfKR/V-special-edition.jpg)\n",
        "\n",
        "### Based on <a href=\"https://twitter.com/nickwalton00?ref_src=twsrc%5Etfw\" class=\"twitter-follow-button\" data-show-count=\"false\">Nick Walton</a>'s work.\n",
        "\n",
        "## About\n",
        "AI Dungeon 2 is a completely AI generated text adventure built with OpenAI's largest GPT-2 model. It's a first of it's kind game that allows you to enter and will react to any action you can imagine.\n",
        "\n",
        "This is a mod of the base game made entirely by the collective efforts of Anons, so you know what to expect from this.\n",
        "\n"
      ]
    },
    {
      "cell_type": "markdown",
      "metadata": {
        "id": "xn0bEX3R8IMC",
        "colab_type": "text"
      },
      "source": [
        "---\n",
        "#How to play\n",
        "---\n",
        "\n",
        "*When you are asked to run a cell, click this*\n",
        "\n",
        "![THIS !](https://i.ibb.co/Bjh7R8g/run-cell.jpg)\n",
        "\n",
        "*Make sure each command is finished, some of them take a while to process.*\n",
        "\n",
        "*For a comfier experience, click \"Tools\"-> \"Settings...\" -> \"Theme\" -> \"Dark\"*\n",
        "\n",
        "*Run the [SECTION 3 - CELL 1](#scrollTo=zITeSYmJvBp4) if you want more RAM, the allocated GPU will crash (takes about 80-85 seconds) and Google Colab will offer you an option to get more RAM (max is 25GB).*\n",
        "\n",
        "*If you have already downloaded the \"model_v5\" folder through torrent, I advise against deleting it, it might come handy in the future. If anyone is curious [here is the torrent](https://github.com/nickwalton/AIDungeon/files/3935881/model_v5.torrent.zip)*.\n",
        "\n",
        "---\n",
        "\n",
        "1. First **make sure you have a Google Drive account with at least 6Gb of free space in it and that you are signed up**.\n",
        "2. On the top left: Click \"File\"-> \"Save a a copy in Drive\". A new tab will open, **close the current tab and use the new one**.\n",
        "3. Delete your AIdungeon folder in your Google Drive if it's already in it.\n",
        "4. Run the [SECTION 1 - CELL 1](#scrollTo=36Gkd-RytcM_), it will install needed dependencies and mount your Google Drive. **It will ask for authorization so follow the link given and log in, then paste the code back in the box that showed up under the code and press enter**.\n",
        "5. Run the [SECTION 1 - CELL 2](#scrollTo=sSR483VQts7V), it will download the game files to /content/AIDungeon/. You can also freely choose your favorite repo there.\n",
        "6. Run the [SECTION 1 - CELL **4**](#scrollTo=afImEGdNuC9A), it will copy the game files to your Google Drive so they won't have to be downloaded every time.\n",
        "7. Now AIDungeon is correctly installed in your Google Drive, you just need to run the [SECTION 2 - CELL 1](#scrollTo=A_sVH81JyJin) to play, but **DO NOT REPEAT THE PREVIOUS STEPS**"
      ]
    },
    {
      "cell_type": "markdown",
      "metadata": {
        "id": "gYodcvnfF7za",
        "colab_type": "text"
      },
      "source": [
        "---\n",
        "# How to play again / update / try something else\n",
        "---\n",
        "\n",
        "Play again\n",
        "\n",
        "1. When running the game **again** (i.e.: after you closed the tab) just:\n",
        " - Run the [SECTION 1 - CELL 1](#scrollTo=36Gkd-RytcM_). You will need to authorize it again.\n",
        "        + If this cell gives you an error, try clicking \"Runtime\"-> \"Restart runtime\" on the top of the screen.\n",
        " - Run the [SECTION 2 - CELL 1](#scrollTo=A_sVH81JyJin) and play the game.\n",
        "---\n",
        "Update\n",
        "---\n",
        "---\n",
        "1. Run [SECTION 1 - CELL 3](#scrollTo=_ZQXntSqJjFT), it will get only the latest changes made on the GitHub\n",
        "2. If you're paranoid and want to make sure everything is up-to-date, you will have to repeat everything over again starting from **How to play - step 3** , from time to time.\n",
        "---\n",
        "Try something else\n",
        "---\n",
        "---\n",
        "1. To spice things up a bit once in a while, you might like to switch to the untrained Open Source GPT-2 model (AFAIK it seems to generate better porn stories than the one trained by the author, while that last one seems to be better at generating adventure stories).\n",
        " - You just have to follow these steps and be very CAREFUL (not really tested, please let me know if it works) (Also I'm not even sure if the files I used are really the vanilla GPT-2 model ones):\n",
        " - Download **[this](https://www31.zippyshare.com/v/MmIhmh8P/file.html)**.\n",
        " - Upload the folder inside the \".rar\" to your Google Drive account.\n",
        " - Go to the Colab.\n",
        " - Now comes the tricky part. There are 2 methods with which you can switch back and for between the trained and untrained AI, the first one involving **editing the Colab (easier)**, while the second one **editing Google Drive (trickier)**. Pick one method and stick with it:\n",
        "\n",
        "> Method A\n",
        "\n",
        "Use the dropdown list of [SECTION 2 - CELL 1](#scrollTo=A_sVH81JyJin)\n",
        " > Method B\n",
        " \n",
        " Each time you want to use a different trained model you will have to rename the desired model folder name (in your Google Drive) to \"AIDungeon\". Then, when you run the [SECTION 2 - CELL 1](#scrollTo=A_sVH81JyJin)'s normal value (AIDungeon) it will load that folder which you just renamed. For simplicity’s sake, just do this:\n",
        "\n",
        "  + For the AI Dungeon 2 trained model: rename its folder (default \"AIDungeon\") to \"AIDungeon-Trained\".\n",
        "  + For the Open Source GPT-2 model:  rename its folder (default \"AIDungeon-Vanilla GPT-2\") to \"AIDungeon-Vanilla GPT-2\".\n",
        "  + When you want to play one of the models just rename the desired model folder to \"AIDungeon\".\n",
        "  + After you finish playing with the desired model, rename back the model folder to its past name.\n",
        "    * BEWARE that if you forget to do this method properly and, by mistake, you run the second and then the third cells, they will replace your model folder named \"AIDungeon\" (inside your Google Drive) with the one being used in the GitHub fork on the second cell. So if, at that moment, you had the \"AIDungeon-Vanilla GPT-2\" model named as \"AIDungeon\", this would overwrite and replace it with the \"AIDungeon\" trained model one from the GitHub fork. YOU HAVE BEEN WARNED.\n",
        "\n",
        " - With either of the methods used, you just need to run the [SECTION 1 - CELL 1](#scrollTo=36Gkd-RytcM_) and [SECTION 2 - CELL 1](#scrollTo=A_sVH81JyJin) to play. If you are using \"AIDungeon-Vanilla GPT-2\" model, the [SECTION 1 - CELL 2](#scrollTo=sSR483VQts7V) and [SECTION 1 - CELL 3](#scrollTo=afImEGdNuC9A) cells won’t affect you, they will only be required to run when updating the GitHub fork when you switch back of model. But BE EXTREMELY CAREFUL with what was said in the warning up there."
      ]
    },
    {
      "cell_type": "markdown",
      "metadata": {
        "id": "nqgPglYzMeek",
        "colab_type": "text"
      },
      "source": [
        "\n",
        "---\n",
        "---\n",
        "# SECTION 1 : SETUP\n",
        "---\n",
        "---"
      ]
    },
    {
      "cell_type": "markdown",
      "metadata": {
        "id": "36Gkd-RytcM_",
        "colab_type": "text"
      },
      "source": [
        "---\n",
        "---\n",
        "#CELL 1 : Installing dependencies and mounting GDrive\n"
      ]
    },
    {
      "cell_type": "markdown",
      "metadata": {
        "id": "WcHlF6MkP0-Y",
        "colab_type": "text"
      },
      "source": [
        "Run the cell.\n",
        "\n",
        "*You must run this cell each time you come back to play before running the game in SECTION 2 - CELL 1*"
      ]
    },
    {
      "cell_type": "code",
      "metadata": {
        "id": "meQ2T-4uxFDN",
        "colab_type": "code",
        "colab": {}
      },
      "source": [
        "!pip install regex\n",
        "!pip install profanityfilter\n",
        "!pip install playsound\n",
        "!pip install func_timeout\n",
        "!pip install tracery\n",
        "from google.colab import drive\n",
        "drive.mount('/content/gdrive', force_remount=True)\n",
        "root_dir = \"/content/gdrive/My Drive/\""
      ],
      "execution_count": 0,
      "outputs": []
    },
    {
      "cell_type": "markdown",
      "metadata": {
        "id": "sSR483VQts7V",
        "colab_type": "text"
      },
      "source": [
        "---\n",
        "---\n",
        "#CELL 2 : Cloning GIT repo to VM"
      ]
    },
    {
      "cell_type": "markdown",
      "metadata": {
        "id": "PULJhld0QWZp",
        "colab_type": "text"
      },
      "source": [
        "Choose your repo from the available list then run the cell.\n",
        "\n",
        "*Only Thadunge2 and Unmodded repos are listed but you can use whatever fork you want by just inputting username/repo from github straight to the dropdown list.*"
      ]
    },
    {
      "cell_type": "code",
      "metadata": {
        "colab_type": "code",
        "id": "4MeHmMf_CUAZ",
        "colab": {}
      },
      "source": [
        "#@title Choose your repo here { vertical-output: true, form-width: \"95%\", display-mode: \"both\" }\n",
        "repo = \"thadunge2/AIDungeon\" #@param [\"thadunge2/AIDungeon\", \"AIDungeon/AIDungeon/\"] {allow-input: true}\n",
        "!git clone https://github.com/$repo\n",
        "%cd AIDungeon\n",
        "!chmod 777 install.sh \n",
        "!sed -i -e 's/\\r$//' install.sh\n",
        "!./install.sh\n",
        "!chmod 777 download_model.sh \n",
        "!sed -i -e 's/\\r$//' download_model.sh\n",
        "!./download_model.sh\n",
        "from IPython.display import clear_output \n",
        "clear_output()\n",
        "print(\"Download Complete!\")"
      ],
      "execution_count": 0,
      "outputs": []
    },
    {
      "cell_type": "markdown",
      "metadata": {
        "id": "_ZQXntSqJjFT",
        "colab_type": "text"
      },
      "source": [
        "---\n",
        "---\n",
        "# CELL 3 : Updating GIT repo"
      ]
    },
    {
      "cell_type": "markdown",
      "metadata": {
        "id": "D1Ow-hkCJ3Rp",
        "colab_type": "text"
      },
      "source": [
        "Run this cell from time to time to update the repo you use.\n",
        "\n",
        "*Only supports Thadunge2 and Unmodded versions for now*"
      ]
    },
    {
      "cell_type": "code",
      "metadata": {
        "id": "k8hQY-z-HGkO",
        "colab_type": "code",
        "colab": {}
      },
      "source": [
        "#@title Select GPT2 type here { vertical-output: true, form-width: \"95%\", display-mode: \"both\" }\n",
        "GPT2_Type = \"AIDungeon\" #@param [\"AIDungeon\", \"AIDungeon-Vanilla GPT-2\"]\n",
        "%cd \"/content/gdrive/My Drive/\"$GPT2_Type\n",
        "!git pull"
      ],
      "execution_count": 0,
      "outputs": []
    },
    {
      "cell_type": "markdown",
      "metadata": {
        "id": "afImEGdNuC9A",
        "colab_type": "text"
      },
      "source": [
        "---\n",
        "---\n",
        "#CELL 4 : Copying game files from VM to GDrive"
      ]
    },
    {
      "cell_type": "markdown",
      "metadata": {
        "id": "dKSFipS_CuoC",
        "colab_type": "text"
      },
      "source": [
        "Run the cell."
      ]
    },
    {
      "cell_type": "code",
      "metadata": {
        "colab_type": "code",
        "id": "6y7zF5AdCTSz",
        "colab": {},
        "cellView": "both"
      },
      "source": [
        "%cd /content/gdrive/My\\ Drive/\n",
        "!mkdir AIDungeon\n",
        "!mv /content/AIDungeon/{,.[^.]}* /content/gdrive/My\\ Drive/AIDungeon"
      ],
      "execution_count": 0,
      "outputs": []
    },
    {
      "cell_type": "markdown",
      "metadata": {
        "id": "sad33SaPNMQU",
        "colab_type": "text"
      },
      "source": [
        "---\n",
        "---\n",
        "# SECTION 2 : PLAY THE GAME\n",
        "---\n",
        "---"
      ]
    },
    {
      "cell_type": "markdown",
      "metadata": {
        "id": "A_sVH81JyJin",
        "colab_type": "text"
      },
      "source": [
        "---\n",
        "---\n",
        "# CELL 1 : Play"
      ]
    },
    {
      "cell_type": "markdown",
      "metadata": {
        "id": "vunT3Rp-lO6N",
        "colab_type": "text"
      },
      "source": [
        "Select the GPT-2 type you want to use then run the cell.\n",
        "\n",
        "*Make sure you have downloaded the file in \"Try something else\" and uploaded it in your gdrive before attempting to run AIDungeon-Vanilla GPT-2*"
      ]
    },
    {
      "cell_type": "code",
      "metadata": {
        "colab_type": "code",
        "id": "3F-suih1TuDZ",
        "colab": {}
      },
      "source": [
        "#@title Select GPT2 type here { form-width: \"95%\", display-mode: \"both\" }\n",
        "GPT2 = \"AIDungeon\" #@param [\"AIDungeon\", \"AIDungeon-Vanilla GPT-2\"]\n",
        "%cd \"/content/gdrive/My Drive/\"$GPT2\n",
        "from IPython.display import Javascript\n",
        "display(Javascript('''google.colab.output.setIframeHeight(0, true, {maxHeight: 5000})'''))\n",
        "!python play.py"
      ],
      "execution_count": 0,
      "outputs": []
    },
    {
      "cell_type": "markdown",
      "metadata": {
        "id": "9mO5XY3HOBKN",
        "colab_type": "text"
      },
      "source": [
        "---\n",
        "---\n",
        "# SECTION 3 : OPTIONAL\n",
        "---\n",
        "---"
      ]
    },
    {
      "cell_type": "markdown",
      "metadata": {
        "id": "zITeSYmJvBp4",
        "colab_type": "text"
      },
      "source": [
        "---\n",
        "---\n",
        "# CELL 1 : Maximize RAM"
      ]
    },
    {
      "cell_type": "markdown",
      "metadata": {
        "id": "s8JwIpZhqxJa",
        "colab_type": "text"
      },
      "source": [
        "If you get an OOM (out of memory error, random crashes) you might want to increase the available RAM. To do this, run the cell below. Wait until it crashes and a little message pops up (takes about 80-85 seconds) asking if you'd like to increase the available memory. Say yes and run the game in SECTION 2 - CELL 1."
      ]
    },
    {
      "cell_type": "code",
      "metadata": {
        "id": "Zb8MBT52sIHn",
        "colab_type": "code",
        "colab": {}
      },
      "source": [
        "thislist = [\"1\"]\n",
        "while 1:\n",
        "    thislist.append(\"1\")"
      ],
      "execution_count": 0,
      "outputs": []
    }
  ]
}