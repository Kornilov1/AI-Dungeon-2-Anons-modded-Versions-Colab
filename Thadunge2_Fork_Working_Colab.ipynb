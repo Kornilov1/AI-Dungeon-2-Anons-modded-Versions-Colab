{
  "nbformat": 4,
  "nbformat_minor": 0,
  "metadata": {
    "colab": {
      "name": "Thadunge2 Fork Working Colab.ipynb",
      "provenance": [],
      "collapsed_sections": []
    },
    "kernelspec": {
      "name": "python3",
      "display_name": "Python 3"
    },
    "accelerator": "GPU"
  },
  "cells": [
    {
      "cell_type": "markdown",
      "metadata": {
        "id": "7dRi_BDWErNf",
        "colab_type": "text"
      },
      "source": [
        "# AI Dungeon 2 Thadunge2 Fork Working Colab\n",
        "\n",
        "![BYU PCCL](https://pcc4318.files.wordpress.com/2018/02/asset-1.png?w=277)![BYU PCCL](https://i.ibb.co/gPmRK87/1496877631500.png)\n",
        "\n",
        "Sponsored by the [BYU PCCL Lab](https://pcc.cs.byu.edu/).\n",
        "\n",
        "You can <a href=\"https://twitter.com/nickwalton00?ref_src=twsrc%5Etfw\">follow @nickwalton00</a> on Twitter for updates to the official version of the app.\n",
        "\n",
        "## About\n",
        "AI Dungeon 2 is a completely AI generated text adventure built with OpenAI's largest GPT-2 model. It's a first of it's kind game that allows you to enter and will react to any action you can imagine.\n",
        "\n",
        "This is a mod of the base game made entirely by the collective efforts of Anons, so you know what to expect from this.\n",
        "\n",
        "## Official Links\n",
        "* [Read more](https://pcc.cs.byu.edu/2019/11/21/ai-dungeon-2-creating-infinitely-generated-text-adventures-with-deep-learning-language-models/) about how AI Dungeon 2 is made.\n",
        "\n",
        "* If you have any questions or issues, ask in the thread or contact the author on twitter https://twitter.com/nickwalton00.\n",
        "* If you like playing then please consider [supporting](https://www.patreon.com/join/AIDungeon/) the author. BEWARE that there is no telling of if he will ever cuck out to pressure, but you can see for yourself [here](https://www.patreon.com/posts/roadmap-32316007), also remember that he is a mormom IRL so you know what to expect.\n",
        " - It's official, the author is a confirmed hack that doesn't even know what the fuck is he doing: he trained the AI with bullshit it didn't even need, with the training data being badly formatted (which is where all the weird responses from the AI come from), on an Open Source software (GPT-2 model), and putting it online with some simple code anyone could write.\n",
        " - And now he begs for money on patreon, for costs he doesn't even have, to do something he is too retarded to do, and with promises to change shit he can't change. He is a scammer and doesn't deserve your money. If you already donated, try to pull out.\n",
        " - There are Anons currently trying to integrate the vanilla Open Source GPT-2 model with whatever works of the modded version of AI Dungeon 2. But, for the time being, we will have to do with this modded one. There is also the possibility of re-training the AI, but this option (while being looked for) is still too remote for now. \n",
        "* If you want to help, you can seed **[this torrent](https://github.com/nickwalton/AIDungeon/files/3935881/model_v5.torrent.zip)**, which contains the model that was generated to create the AI.\n",
        "* **[This file](https://www31.zippyshare.com/v/MmIhmh8P/file.html)** is supposedly an untrained GPT-2 instance that can be used instead, but any claims have yet to be supported. It could be useful for your own training, though, so use at your own risk.\n",
        "\n",
        "---"
      ]
    },
    {
      "cell_type": "markdown",
      "metadata": {
        "id": "AWNPzIWAh5DT",
        "colab_type": "text"
      },
      "source": [
        "# Step 1: Connect to Google Drive\n",
        "\n",
        "This step will connect Google Colab to your Google Drive. Normally you would have to download the app every time via a slow-ass torrent. It's just a way to speed things up.\n",
        "\n",
        "##**Important: Make sure you have at least 6.5GB of storage available in your Google Drive before you continue.**\n",
        "\n",
        "This step will also install some required Python modules for the mods so they'll work right.\n",
        "\n",
        "Click the play button on the left side of this module to connect.\n",
        "\n",
        "It will ask you for an authorization token. Follow the URL it presents, follow the instructions, paste the code in the box below, then press enter."
      ]
    },
    {
      "cell_type": "code",
      "metadata": {
        "id": "meQ2T-4uxFDN",
        "colab_type": "code",
        "colab": {
          "base_uri": "https://localhost:8080/",
          "height": 34
        },
        "outputId": "c5bcb640-72b1-42f8-fca3-1e09f47525c1"
      },
      "source": [
        "!pip install regex\n",
        "!pip install profanityfilter\n",
        "!pip install playsound\n",
        "!pip install func_timeout\n",
        "!pip install tracery\n",
        "from IPython.display import clear_output \n",
        "clear_output()\n",
        "from google.colab import drive\n",
        "drive.mount('/content/gdrive', force_remount=True)\n",
        "root_dir = \"/content/gdrive/My Drive/\""
      ],
      "execution_count": 1,
      "outputs": []
    },
    {
      "cell_type": "markdown",
      "metadata": {
        "id": "_fwDOPCEmruP",
        "colab_type": "text"
      },
      "source": [
        "# Step 2: Download the app to your Drive\n",
        "\n",
        "This step will download the current source code for AI Dungeon and install any requirements. It will also download the model, which the AI uses to determine word connections. This code will download the AI from bittorrent, so it can take a little while. (approx. 10 minutes)\n",
        "\n",
        "Run the code below to begin.\n",
        "\n",
        "### If you have already run this code before, and the app is in your Google Drive, skip to Step 3.\n",
        "\n",
        "If you need to update your source code:\n",
        "\n",
        "* Back up the \"AIDungeon\" folder in your Google Drive and delete the original.\n",
        "* Run this step again and redownload everything.\n",
        "\n",
        "Trust me, I tried making a way to update just the code without having to redownload the model but the gdrive integration in colab is so shit it just doesn't work.\n",
        "\n",
        "Do note that updates may break things without warning, so it's a good idea to keep a working copy somewhere that you can upload.\n",
        "\n",
        "While you wait for that to download, you can [read adventures others have had](https://console.cloud.google.com/storage/browser/aidungeonstories?pli=1/).\n",
        "\n",
        "You can change the fork you want to use by changing the url in the `!git clone` command."
      ]
    },
    {
      "cell_type": "code",
      "metadata": {
        "colab_type": "code",
        "id": "4MeHmMf_CUAZ",
        "colab": {
          "base_uri": "https://localhost:8080/",
          "height": 34
        },
        "outputId": "19908b27-9374-41d2-d10e-299ef2b9b18a"
      },
      "source": [
        "%cd /content/\n",
        "!git clone https://github.com/thadunge2/AIDungeon\n",
        "%cd AIDungeon\n",
        "!chmod 777 install.sh \n",
        "!sed -i -e 's/\\r$//' install.sh\n",
        "!./install.sh\n",
        "!chmod 777 download_model.sh \n",
        "!sed -i -e 's/\\r$//' download_model.sh\n",
        "!./download_model.sh\n",
        "from IPython.display import clear_output \n",
        "clear_output()\n",
        "print(\"Download Complete!\")"
      ],
      "execution_count": 2,
      "outputs": []
    },
    {
      "cell_type": "markdown",
      "metadata": {
        "id": "9RVmLJOopacm",
        "colab_type": "text"
      },
      "source": [
        "# Step 3: Copy to your Google Drive\n",
        "\n",
        "Currently, all the downloaded files are stored on the Colab VM you are connected to. The code below will copy it to your Google Drive instead. The next time you connect to Colab you can just run the first module and skip right to Step 4.\n",
        "\n",
        "Run the next module to continue. This can take a while."
      ]
    },
    {
      "cell_type": "code",
      "metadata": {
        "colab_type": "code",
        "id": "6y7zF5AdCTSz",
        "colab": {}
      },
      "source": [
        "%cd /content/gdrive/My\\ Drive/\n",
        "!mkdir AIDungeon\n",
        "!mv /content/AIDungeon/{,.[^.]}* /content/gdrive/My\\ Drive/AIDungeon"
      ],
      "execution_count": 0,
      "outputs": []
    },
    {
      "cell_type": "markdown",
      "metadata": {
        "id": "f60hPLAN0GJC",
        "colab_type": "text"
      },
      "source": [
        "# Step 4: Run the app\n",
        "\n",
        "That's it! Run the code below to run AI Dungeon."
      ]
    },
    {
      "cell_type": "code",
      "metadata": {
        "id": "YjArwbWh6XwN",
        "colab_type": "code",
        "colab": {
          "base_uri": "https://localhost:8080/",
          "height": 254
        },
        "outputId": "179d5988-f56e-4f3c-b540-884c6d9c0e1f"
      },
      "source": [
        "%cd /content/gdrive/My\\ Drive/AIDungeon\n",
        "from IPython.display import Javascript, HTML\n",
        "display(Javascript('''google.colab.output.setIframeHeight(0, true, {maxHeight: 5000})'''))\n",
        "\n",
        "display(HTML('''<style>pre {\n",
        "    font-size: 14pt; /* Change this value to change font size */\n",
        "    white-space: pre-wrap; /* Enables word wrapping */\n",
        "}</style>'''))\n",
        "\n",
        "!python play.py"
      ],
      "execution_count": 0,
      "outputs": []
    },
    {
      "cell_type": "markdown",
      "metadata": {
        "id": "s8JwIpZhqxJa",
        "colab_type": "text"
      },
      "source": [
        "# Utilities\n",
        "\n",
        "## Switch to a high-ram runtime\n",
        "\n",
        "If you get an OOM (out of memory error, random crashes) you might want to increase the available RAM.\n",
        "\n",
        "To do this, run the code below. Wait until it crashes and a little message pops up (takes about 80-85 seconds) asking if you'd like to increase the available memory.\n",
        "\n",
        "After you say yes, you will be connected to a new runtime. Repeat step 1 and 5 to run the game."
      ]
    },
    {
      "cell_type": "code",
      "metadata": {
        "id": "Zb8MBT52sIHn",
        "colab_type": "code",
        "colab": {}
      },
      "source": [
        "thislist = [\"1\"]\n",
        "while 1:\n",
        "    thislist.append(\"1\")"
      ],
      "execution_count": 0,
      "outputs": []
    }
  ]
}
