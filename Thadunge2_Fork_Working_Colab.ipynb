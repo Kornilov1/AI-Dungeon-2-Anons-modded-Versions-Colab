{
  "nbformat": 4,
  "nbformat_minor": 0,
  "metadata": {
    "colab": {
      "name": "Thadunge2 Fork Working Gdrive Colab.ipynb",
      "provenance": [],
      "collapsed_sections": [],
      "machine_shape": "hm",
      "include_colab_link": true
    },
    "kernelspec": {
      "name": "python3",
      "display_name": "Python 3"
    },
    "accelerator": "GPU"
  },
  "cells": [
    {
      "cell_type": "markdown",
      "metadata": {
        "id": "view-in-github",
        "colab_type": "text"
      },
      "source": [
        "<a href=\"https://colab.research.google.com/github/Tarumath/Thadunge2-Fork-Working-Gdrive-Colab/blob/master/Thadunge2_Fork_Working_Gdrive_Colab.ipynb\" target=\"_parent\"><img src=\"https://colab.research.google.com/assets/colab-badge.svg\" alt=\"Open In Colab\"/></a>"
      ]
    },
    {
      "cell_type": "markdown",
      "metadata": {
        "id": "7dRi_BDWErNf",
        "colab_type": "text"
      },
      "source": [
        "# Thadunge2 Fork Working Gdrive Colab\n",
        "AI Dungeon 2 is a completely AI generated text adventure built with OpenAI's largest GPT 2 model. It's a first of it's kind game that allows you to enter and will react to any action you can imagine. \n",
        "\n",
        "\n",
        "## How to play\n",
        "1. First make a copy of this Colab by clicking on 'file' (top left) then in 'save a copy in Drive'.\n",
        "2. Click \"Tools\"-> \"Settings...\" -> \"Theme\" -> \"Dark\" (optional but recommended).\n",
        "3. Delete your AIdungeon folder in your Google Drive if you already downloaded / copied this folder in your Google Drive.\n",
        "4. (Optional) Run the fifth cell if you want more RAM, the allocated GPU will crash (takes about 80-85 seconds) and Google Colab will offer you an option to get more RAM (max is 25GB), if you have already max RAM you can skip this.\n",
        "IF ENOUGH PEOPLE USE THIS OPTION THEN YOU COULD GET A HIGH-RAM SERVER AUTOMATICALLY, IN THIS CASE JUST RECONNECT NORMALLY AND IGNORE THIS STEP\n",
        "5. Run the first cell, it will install said dependencies and mount your Google Drive. It will ask for authorization so follow the link given and log in, then paste the code back in the box that showed up under the code and press enter.\n",
        "6. Run the second cell, it will download the game files to /content/AIDungeon/.\n",
        "*If you wish to use another Github fork for whatever reason, just change the link on the last part of the first line.\n",
        "*If this cell gives you an error, try replacing the first cell with this parameters to install missing dependencies (only overwrite 'pip' parts, it might be possible that future updates to the GitHub fork require more dependencies) and run it, and it 'should' solve the problem:\n",
        "!pip install regex\n",
        "!pip install profanityfilter\n",
        "!pip install playsound\n",
        "!pip install func_timeout\n",
        "7. Run the fourth cell, it will copy the game files to your Google Drive so they won't have to be downloaded every time.\n",
        "8. Now AIdungeon is correctly installed in your Google Drive, DO NOT REPEAT THE PREVIOUS STEPS\n",
        "**Make sure each command is finished, some of them take a while to process.\n",     
        "9. When running the game again (i.e.: after you closed the tab) just:\n",
        "*Run the first cell. Might need to authorize it again.\n",
        "*Run the third cell and play the game.\n",      
      ]
    },
    {
      "cell_type": "code",
      "metadata": {
        "id": "meQ2T-4uxFDN",
        "colab_type": "code",
        "colab": {}
      },
      "source": [
        "!pip install regex\n",
        "!pip install profanityfilter\n",
        "!pip install playsound\n",
        "!pip install func_timeout\n",
        "from google.colab import drive\n",
        "drive.mount('/content/gdrive', force_remount=True)\n",
        "root_dir = \"/content/gdrive/My Drive/\""
      ],
      "execution_count": 0,
      "outputs": []
    },
    {
      "cell_type": "code",
      "metadata": {
        "colab_type": "code",
        "id": "4MeHmMf_CUAZ",
        "colab": {}
      },
      "source": [
        "!git clone https://github.com/thadunge2/AIDungeon\n",
        "%cd AIDungeon\n",
        "!chmod 777 install.sh \n",
        "!sed -i -e 's/\\r$//' install.sh\n",
        "!./install.sh\n",
        "from IPython.display import clear_output \n",
        "clear_output()\n",
        "print(\"Download Complete!\")"
      ],
      "execution_count": 0,
      "outputs": []
    },
    {
      "cell_type": "code",
      "metadata": {
        "id": "YjArwbWh6XwN",
        "colab_type": "code",
        "colab": {}
      },
      "source": [
        "%cd /content/gdrive/My\\ Drive/AIDungeon\n",
        "from IPython.display import Javascript\n",
        "display(Javascript('''google.colab.output.setIframeHeight(0, true, {maxHeight: 5000})'''))\n",
        "!python play.py"
      ],
      "execution_count": 0,
      "outputs": []
    },
    {
      "cell_type": "code",
      "metadata": {
        "colab_type": "code",
        "id": "6y7zF5AdCTSz",
        "colab": {}
      },
      "source": [
        "%cd /content/gdrive/My\\ Drive/\n",
        "!mkdir AIDungeon\n",
        "!mv /content/AIDungeon/{,.[^.]}* /content/gdrive/My\\ Drive/AIDungeon"
      ],
      "execution_count": 0,
      "outputs": []
    },
    {
      "cell_type": "markdown",
      "metadata": {
        "id": "s8JwIpZhqxJa",
        "colab_type": "text"
      },
      "source": [
        "If you get an OOM (out of memory error, random crashes) you might want to increase the available RAM. To do this, run the code below. Wait until it crashes and a little message pops up (takes about 80-85 seconds) asking if you'd like to increase the available memory. Say yes and run the game."
       ]
    },
    {
      "cell_type": "code",
      "metadata": {
        "id": "Zb8MBT52sIHn",
        "colab_type": "code",
        "colab": {}
      },
      "source": [
        "thislist = [\"1\"]\n",
        "while 1:\n",
        "    thislist.append(\"1\")"
      ],
      "execution_count": 0,
      "outputs": []
    }
  ]
}
