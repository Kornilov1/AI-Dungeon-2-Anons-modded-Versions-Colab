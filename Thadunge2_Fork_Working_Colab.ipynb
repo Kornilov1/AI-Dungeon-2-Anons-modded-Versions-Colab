{
  "nbformat": 4,
  "nbformat_minor": 0,
  "metadata": {
    "colab": {
      "name": "Thadunge2 Fork Working Colab.ipynb",
      "provenance": [],
      "collapsed_sections": [],
      "include_colab_link": true
    },
    "kernelspec": {
      "name": "python3",
      "display_name": "Python 3"
    },
    "accelerator": "GPU"
  },
  "cells": [
    {
      "cell_type": "markdown",
      "metadata": {
        "id": "view-in-github",
        "colab_type": "text"
      },
      "source": [
        "<a href=\"https://colab.research.google.com/github/Kornilov1/Thadunge2-Fork-Working-Colab/blob/master/Thadunge2_Fork_Working_Colab.ipynb\" target=\"_parent\"><img src=\"https://colab.research.google.com/assets/colab-badge.svg\" alt=\"Open In Colab\"/></a>"
      ]
    },
    {
      "cell_type": "markdown",
      "metadata": {
        "id": "7dRi_BDWErNf",
        "colab_type": "text"
      },
      "source": [
        "# AI Dungeon 2 Thadunge2 Fork Working Colab\n",
        "\n",
        "![BYU PCCL](https://pcc4318.files.wordpress.com/2018/02/asset-1.png?w=277)\n",
        "\n",
        "Sponsored by the [BYU PCCL Lab](https://pcc.cs.byu.edu/).\n",
        "\n",
        "### <a href=\"https://twitter.com/nickwalton00?ref_src=twsrc%5Etfw\" class=\"twitter-follow-button\" data-show-count=\"false\">Follow @nickwalton00</a> on twitter for updates.\n",
        "\n",
        "## About\n",
        "* While you wait you can [read adventures others have had](https://aidungeon.io/)\n",
        "* [Read more](https://pcc.cs.byu.edu/2019/11/21/ai-dungeon-2-creating-infinitely-generated-text-adventures-with-deep-learning-language-models/) about how AI Dungeon 2 is made.\n",
        "\n",
        "* Please [support AI Dungeon 2](https://www.patreon.com/join/AIDungeon/) to help get it back up."
      ]
    },
    {
      "cell_type": "markdown",
      "metadata": {
        "id": "xn0bEX3R8IMC",
        "colab_type": "text"
      },
      "source": [
        "# Main mirrors of AI Dungeon 2 are currently down due to high download costs.\n",
        "We are using bittorrent as a temporary solution to host game files and keep this game alive. It's not fast, but it's the best we've got right now.\n",
        "\n",
        "If you want to help, best thing you can do is to **[download this torrent file with game files](https://github.com/nickwalton/AIDungeon/files/3935881/model_v5.torrent.zip)** and **seed it** indefinitely to the best of your ability. This will help new players download this game faster, and discover the vast worlds of AIDungeon2!\n",
        "\n",
        "[Instructions:]()\n",
        "\n",
        "1. First make a copy of this Colab by clicking on 'file' (top left) then in 'save a copy in Drive'.\n",
        "2. Click \"Tools\"-> \"Settings...\" -> \"Theme\" -> \"Dark\" (optional but recommended).\n",
        "3. Delete your AIdungeon folder in your Google Drive if you already downloaded / copied this folder in your Google Drive.\n",
        "4. (Optional) Run the fifth cell if you want more RAM, the allocated GPU will crash (takes about 80-85 seconds) and Google Colab will offer you an option to get more RAM (max is 25GB), if you have already max RAM you can skip this.\n",
        "IF ENOUGH PEOPLE USE THIS OPTION THEN YOU COULD GET A HIGH-RAM SERVER AUTOMATICALLY, IN THIS CASE JUST RECONNECT NORMALLY AND IGNORE THIS STEP\n",
        "5. Run the first cell, it will install said dependencies and mount your Google Drive. It will ask for authorization so follow the link given and log in, then paste the code back in the box that showed up under the code and press enter.\n",
        "6. Run the second cell, it will download the game files to /content/AIDungeon/.\n",
        "* If you wish to use another Github fork for whatever reason, just change the link on the last part of the first line.\n",
        "* If this cell gives you an error, try replacing the first cell with this parameters to install missing dependencies (only overwrite 'pip' parts, it might be possible that future updates to the GitHub fork require more dependencies) and run it, and it 'should' solve the problem:\n",
        "!pip install regex\n",
        "!pip install profanityfilter\n",
        "!pip install playsound\n",
        "!pip install func_timeout\n",
        "7. Run the fourth cell, it will copy the game files to your Google Drive so they won't have to be downloaded every time.\n",
        "8. Now AIdungeon is correctly installed in your Google Drive, DO NOT REPEAT THE PREVIOUS STEPS\n",
        "* Make sure each command is finished, some of them take a while to process.\n",     
        "9. When running the game again (i.e.: after you closed the tab) just:\n",
        "* Run the first cell. Might need to authorize it again.\n",
        "* Run the third cell and play the game.\n",      
        "\n",
        "Here's the code to get it to run with torrenting:"
      ]
    },
    {
      "cell_type": "code",
      "metadata": {
        "id": "ZzWuh7dC87-j",
        "colab_type": "code",
        "colab": {}
      },
      "source": [
        "!git clone --branch master https://github.com/thadunge2/AIDungeon\n",
        "%cd AIDungeon\n",
        "!chmod 777 install.sh\n",
        "!sed -i -e 's/\\r$//' install.sh\n",
        "!./install.sh\n",
        "from IPython.display import clear_output \n",
        "clear_output()\n",
        "print(\"Download Complete!\")"
      ],
      "execution_count": 0,
      "outputs": []
    },
    {
      "cell_type": "markdown",
      "metadata": {
        "id": "IDhSolC09LLP",
        "colab_type": "text"
      },
      "source": [
        "Now, run this to play the game:"
      ]
    },
    {
      "cell_type": "code",
      "metadata": {
        "id": "-Lz_r-eJ9Klc",
        "colab_type": "code",
        "colab": {}
      },
      "source": [
        "from IPython.display import Javascript\n",
        "display(Javascript('''google.colab.output.setIframeHeight(0, true, {maxHeight: 5000})'''))\n",
        "!python play.py"
      ],
      "execution_count": 0,
      "outputs": []
    },
    {
      "cell_type": "markdown",
      "metadata": {
        "id": "s8JwIpZhqxJa",
        "colab_type": "text"
      },
      "source": [
        "If you get an OOM (out of memory error, random crashes) you might want to increase the available RAM. To do this, run the code below. Wait until it crashes and a little message pops up asking if you'd like to increase the available memory. Say yes and run the game.\n",
        "\n",
        "Credit goes to [bpseudopod](https://www.reddit.com/user/bpseudopod/) for figuring this out. View the post where that happened here: [https://www.reddit.com/r/AIDungeon/comments/e782oi/tips_for_crash_prevention/](https://www.reddit.com/r/AIDungeon/comments/e782oi/tips_for_crash_prevention/)"
      ]
    },
    {
      "cell_type": "code",
      "metadata": {
        "id": "Zb8MBT52sIHn",
        "colab_type": "code",
        "colab": {}
      },
      "source": [
        "d = []\n",
        "while True:\n",
        "    d.append(1)"
      ],
      "execution_count": 0,
      "outputs": []
    }
  ]
}
