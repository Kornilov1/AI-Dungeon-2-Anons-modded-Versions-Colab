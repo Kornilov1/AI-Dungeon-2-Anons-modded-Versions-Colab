{
  "nbformat": 4,
  "nbformat_minor": 0,
  "metadata": {
    "colab": {
      "name": "Thadunge2 Fork Working Colab.ipynb",
      "provenance": [],
      "collapsed_sections": [],
      "toc_visible": true,
      "machine_shape": "hm",
      "include_colab_link": true
    },
    "kernelspec": {
      "name": "python3",
      "display_name": "Python 3"
    },
    "accelerator": "GPU"
  },
  "cells": [
    {
      "cell_type": "markdown",
      "metadata": {
        "id": "view-in-github",
        "colab_type": "text"
      },
      "source": [
        "<a href=\"https://colab.research.google.com/github/Kornilov1/Thadunge2-Fork-Working-Colab/blob/Visuals/Thadunge2_Fork_Working_Colab.ipynb\" target=\"_parent\"><img src=\"https://colab.research.google.com/assets/colab-badge.svg\" alt=\"Open In Colab\"/></a>"
      ]
    },
    {
      "cell_type": "markdown",
      "metadata": {
        "id": "7dRi_BDWErNf",
        "colab_type": "text"
      },
      "source": [
        "# ![Special Edition](https://i.ibb.co/zN5YfKR/V-special-edition.jpg)"
      ]
    },
    {
      "cell_type": "markdown",
      "metadata": {
        "id": "JICnNPtb6S-I",
        "colab_type": "text"
      },
      "source": [
        "Based on <a href=\"https://twitter.com/nickwalton00?ref_src=twsrc%5Etfw\" class=\"twitter-follow-button\" data-show-count=\"false\">Nick Walton</a>'s work.\n",
        "\n",
        "\n",
        "\n",
        "---\n",
        "\n",
        "\n",
        "AI Dungeon 2 is a completely AI generated text adventure built with OpenAI's largest GPT-2 model. It's a first of it's kind game that allows you to enter and will react to any action you can imagine.\n",
        "\n",
        "This is a mod of the base game made entirely by the collective efforts of Anons, so you know what to expect from this.\n",
        "\n",
        "This colab is a frontend aiming to allow users to easily run different versions of AIDungeon.\n",
        "Currently supported repositories :\n",
        "* [Thadunge2](https://github.com/thadunge2/AIDungeon/)\n",
        "* [Clover-Edition](https://github.com/cloveranon/Clover-Edition)\n"
      ]
    },
    {
      "cell_type": "markdown",
      "metadata": {
        "id": "xn0bEX3R8IMC",
        "colab_type": "text"
      },
      "source": [
        "---\n",
        "#How to play / Initial setup\n",
        "---"
      ]
    },
    {
      "cell_type": "markdown",
      "metadata": {
        "id": "Fr5j3r9N3v39",
        "colab_type": "text"
      },
      "source": [
        "*When you are asked to run a cell, click this*\n",
        "\n",
        "![THIS !](https://i.ibb.co/Bjh7R8g/run-cell.jpg)\n",
        "\n",
        "*Make sure each command is finished, some of them take a while to process.*\n",
        "\n",
        "*For a comfier experience, click \"Tools\"-> \"Settings...\" -> \"Theme\" -> \"Dark\"*\n",
        "\n",
        "*Run the [SECTION 3 - CELL 1](#scrollTo=zITeSYmJvBp4) for more RAM (optional, but you probably do want it), the allocated GPU will crash (takes about 10 seconds) and Google Colab will offer you an option to get more RAM (max is 25GB), if you have already max RAM you can skip this.*\n",
        "\n",
        "*If you have already downloaded the \"model_v5\" folder through torrent, I advise against deleting it, it might come handy in the future. If anyone is curious [here is the torrent](https://github.com/nickwalton/AIDungeon/files/3935881/model_v5.torrent.zip)*."
      ]
    },
    {
      "cell_type": "markdown",
      "metadata": {
        "id": "1kFSce_Y2Gys",
        "colab_type": "text"
      },
      "source": [
        "1. First **make sure you have a Google Drive account with at least 6GB of free space in it and that you are signed up**.\n",
        "2. On the top left: Click \"File\"-> \"Save a a copy in Drive\". A new tab will open, **close the current tab and use the new one**.\n",
        "3. Delete your AIdungeon folder in your Google Drive if it's already in it.\n",
        "4. Run the [SECTION 1 - CELL 1](#scrollTo=36Gkd-RytcM_), it will install needed dependencies and mount your Google Drive. **It will ask for authorization so follow the link given and log in, then paste the code back in the box that showed up under the code and press enter**.\n",
        "5. Run the [SECTION 1 - CELL 2](#scrollTo=sSR483VQts7V), it will download the game files to /content/AIDungeon/. You can also freely choose your favorite repo there.\n",
        "6. Run the [SECTION 1 - CELL 3](#scrollTo=afImEGdNuC9A), it will copy the game files to your Google Drive so they won't have to be downloaded every time.\n",
        "7. Now AIDungeon is correctly installed in your Google Drive, you just need to run the [SECTION 2 - CELL 1](#scrollTo=A_sVH81JyJin) to play, but **DO NOT REPEAT THE PREVIOUS STEPS**"
      ]
    },
    {
      "cell_type": "markdown",
      "metadata": {
        "id": "gmioGz252Ghx",
        "colab_type": "text"
      },
      "source": [
        "---\n",
        "# How to play again / Future sessions\n",
        "---"
      ]
    },
    {
      "cell_type": "markdown",
      "metadata": {
        "id": "kp6f3co42GFg",
        "colab_type": "text"
      },
      "source": [
        "When running the game **again** (i.e.: after you closed the tab) just:\n",
        " - Run the [SECTION 3 - CELL 1](#scrollTo=zITeSYmJvBp4) for more RAM (optional, but you probably do want it), if you have already max RAM (25GB) you can skip this.\n",
        " - Run the [SECTION 1 - CELL 1](#scrollTo=36Gkd-RytcM_). You will need to authorize it again.\n",
        "* If this cell gives you an error, try clicking \"Runtime\"-> \"Restart runtime\" on the top of the screen.\n",
        " - Run the [SECTION 2 - CELL 1](#scrollTo=A_sVH81JyJin) and play the game."
      ]
    },
    {
      "cell_type": "markdown",
      "metadata": {
        "id": "KstmddkB1vhT",
        "colab_type": "text"
      },
      "source": [
        "---\n",
        "# How to update\n",
        "---"
      ]
    },
    {
      "cell_type": "markdown",
      "metadata": {
        "id": "iuxuUz451oPN",
        "colab_type": "text"
      },
      "source": [
        "1. Run [SECTION 3 - CELL 2](#scrollTo=UuZSuj6OiTEI), it will get only the latest changes made on the GitHub repo of your choice, and put them in your Gdrive folder.\n",
        "2. If you're paranoid and want to make sure everything is up-to-date, you will have to repeat everything over again starting from **How to play - step 3** , from time to time."
      ]
    },
    {
      "cell_type": "markdown",
      "metadata": {
        "id": "88pDH9FP0TCz",
        "colab_type": "text"
      },
      "source": [
        "---\n",
        "# Latest News\n",
        "---"
      ]
    },
    {
      "cell_type": "markdown",
      "metadata": {
        "id": "pEm0jTmB0jty",
        "colab_type": "text"
      },
      "source": [
        "**Workarounds**\n",
        "\n",
        "Some anons have reported a bunch of ghost python files getting uploaded to their GDrive and having a bad time deleting them. Here's the best way to deal with it. **It is also the best way to clear your GDrive!!!**\n",
        "\n",
        "Close all runtime, disconnect your VM and close the colab page. Wait a minute or two to be sure you're unlogged and **THEN** go to GDrive delete your files and empty your trash. The bug is caused because people want to delete files in their GDrive while its being mounted in th VM, and so, in use.\n",
        "\n",
        "---\n",
        "**AIDungeon**\n",
        "\n",
        "* The \"restart\" command will crash the AI if, after using it, when it asks you to rate the story, you press enter without actually rating it (that is, without typing a number).\n",
        "* The download_model.sh doesn't check if you have the model_v5 folder, but only check for its parent folder, models. Since it doesn't check if you effectively have the model, you better say YES when it asks you if you want to redownload the model.\n",
        "\n",
        "**Despite these bugs, it's still FULLY PLAYABLE.**\n",
        "\n",
        "---\n",
        "**Clover-Edition**\n",
        "\n",
        "Newly introduced work from a fellow anon, their github is [here](https://github.com/cloveranon/Clover-Edition). We hope to have feedback, for us and them, so try it! \n",
        "\n",
        "* Clover-Edition now have custom prompts and word-wrapping\n",
        "\n",
        "Here's a shameless copypasta of his \"Features\" tab:\n",
        " *   Complete rewrite of the user interface\n",
        " *   Color text output\n",
        " *   Console Bell when AI finishes\n",
        " *   Much improved prompt selection\n",
        " *   A much larger library of fan made starting prompts\n",
        " *   Better config file\n",
        " *   Eventually hope to improve the AI itself, but this will take some time\n",
        "\n",
        "Please note that you should erase your AIDungeon folder before attempting to play Clover-Edition and vice-versa. I tried as much as possible to separate the versions but sometimes it still happen that one installs in the other resulting in AIDungeon/Clover-Edition or Clover-Edition/AIDungeon filesystem. While theoretically harmless, it's a mess so be careful. Please also remember that Clover-Edition will ALSO download the model_v5 folder, you probably don't want both versions in your drive at the same time. 6+6 = 12Gb after all.\n",
        "\n",
        "---\n",
        "**Colab**\n",
        "* Workarounds moved to top of the latest news.\n",
        "* Many cells modified to implement Clover Edition\n",
        "* This Colab can now support drawfag creations, find them in [SECTION 3 - CELL 3](#scrollTo=ooL1ozRUgO5r). We need feedback on this.\n",
        "* Some Warnings were moved to the latest news to clear the cells and regroup all important stuff in place."
      ]
    },
    {
      "cell_type": "markdown",
      "metadata": {
        "id": "nqgPglYzMeek",
        "colab_type": "text"
      },
      "source": [
        "\n",
        "---\n",
        "---\n",
        "# SECTION 1 : SETUP\n",
        "---\n",
        "---"
      ]
    },
    {
      "cell_type": "markdown",
      "metadata": {
        "id": "36Gkd-RytcM_",
        "colab_type": "text"
      },
      "source": [
        "---\n",
        "---\n",
        "#CELL 1 : Installing dependencies and mounting GDrive\n"
      ]
    },
    {
      "cell_type": "markdown",
      "metadata": {
        "id": "WcHlF6MkP0-Y",
        "colab_type": "text"
      },
      "source": [
        "Run the cell.\n",
        "\n",
        "*You must run this cell each time you come back to play before running the game in SECTION 2 - CELL 1*"
      ]
    },
    {
      "cell_type": "code",
      "metadata": {
        "id": "meQ2T-4uxFDN",
        "colab_type": "code",
        "colab": {}
      },
      "source": [
        "!pip install regex\n",
        "!pip install profanityfilter\n",
        "!pip install playsound\n",
        "!pip install func_timeout\n",
        "!pip install tracery\n",
        "from google.colab import drive\n",
        "drive.mount('/content/gdrive', force_remount=True)\n",
        "root_dir = \"/content/gdrive/My Drive/\""
      ],
      "execution_count": 0,
      "outputs": []
    },
    {
      "cell_type": "markdown",
      "metadata": {
        "id": "sSR483VQts7V",
        "colab_type": "text"
      },
      "source": [
        "---\n",
        "---\n",
        "#CELL 2 : Cloning GIT repo to VM"
      ]
    },
    {
      "cell_type": "markdown",
      "metadata": {
        "id": "PULJhld0QWZp",
        "colab_type": "text"
      },
      "source": [
        "Choose your repo. Thadunge2 is the default one."
      ]
    },
    {
      "cell_type": "code",
      "metadata": {
        "colab_type": "code",
        "id": "4MeHmMf_CUAZ",
        "colab": {}
      },
      "source": [
        "#@title Choose your repo here { form-width: \"37.5%\", display-mode: \"both\" }\n",
        "# This variable is dynamically changed with the dropdown list on the right\n",
        "repo = \"thadunge2/AIDungeon\" #@param [\"thadunge2/AIDungeon\", \"cloveranon/Clover-Edition\"]\n",
        "# This line will clone the repo in the VM\n",
        "!git clone https://github.com/$repo\n",
        "# This is a repo selector used to run the install code for each repo.\n",
        "# It's a simple bool (true/false) for now, but can easily be upgraded to a real\n",
        "# selector if more than 2 repo are actually available.\n",
        "repository = [repo]\n",
        "# This is the default value to compare the repo for the bool\n",
        "default = 'thadunge2/AIDungeon'\n",
        "# main code goes here. it's a simple if else because only 2 repo exists at\n",
        "#this time. \"if\" is run if bool is true, \"else\" is run if bool is false\n",
        "for choice in repository:\n",
        "  if (bool(choice == default)):\n",
        "    %cd AIDungeon\n",
        "    !chmod 777 install.sh \n",
        "    !sed -i -e 's/\\r$//' install.sh\n",
        "    !./install.sh\n",
        "    !chmod 777 download_model.sh \n",
        "    !sed -i -e 's/\\r$//' download_model.sh\n",
        "    !./download_model.sh\n",
        "  else:\n",
        "    %cd Clover-Edition\n",
        "    !chmod 777 install.sh\n",
        "    !sed -i -e 's/\\r$//' install.sh\n",
        "    !./install.sh\n",
        "# Clearing the installation garbage of the output\n",
        "from IPython.display import clear_output \n",
        "clear_output()\n",
        "print(\"Download Complete!\")"
      ],
      "execution_count": 0,
      "outputs": []
    },
    {
      "cell_type": "markdown",
      "metadata": {
        "id": "afImEGdNuC9A",
        "colab_type": "text"
      },
      "source": [
        "---\n",
        "---\n",
        "#CELL 3 : Copying game files from VM to GDrive"
      ]
    },
    {
      "cell_type": "markdown",
      "metadata": {
        "id": "dKSFipS_CuoC",
        "colab_type": "text"
      },
      "source": [
        "Run the cell. It take a bit of time, be patient.\n",
        "\n",
        "*If you get this type of error on AIDungeon, do not worry, it's just a few python setup files that can't be copied for currently unkown reasons, but you can still play :*\n",
        "*   */content/gdrive/My Drive*\n",
        "*   *mv: cannot create symbolic link '/content/gdrive/My Drive/AIDungeon/venv/lib64': Operation not supported*\n",
        "*   *mv: cannot create symbolic link '/content/gdrive/My Drive/AIDungeon/venv/bin/python3': Operation not supported*\n",
        "*   *mv: cannot create symbolic link '/content/gdrive/My Drive/AIDungeon/venv/bin/python': Operation not supported*\n",
        "\n",
        "*For Clover-Edition, this might happen. It's probably harmless but it will be checked later.*\n",
        "* *mv: cannot move '/content//gdrive/.shortcut-targets-by-id' to '/content/gdrive/My Drive/gdrive/.shortcut-targets-by-id': Operation not supported*\n",
        "* *mv: cannot move '/content//gdrive' to a subdirectory of itself, '/content/gdrive/My Drive/gdrive'*\n",
        "\n"
      ]
    },
    {
      "cell_type": "code",
      "metadata": {
        "colab_type": "code",
        "id": "6y7zF5AdCTSz",
        "colab": {}
      },
      "source": [
        "#@title Choose the repo you want to move. { form-width: \"37.5%\", display-mode: \"both\" }\n",
        "repo = \"AIDungeon\" #@param [\"AIDungeon\", \"Clover-Edition\"]\n",
        "%cd \"/content/gdrive/My Drive/\"\n",
        "!mkdir $repo\n",
        "!mv \"/content/${repo}/\"{,.[^.]}* \"/content/gdrive/My Drive/${repo}\""
      ],
      "execution_count": 0,
      "outputs": []
    },
    {
      "cell_type": "markdown",
      "metadata": {
        "id": "sad33SaPNMQU",
        "colab_type": "text"
      },
      "source": [
        "---\n",
        "---\n",
        "# SECTION 2 : PLAY THE GAME\n",
        "---\n",
        "---"
      ]
    },
    {
      "cell_type": "markdown",
      "metadata": {
        "id": "A_sVH81JyJin",
        "colab_type": "text"
      },
      "source": [
        "---\n",
        "---\n",
        "# CELL 1 : Play"
      ]
    },
    {
      "cell_type": "markdown",
      "metadata": {
        "id": "vunT3Rp-lO6N",
        "colab_type": "text"
      },
      "source": [
        "Select your version and rune the cell. It's gonna be reworked soon."
      ]
    },
    {
      "cell_type": "code",
      "metadata": {
        "colab_type": "code",
        "id": "3F-suih1TuDZ",
        "colab": {}
      },
      "source": [
        "#@title Choose your version { form-width: \"37.5%\", display-mode: \"both\" }\n",
        "version = \"AIDungeon\" #@param [\"AIDungeon\", \"Clover-Edition\"]\n",
        "%cd \"/content/gdrive/My Drive/\"$version\n",
        "from IPython.display import Javascript\n",
        "display(Javascript('''google.colab.output.setIframeHeight(0, true, {maxHeight: 5000})'''))\n",
        "!python play.py"
      ],
      "execution_count": 0,
      "outputs": []
    },
    {
      "cell_type": "markdown",
      "metadata": {
        "id": "9mO5XY3HOBKN",
        "colab_type": "text"
      },
      "source": [
        "---\n",
        "---\n",
        "# SECTION 3 : OPTIONAL\n",
        "---\n",
        "---"
      ]
    },
    {
      "cell_type": "markdown",
      "metadata": {
        "id": "zITeSYmJvBp4",
        "colab_type": "text"
      },
      "source": [
        "---\n",
        "---\n",
        "# CELL 1 : Maximize RAM"
      ]
    },
    {
      "cell_type": "markdown",
      "metadata": {
        "id": "s8JwIpZhqxJa",
        "colab_type": "text"
      },
      "source": [
        "If you get an OOM (out of memory error, random crashes) you might want to increase the available RAM. To do this, run the cell below.\n",
        "\n",
        "*Wait until it crashes and a little message pops up (takes about 10 seconds) asking if you'd like to increase the available memory. Say yes and run the game in SECTION 2 - CELL 1.*"
      ]
    },
    {
      "cell_type": "code",
      "metadata": {
        "id": "Zb8MBT52sIHn",
        "colab_type": "code",
        "colab": {}
      },
      "source": [
        "thislist = [\"1\"]\n",
        "while 1:\n",
        "    thislist.append(\"1\")"
      ],
      "execution_count": 0,
      "outputs": []
    },
    {
      "cell_type": "markdown",
      "metadata": {
        "id": "UuZSuj6OiTEI",
        "colab_type": "text"
      },
      "source": [
        "---\n",
        "---\n",
        "# CELL 2 : Updating GIT repo in GDrive"
      ]
    },
    {
      "cell_type": "markdown",
      "metadata": {
        "colab_type": "text",
        "id": "2uHh66g_ioSq"
      },
      "source": [
        "Run this cell from time to time to update the repo you use. \n",
        "\n",
        "*It will ask your authorization code to force remount your GDrive in the VM in order to do the update.*\n",
        "\n",
        "*WARNING : before updating your game, go to your GDrive and copy the \"AIDungeon\" or \"Clover-Edition\" folder to \"AIDungeon-Old\" and \"Clover-Edition-old\". Make sure the current update is STABLE, before actually overwriting your files. In case the update is buggy, you just need to delete the updated \"AIDungeon\" folder, and rename back the \"AIDungeon-Old\" folder to \"AIDungeon\" to revert back to the stable version.*"
      ]
    },
    {
      "cell_type": "code",
      "metadata": {
        "colab_type": "code",
        "id": "czyMoUu9ixOA",
        "cellView": "both",
        "colab": {}
      },
      "source": [
        "#@title Choose the repo to update { form-width: \"37.5%\" }\n",
        "repo = \"AIDungeon\" #@param [\"AIDungeon\", \"Clover-Edition\"]\n",
        "from google.colab import drive\n",
        "drive.mount('/content/gdrive', force_remount=True)\n",
        "root_dir = \"/content/gdrive/My Drive/\"\n",
        "%cd \"/content/gdrive/My Drive/\"$repo\n",
        "!git pull"
      ],
      "execution_count": 0,
      "outputs": []
    },
    {
      "cell_type": "markdown",
      "metadata": {
        "id": "ooL1ozRUgO5r",
        "colab_type": "text"
      },
      "source": [
        "---\n",
        "---\n",
        "# CELL 3 : FANARTS"
      ]
    },
    {
      "cell_type": "markdown",
      "metadata": {
        "id": "nQN338QjYrqO",
        "colab_type": "text"
      },
      "source": [
        "Run this cell and get a random image from a Git repo with some drawfag stuff. The pic is even clickable so you can go straight to its Github page."
      ]
    },
    {
      "cell_type": "markdown",
      "metadata": {
        "id": "U7FT4lAWZILx",
        "colab_type": "text"
      },
      "source": [
        "*The cell is currently in development. It works perfectly in its current state, but have some flaws explained under the cell for curiousfags.*"
      ]
    },
    {
      "cell_type": "code",
      "metadata": {
        "id": "g9BG1IB6gl5L",
        "colab_type": "code",
        "colab": {}
      },
      "source": [
        "from IPython.display import HTML\n",
        "from IPython.display import Image\n",
        "from random import choice\n",
        "# listing of pictures made from github filenames (currently 1 to 11 and all .png)\n",
        "sequence = [i for i in range(1, 12)]\n",
        "# select a random pic\n",
        "for _ in range(1):\n",
        "\tpic = choice(sequence)\n",
        "# because fucktards\n",
        "print (\"<- Click this icon to close the pic. Big pictures take longer to load.\")\n",
        "# draw the pic and make it clickable to check it on github\n",
        "HTML(\"<a href=https://github.com/AIDungeonpastes/AID2-Art/tree/master/art/\" + str(pic) + \".png target=_blank><img src=https://raw.githubusercontent.com/AIDungeonpastes/AID2-Art/master/art/\" + str(pic) + \".png></a>\")"
      ],
      "execution_count": 0,
      "outputs": []
    },
    {
      "cell_type": "markdown",
      "metadata": {
        "id": "1dwuWFcBZ_Eu",
        "colab_type": "text"
      },
      "source": [
        "*   The pictures listing is not dynamic and if any picture name change, the script will broke on it.\n",
        "*   Any new picture in the repo needs the (1, 12) to be implemented manually accordingly (basically +1 for each new pic)\n",
        "*   By default, Colab cells output scrolls down to the last line, meaning you have to scroll up to the beginning of the story\n",
        "\n"
      ]
    }
  ]
}
