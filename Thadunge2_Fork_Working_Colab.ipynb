{
  "nbformat": 4,
  "nbformat_minor": 0,
  "metadata": {
    "colab": {
      "name": "Thadunge2 Fork Working Colab.ipynb",
      "provenance": [],
      "collapsed_sections": [],
      "machine_shape": "hm",
      "include_colab_link": true
    },
    "kernelspec": {
      "name": "python3",
      "display_name": "Python 3"
    },
    "accelerator": "GPU"
  },
  "cells": [
    {
      "cell_type": "markdown",
      "metadata": {
        "id": "view-in-github",
        "colab_type": "text"
      },
      "source": [
        "<a href=\"https://colab.research.google.com/github/Kornilov1/Thadunge2-Fork-Working-Colab/blob/Visuals/Thadunge2_Fork_Working_Colab.ipynb\" target=\"_parent\"><img src=\"https://colab.research.google.com/assets/colab-badge.svg\" alt=\"Open In Colab\"/></a>"
      ]
    },
    {
      "cell_type": "markdown",
      "metadata": {
        "id": "7dRi_BDWErNf",
        "colab_type": "text"
      },
      "source": [
        "# ![Special Edition](https://i.ibb.co/zN5YfKR/V-special-edition.jpg)"
      ]
    },
    {
      "cell_type": "markdown",
      "metadata": {
        "id": "JICnNPtb6S-I",
        "colab_type": "text"
      },
      "source": [
        "Based on <a href=\"https://twitter.com/nickwalton00?ref_src=twsrc%5Etfw\" class=\"twitter-follow-button\" data-show-count=\"false\">Nick Walton</a>'s work.\n",
        "\n",
        "\n",
        "\n",
        "---\n",
        "\n",
        "\n",
        "AI Dungeon 2 is a completely AI generated text adventure built with OpenAI's largest GPT-2 model. It's a first of it's kind game that allows you to enter and will react to any action you can imagine.\n",
        "\n",
        "This is a mod of the base game made entirely by the collective efforts of Anons, so you know what to expect from this.\n"
      ]
    },
    {
      "cell_type": "markdown",
      "metadata": {
        "id": "xn0bEX3R8IMC",
        "colab_type": "text"
      },
      "source": [
        "---\n",
        "#How to play\n",
        "---"
      ]
    },
    {
      "cell_type": "markdown",
      "metadata": {
        "id": "Fr5j3r9N3v39",
        "colab_type": "text"
      },
      "source": [
        "*When you are asked to run a cell, click this*\n",
        "\n",
        "![THIS !](https://i.ibb.co/Bjh7R8g/run-cell.jpg)\n",
        "\n",
        "*Make sure each command is finished, some of them take a while to process.*\n",
        "\n",
        "*For a comfier experience, click \"Tools\"-> \"Settings...\" -> \"Theme\" -> \"Dark\"*\n",
        "\n",
        "*Run the [SECTION 3 - CELL 1](#scrollTo=zITeSYmJvBp4) if you want more RAM, the allocated GPU will crash (takes about 80-85 seconds) and Google Colab will offer you an option to get more RAM (max is 25GB).*\n",
        "\n",
        "*If you have already downloaded the \"model_v5\" folder through torrent, I advise against deleting it, it might come handy in the future. If anyone is curious [here is the torrent](https://github.com/nickwalton/AIDungeon/files/3935881/model_v5.torrent.zip)*."
      ]
    },
    {
      "cell_type": "markdown",
      "metadata": {
        "id": "1kFSce_Y2Gys",
        "colab_type": "text"
      },
      "source": [
        "1. First **make sure you have a Google Drive account with at least 6Gb of free space in it and that you are signed up**.\n",
        "2. On the top left: Click \"File\"-> \"Save a a copy in Drive\". A new tab will open, **close the current tab and use the new one**.\n",
        "3. Delete your AIdungeon folder in your Google Drive if it's already in it.\n",
        "4. Run the [SECTION 1 - CELL 1](#scrollTo=36Gkd-RytcM_), it will install needed dependencies and mount your Google Drive. **It will ask for authorization so follow the link given and log in, then paste the code back in the box that showed up under the code and press enter**.\n",
        "5. Run the [SECTION 1 - CELL 2](#scrollTo=sSR483VQts7V), it will download the game files to /content/AIDungeon/. You can also freely choose your favorite repo there.\n",
        "6. Run the [SECTION 1 - CELL 3](#scrollTo=afImEGdNuC9A), it will copy the game files to your Google Drive so they won't have to be downloaded every time.\n",
        "7. Now AIDungeon is correctly installed in your Google Drive, you just need to run the [SECTION 2 - CELL 1](#scrollTo=A_sVH81JyJin) to play, but **DO NOT REPEAT THE PREVIOUS STEPS**"
      ]
    },
    {
      "cell_type": "markdown",
      "metadata": {
        "id": "gmioGz252Ghx",
        "colab_type": "text"
      },
      "source": [
        "---\n",
        "# How to play again\n",
        "---"
      ]
    },
    {
      "cell_type": "markdown",
      "metadata": {
        "id": "kp6f3co42GFg",
        "colab_type": "text"
      },
      "source": [
        "When running the game **again** (i.e.: after you closed the tab) just:\n",
        " - Run the [SECTION 1 - CELL 1](#scrollTo=36Gkd-RytcM_). You will need to authorize it again.\n",
        "* If this cell gives you an error, try clicking \"Runtime\"-> \"Restart runtime\" on the top of the screen.\n",
        " - Run the [SECTION 2 - CELL 1](#scrollTo=A_sVH81JyJin) and play the game."
      ]
    },
    {
      "cell_type": "markdown",
      "metadata": {
        "id": "KstmddkB1vhT",
        "colab_type": "text"
      },
      "source": [
        "---\n",
        "# How to update\n",
        "---"
      ]
    },
    {
      "cell_type": "markdown",
      "metadata": {
        "id": "iuxuUz451oPN",
        "colab_type": "text"
      },
      "source": [
        "1. Run [SECTION 3 - CELL 2](#scrollTo=UuZSuj6OiTEI), it will get only the latest changes made on the GitHub, and put them in your Gdrive folder.\n",
        "2. If you're paranoid and want to make sure everything is up-to-date, you will have to repeat everything over again starting from **How to play - step 3** , from time to time."
      ]
    },
    {
      "cell_type": "markdown",
      "metadata": {
        "id": "88pDH9FP0TCz",
        "colab_type": "text"
      },
      "source": [
        "---\n",
        "# Latest News\n",
        "---"
      ]
    },
    {
      "cell_type": "markdown",
      "metadata": {
        "id": "pEm0jTmB0jty",
        "colab_type": "text"
      },
      "source": [
        "If it applies, here are going to be posted the LATEST, Github update, BUGS:\n",
        "* The \"save\" and the \"load\" commands are fucked apparently.\n",
        "* The \"restart\" command will crash the AI if, after using it, when it asks you to rate the story, you press enter without actually rating it (that is, without typing a number).\n",
        "* The second and the third cells will give you some kind of error. This causes a nasty bug where a bunch of (useless) ghost python files are going to be uploaded to your Google Drive account, and deleting them is a pain in the ass. Because of this, you will probably want to be logged in with a throwaway Google Drive account, instead of with your main one.\n",
        "\n",
        "    \n",
        "**Despite these bugs, the current game version is FULLY PLAYABLE.**\n",
        "\n",
        "\n",
        "* This Colab can now support drawfag creations, find them in [SECTION 3 - CELL 3](#scrollTo=ooL1ozRUgO5r)"
      ]
    },
    {
      "cell_type": "markdown",
      "metadata": {
        "id": "nqgPglYzMeek",
        "colab_type": "text"
      },
      "source": [
        "\n",
        "---\n",
        "---\n",
        "# SECTION 1 : SETUP\n",
        "---\n",
        "---"
      ]
    },
    {
      "cell_type": "markdown",
      "metadata": {
        "id": "36Gkd-RytcM_",
        "colab_type": "text"
      },
      "source": [
        "---\n",
        "---\n",
        "#CELL 1 : Installing dependencies and mounting GDrive\n"
      ]
    },
    {
      "cell_type": "markdown",
      "metadata": {
        "id": "WcHlF6MkP0-Y",
        "colab_type": "text"
      },
      "source": [
        "Run the cell.\n",
        "\n",
        "*You must run this cell each time you come back to play before running the game in SECTION 2 - CELL 1*"
      ]
    },
    {
      "cell_type": "code",
      "metadata": {
        "id": "meQ2T-4uxFDN",
        "colab_type": "code",
        "colab": {}
      },
      "source": [
        "!pip install regex\n",
        "!pip install profanityfilter\n",
        "!pip install playsound\n",
        "!pip install func_timeout\n",
        "!pip install tracery\n",
        "from google.colab import drive\n",
        "drive.mount('/content/gdrive', force_remount=True)\n",
        "root_dir = \"/content/gdrive/My Drive/\""
      ],
      "execution_count": 0,
      "outputs": []
    },
    {
      "cell_type": "markdown",
      "metadata": {
        "id": "sSR483VQts7V",
        "colab_type": "text"
      },
      "source": [
        "---\n",
        "---\n",
        "#CELL 2 : Cloning GIT repo to VM"
      ]
    },
    {
      "cell_type": "markdown",
      "metadata": {
        "id": "PULJhld0QWZp",
        "colab_type": "text"
      },
      "source": [
        "Choose your repo. Thadunge2 is the default one.\n",
        "\n",
        "*You can use the form on the right to type the repo you want to use . Format is username/repo*\n",
        "\n",
        "*WARNING : The download_model script DON'T actually check if you have the model, it probably just check if you have the .torrent file. So when it asks you if you want to re download it, you should answer Y just in case, or check your GDrive : AIDungeon/generator/gpt2/models/model_v5 and see if it have the 7 files in it. If you use a custom repo, ignore this warning.*"
      ]
    },
    {
      "cell_type": "code",
      "metadata": {
        "colab_type": "code",
        "id": "4MeHmMf_CUAZ",
        "colab": {}
      },
      "source": [
        "#@title Type your repo here { form-width: \"37.5%\", display-mode: \"both\" }\n",
        "repo = \"thadunge2/AIDungeon\" #@param [\"thadunge2/AIDungeon\"] {allow-input: true}\n",
        "!git clone https://github.com/$repo\n",
        "%cd AIDungeon\n",
        "!chmod 777 install.sh \n",
        "!sed -i -e 's/\\r$//' install.sh\n",
        "!./install.sh\n",
        "!chmod 777 download_model.sh \n",
        "!sed -i -e 's/\\r$//' download_model.sh\n",
        "!./download_model.sh\n",
        "from IPython.display import clear_output \n",
        "clear_output()\n",
        "print(\"Download Complete!\")"
      ],
      "execution_count": 0,
      "outputs": []
    },
    {
      "cell_type": "markdown",
      "metadata": {
        "id": "afImEGdNuC9A",
        "colab_type": "text"
      },
      "source": [
        "---\n",
        "---\n",
        "#CELL 3 : Copying game files from VM to GDrive"
      ]
    },
    {
      "cell_type": "markdown",
      "metadata": {
        "id": "dKSFipS_CuoC",
        "colab_type": "text"
      },
      "source": [
        "Run the cell. It take a bit of time, be patient.\n",
        "\n",
        "*If you get this type of error, do not worry, it's just a few python setup files that can't be copied for currently unkown reasons, but you can still play :*\n",
        "*   */content/gdrive/My Drive*\n",
        "*   *mv: cannot create symbolic link '/content/gdrive/My Drive/AIDungeon/venv/lib64': Operation not supported*\n",
        "*   *mv: cannot create symbolic link '/content/gdrive/My Drive/AIDungeon/venv/bin/python3': Operation not supported*\n",
        "*   *mv: cannot create symbolic link '/content/gdrive/My Drive/AIDungeon/venv/bin/python': Operation not supported*\n",
        "\n",
        "\n"
      ]
    },
    {
      "cell_type": "code",
      "metadata": {
        "colab_type": "code",
        "id": "6y7zF5AdCTSz",
        "cellView": "both",
        "colab": {}
      },
      "source": [
        "%cd \"/content/gdrive/My Drive/\"\n",
        "!mkdir AIDungeon\n",
        "!mv /content/AIDungeon/{,.[^.]}* \"/content/gdrive/My Drive/AIDungeon\""
      ],
      "execution_count": 0,
      "outputs": []
    },
    {
      "cell_type": "markdown",
      "metadata": {
        "id": "sad33SaPNMQU",
        "colab_type": "text"
      },
      "source": [
        "---\n",
        "---\n",
        "# SECTION 2 : PLAY THE GAME\n",
        "---\n",
        "---"
      ]
    },
    {
      "cell_type": "markdown",
      "metadata": {
        "id": "A_sVH81JyJin",
        "colab_type": "text"
      },
      "source": [
        "---\n",
        "---\n",
        "# CELL 1 : Play"
      ]
    },
    {
      "cell_type": "markdown",
      "metadata": {
        "id": "vunT3Rp-lO6N",
        "colab_type": "text"
      },
      "source": [
        "Run the cell."
      ]
    },
    {
      "cell_type": "code",
      "metadata": {
        "colab_type": "code",
        "id": "3F-suih1TuDZ",
        "colab": {}
      },
      "source": [
        "%cd \"/content/gdrive/My Drive/AIDungeon\"\n",
        "from IPython.display import Javascript\n",
        "display(Javascript('''google.colab.output.setIframeHeight(0, true, {maxHeight: 5000})'''))\n",
        "!python play.py"
      ],
      "execution_count": 0,
      "outputs": []
    },
    {
      "cell_type": "markdown",
      "metadata": {
        "id": "9mO5XY3HOBKN",
        "colab_type": "text"
      },
      "source": [
        "---\n",
        "---\n",
        "# SECTION 3 : OPTIONAL\n",
        "---\n",
        "---"
      ]
    },
    {
      "cell_type": "markdown",
      "metadata": {
        "id": "zITeSYmJvBp4",
        "colab_type": "text"
      },
      "source": [
        "---\n",
        "---\n",
        "# CELL 1 : Maximize RAM"
      ]
    },
    {
      "cell_type": "markdown",
      "metadata": {
        "id": "s8JwIpZhqxJa",
        "colab_type": "text"
      },
      "source": [
        "If you get an OOM (out of memory error, random crashes) you might want to increase the available RAM. To do this, run the cell below.\n",
        "\n",
        "*Wait until it crashes and a little message pops up (takes about 80-85 seconds) asking if you'd like to increase the available memory. Say yes and run the game in SECTION 2 - CELL 1.*"
      ]
    },
    {
      "cell_type": "code",
      "metadata": {
        "id": "Zb8MBT52sIHn",
        "colab_type": "code",
        "colab": {}
      },
      "source": [
        "thislist = [\"1\"]\n",
        "while 1:\n",
        "    thislist.append(\"1\")"
      ],
      "execution_count": 0,
      "outputs": []
    },
    {
      "cell_type": "markdown",
      "metadata": {
        "id": "UuZSuj6OiTEI",
        "colab_type": "text"
      },
      "source": [
        "---\n",
        "---\n",
        "# CELL 2 : Updating GIT repo in GDrive"
      ]
    },
    {
      "cell_type": "markdown",
      "metadata": {
        "colab_type": "text",
        "id": "2uHh66g_ioSq"
      },
      "source": [
        "Run this cell from time to time to update the repo you use. \n",
        "\n",
        "*It will ask your authorization code to force remount your GDrive in the VM in order to do the update.*\n",
        "\n",
        "*WARNING : before updating your game, go to your GDrive and copy the \"AIDungeon\" folder to \"AIDungeon-Old\". Made sure the current update is STABLE, before actually overwriting your files. In case the update is buggy, you just need to delete the updated \"AIDungeon\" folder, and rename back the \"AIDungeon-Old\" folder to \"AIDungeon\" to revert back to the stable version.*"
      ]
    },
    {
      "cell_type": "code",
      "metadata": {
        "colab_type": "code",
        "id": "czyMoUu9ixOA",
        "colab": {}
      },
      "source": [
        "from google.colab import drive\n",
        "drive.mount('/content/gdrive', force_remount=True)\n",
        "root_dir = \"/content/gdrive/My Drive/\"\n",
        "%cd \"/content/gdrive/My Drive/AIDungeon\"\n",
        "!git pull"
      ],
      "execution_count": 0,
      "outputs": []
    },
    {
      "cell_type": "markdown",
      "metadata": {
        "id": "ooL1ozRUgO5r",
        "colab_type": "text"
      },
      "source": [
        "---\n",
        "---\n",
        "# CELL 3 : FANARTS"
      ]
    },
    {
      "cell_type": "markdown",
      "metadata": {
        "id": "nQN338QjYrqO",
        "colab_type": "text"
      },
      "source": [
        "Run this cell and get a random image from a Git repo with some drawfag stuff. The pic is even clickable so you can go straight to its Github page."
      ]
    },
    {
      "cell_type": "markdown",
      "metadata": {
        "id": "U7FT4lAWZILx",
        "colab_type": "text"
      },
      "source": [
        "*The cell is currently in development. It works perfectly in its current state, but have some flaws explained under the cell for curiousfags.*"
      ]
    },
    {
      "cell_type": "code",
      "metadata": {
        "id": "g9BG1IB6gl5L",
        "colab_type": "code",
        "colab": {}
      },
      "source": [
        "from IPython.display import HTML\n",
        "from IPython.display import Image\n",
        "from random import choice\n",
        "# listing of pictures made from github filenames (currently 1 to 11 and all .png)\n",
        "sequence = [i for i in range(1, 12)]\n",
        "# select a random pic\n",
        "for _ in range(1):\n",
        "\tpic = choice(sequence)\n",
        "# because fucktards\n",
        "print (\"<- Click this icon to close the pic. Big pictures take longer to load.\")\n",
        "# draw the pic and make it clickable to check it on github\n",
        "HTML(\"<a href=https://github.com/AIDungeonpastes/AID2-Art/tree/master/art/\" + str(pic) + \".png target=_blank><img src=https://raw.githubusercontent.com/AIDungeonpastes/AID2-Art/master/art/\" + str(pic) + \".png></a>\")"
      ],
      "execution_count": 0,
      "outputs": []
    },
    {
      "cell_type": "markdown",
      "metadata": {
        "id": "1dwuWFcBZ_Eu",
        "colab_type": "text"
      },
      "source": [
        "*   The pictures listing is not dynamic and if any picture name change, the script will broke on it.\n",
        "*   Any new picture in the repo needs the (1, 12) to be implemented manually accordingly (basically +1 for each new pic)\n",
        "*   By default, Colab cells output scrolls down to the last line, meaning you have to scroll up to the beginning of the story\n",
        "\n"
      ]
    }
  ]
}