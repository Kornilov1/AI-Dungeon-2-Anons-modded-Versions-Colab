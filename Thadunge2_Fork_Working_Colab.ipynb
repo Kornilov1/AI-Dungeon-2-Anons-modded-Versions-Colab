{
  "nbformat": 4,
  "nbformat_minor": 0,
  "metadata": {
    "colab": {
      "name": "Thadunge2 Fork Working Colab v1.0.ipynb",
      "provenance": [],
      "collapsed_sections": [],
      "toc_visible": true,
      "machine_shape": "hm",
      "include_colab_link": true
    },
    "kernelspec": {
      "name": "python3",
      "display_name": "Python 3"
    },
    "accelerator": "GPU"
  },
  "cells": [
    {
      "cell_type": "markdown",
      "metadata": {
        "id": "view-in-github",
        "colab_type": "text"
      },
      "source": [
        "<a href=\"https://colab.research.google.com/github/Kornilov1/Thadunge2-Fork-Working-Colab/blob/master/Thadunge2_Fork_Working_Colab.ipynb\" target=\"_parent\"><img src=\"https://colab.research.google.com/assets/colab-badge.svg\" alt=\"Open In Colab\"/></a>"
      ]
    },
    {
      "cell_type": "markdown",
      "metadata": {
        "id": "7dRi_BDWErNf",
        "colab_type": "text"
      },
      "source": [
        "# ![Special Edition](https://i.ibb.co/zN5YfKR/V-special-edition.jpg)"
      ]
    },
    {
      "cell_type": "markdown",
      "metadata": {
        "id": "JICnNPtb6S-I",
        "colab_type": "text"
      },
      "source": [
        "Based on <a href=\"https://twitter.com/nickwalton00?ref_src=twsrc%5Etfw\" class=\"twitter-follow-button\" data-show-count=\"false\">Nick Walton</a>'s work.\n",
        "\n",
        "\n",
        "\n",
        "---\n",
        "\n",
        "\n",
        "\n",
        "## About the game\n",
        "AI Dungeon 2 is a completely AI generated text adventure built with OpenAI's largest GPT-2 model. It's a first of it's kind game that allows you to enter and will react to any action you can imagine.\n",
        "\n",
        "This is a mod of the base game made entirely by the collective efforts of Anons, so you know what to expect from this.\n",
        "\n",
        "This colab is a frontend aiming to allow users to easily run different versions of AIDungeon.\n",
        "Currently supported repositories :\n",
        "* [Thadunge2](https://github.com/thadunge2/AIDungeon/)\n",
        "* [Clover-Edition](https://github.com/cloveranon/Clover-Edition)\n",
        "\n",
        "## Disclaimer about the author\n",
        " - The original author of the game (who is a mormon IRL) is a confirmed hack that doesn't even know what the fuck he is doing: he trained the AI with bullshit it didn't even need, with the training data being badly formatted (which is where all the weird responses from the AI come from), on an Open Source software (GPT-2 model), and putting it online with some simple code anyone could write.\n",
        " - And right now he is begging for money on patreon (evolving to mormon-jew), for costs he doesn't even have, to do something he is too retarded to do, and with promises to change shit he can't change. He is a scammer and doesn't deserve your money. If you already donated, try to pull out.\n"
      ]
    },
    {
      "cell_type": "markdown",
      "metadata": {
        "id": "xn0bEX3R8IMC",
        "colab_type": "text"
      },
      "source": [
        "---\n",
        "#Preliminary Info / Initial Setup\n",
        "---"
      ]
    },
    {
      "cell_type": "markdown",
      "metadata": {
        "id": "Fr5j3r9N3v39",
        "colab_type": "text"
      },
      "source": [
        "*When you are asked to run a cell, click this*\n",
        "\n",
        "![THIS !](https://i.ibb.co/Bjh7R8g/run-cell.jpg)\n",
        "\n",
        "*Make sure each command is finished, some of them take a while to process.*\n",
        "\n",
        "*For a comfier experience, click \"Tools\"-> \"Settings...\" -> \"Theme\" -> \"Dark\"*\n",
        "\n",
        "*If you have already downloaded the \"model_v5\" folder through torrent, I advise against deleting it, it might come handy in the future. If anyone is curious [here is the torrent](https://github.com/nickwalton/AIDungeon/files/3935881/model_v5.torrent.zip)*."
      ]
    },
    {
      "cell_type": "markdown",
      "metadata": {
        "id": "1kFSce_Y2Gys",
        "colab_type": "text"
      },
      "source": [
        "1. First **make sure you have a Google Drive account with at least 6GB of free space in it and that you are signed up**.\n",
        "2. On the top left: Click \"File\"-> \"Save a a copy in Drive\". A new tab will open, **close the current tab and use the new one**.\n",
        "3. Delete your AIdungeon folder in your Google Drive if it's already in it."
      ]
    },
    {
      "cell_type": "markdown",
      "metadata": {
        "id": "gmioGz252Ghx",
        "colab_type": "text"
      },
      "source": [
        "---\n",
        "# How to play\n",
        "---"
      ]
    },
    {
      "cell_type": "markdown",
      "metadata": {
        "id": "kp6f3co42GFg",
        "colab_type": "text"
      },
      "source": [
        "1. (Optional) Run the [SECTION 2 - CELL 1](#scrollTo=zITeSYmJvBp4) for more RAM, the allocated GPU will crash (takes about 10 seconds) and Google Colab will offer you an option to get more RAM (max is 25GB), if you have already max RAM you can skip this.*\n",
        "2. Go to [SECTION 1 : PLAY THE GAME](#scrollTo=WcHlF6MkP0-Y), select the modded game version of your choice, chose the height of the game output, run the cell and play.\n",
        "3. (Optional) Go to [SECTION 2 - CELL 2](#scrollTo=ooL1ozRUgO5r) to see some Drawfag OC"
      ]
    },
    {
      "cell_type": "markdown",
      "metadata": {
        "id": "88pDH9FP0TCz",
        "colab_type": "text"
      },
      "source": [
        "---\n",
        "# Latest News\n",
        "---"
      ]
    },
    {
      "cell_type": "markdown",
      "metadata": {
        "id": "pEm0jTmB0jty",
        "colab_type": "text"
      },
      "source": [
        "**Workarounds**\n",
        "\n",
        "Some anons have reported a bunch of ghost python files getting uploaded to their GDrive and having a bad time deleting them. Here's the best way to deal with it. **It is also the best way to clear your GDrive!!!**\n",
        "\n",
        "Close all runtime, disconnect your VM and close the colab page. Wait a minute or two to be sure you're unlogged and **THEN** go to GDrive delete your files and empty your trash. The bug is caused because people want to delete files in their GDrive while its being mounted in th VM, and so, in use.\n",
        "\n",
        "---\n",
        "**AIDungeon**\n",
        "\n",
        "* The \"/restart\" command will crash the AI if, after using it, when it asks you to rate the story, you press enter without actually rating it (that is, without typing a number).\n",
        "* The download_model.sh doesn't check if you have the model_v5 folder, but only check for its parent folder, models. Since it doesn't check if you effectively have the model, you better say YES when it asks you if you want to redownload the model.\n",
        "\n",
        "**Despite these bugs, it's still FULLY PLAYABLE.**\n",
        "\n",
        "---\n",
        "**Clover-Edition**\n",
        "\n",
        "Newly introduced work from a fellow anon, their github is [here](https://github.com/cloveranon/Clover-Edition). We hope to have feedback, for us and them, so try it! \n",
        "\n",
        "* Clover-Edition now have custom prompts and word-wrapping\n",
        "\n",
        "Here's a shameless copypasta of his \"Features\" tab:\n",
        " *   Complete rewrite of the user interface\n",
        " *   Color text output\n",
        " *   Console Bell when AI finishes\n",
        " *   Much improved prompt selection\n",
        " *   A much larger library of fan made starting prompts\n",
        " *   Better config file\n",
        " *   Eventually hope to improve the AI itself, but this will take some time\n",
        "\n",
        "Please note that you should erase your AIDungeon folder before attempting to play Clover-Edition and vice-versa. I tried as much as possible to separate the versions but sometimes it still happen that one installs in the other resulting in AIDungeon/Clover-Edition or Clover-Edition/AIDungeon filesystem. While theoretically harmless, it's a mess so be careful. Please also remember that Clover-Edition will ALSO download the model_v5 folder, you probably don't want both versions in your drive at the same time. 6+6 = 12Gb after all.\n",
        "\n",
        "---\n",
        "**Colab**\n",
        "* Workarounds moved to top of the latest news.\n",
        "* Completly re-worked the play cells so that now there is a all in one cell.\n",
        "* This Colab can now support drawfag creations, find them in [SECTION 2 - CELL 2](#scrollTo=ooL1ozRUgO5r). We need feedback on this.\n",
        "* Some Warnings were moved to the latest news to clear the cells and regroup all important stuff in place."
      ]
    },
    {
      "cell_type": "markdown",
      "metadata": {
        "id": "nqgPglYzMeek",
        "colab_type": "text"
      },
      "source": [
        "\n",
        "---\n",
        "---\n",
        "# SECTION 1 : PLAY THE GAME\n",
        "---\n",
        "---"
      ]
    },
    {
      "cell_type": "markdown",
      "metadata": {
        "id": "WcHlF6MkP0-Y",
        "colab_type": "text"
      },
      "source": [
        "Choose AIDungeon or Clover-Edition, choose the output height of the game (max height of the output in pixels, original default was 5000) (beta, give feedbacks), run the cell.\n",
        "\n",
        "If you're a curiousfag, double-click the cell (\"Choose your version\" area) and you will see the code. another doubleclick at the form on the right will re-enable code hiding."
      ]
    },
    {
      "cell_type": "code",
      "metadata": {
        "id": "mgeE5kbXXr6o",
        "colab_type": "code",
        "colab": {}
      },
      "source": [
        "# The next comment is actually the formatting of the form.\n",
        "#@title Choose your version { form-width: \"10%\", display-mode: \"form\" }\n",
        "\n",
        "# Here goes all the class imports needed by the cell\n",
        "from google.colab import drive\n",
        "from IPython.display import clear_output\n",
        "from IPython import os\n",
        "from IPython.display import Javascript\n",
        "\n",
        "# This will mount GDrive into the VM at /content/gdrive/My Drive\n",
        "# and place us in it\n",
        "print('----------------------------------------------------')\n",
        "print(\"Hello there Anon! Let us begin with the Google login\")\n",
        "print('----------------------------------------------------\\n\\n')\n",
        "drive.mount('/content/gdrive', force_remount=True)\n",
        "root_dir = \"/content/gdrive/My Drive/\"\n",
        "#%cd \"/content/gdrive/MyDrive\" POSSIBLY USELESS LINE\n",
        "\n",
        "# This will install needed dependencies\n",
        "print('----------------------------------------------------')\n",
        "print(\"Now we must install some dependencies\")\n",
        "print('----------------------------------------------------\\n\\n')\n",
        "!pip install regex\n",
        "!pip install profanityfilter\n",
        "!pip install playsound\n",
        "!pip install func_timeout\n",
        "!pip install tracery\n",
        "\n",
        "# These variables are dynamically changed depending of the form\n",
        "# The comment besides the variable is mandatory to pass the form value to\n",
        "# the code\n",
        "repository = \"thadunge2/AIDungeon\" #@param [\"thadunge2/AIDungeon\", \"cloveranon/Clover-Edition\"]\n",
        "view = 10000 #@param {type:\"slider\", min:100, max:10000, step:100}\n",
        "# This small code sets all variables needed according to the repository variable\n",
        "# Is compatible with any repo using the standard filesystem. Just ad a new \"if (repo...\" block\n",
        "# and enter the repo variables to set it up.\n",
        "if (repository == \"thadunge2/AIDungeon\"):\n",
        "  gamename = \"AIDungeon\"\n",
        "  gamefolder = \"AIDungeon\"\n",
        "  gamepath = \"/content/gdrive/My Drive/AIDungeon\"\n",
        "  modelpath = \"/content/gdrive/My Drive/AIDungeon/generator/gpt2/models/model_v5\"\n",
        "  remotegit = \"https://github.com/thadunge2/AIDungeon\"\n",
        "if (repository == \"cloveranon/Clover-Edition\"):\n",
        "  gamename = \"Clover-Edition\"\n",
        "  gamefolder = \"Clover-Edition\"\n",
        "  gamepath = \"/content/gdrive/My Drive/Clover-Edition\"\n",
        "  modelpath = \"/content/gdrive/My Drive/Clover-Edition/generator/gpt2/models/model_v5\"\n",
        "  remotegit = \"https://github.com/cloveranon/Clover-Edition\"\n",
        "\n",
        "# This is the main code. It checks the existence of the game main folder and\n",
        "# the game's model_v5 folder. in case it doesn't found the game path, it asks\n",
        "# you to install the game. If it finds the game, but not the model_v5 folder,\n",
        "# it asks you if you want to try to download it from the scripts in the game\n",
        "# folder. if it can't install the game or get the model_v5 folder, it aborts\n",
        "# cell with a (warned) crash. It's the only way I know to stop a cell by itself.\n",
        "# If it finds the game folder and the model_v5 folder, it goes straight to\n",
        "# !git fetch.\n",
        "if os.path.isdir(gamepath):\n",
        "    print('----------------------------------------------------')\n",
        "    print(str(gamename) + \"'s folder found!\")\n",
        "    print('----------------------------------------------------\\n\\n')    \n",
        "else:\n",
        "    answer = None\n",
        "    while answer not in (\"yes\",\"no\",\"y\",\"n\"):\n",
        "        answer = input('\\n' + str(gamename) + \"'s folder not found. Do you want to install \" + str(gamename) + \"? (yes, y / no, n)\\n\\n\")\n",
        "        if answer in (\"yes\",\"y\"):\n",
        "            try:\n",
        "                input('MAKE SURE TO CHOOSE YES if/when it asks you if you want to RE-DOWNLOAD the model.\\nPress Enter to start the installation...\\n')\n",
        "                !git clone $remotegit\n",
        "                %cd $gamefolder\n",
        "                !chmod 777 install.sh \n",
        "                !sed -i -e 's/\\r$//' install.sh\n",
        "                !./install.sh\n",
        "                !chmod 777 download_model.sh \n",
        "                !sed -i -e 's/\\r$//' download_model.sh\n",
        "                !./download_model.sh\n",
        "                %cd $root_dir\n",
        "                !mkdir $gamefolder\n",
        "                print('Moving the files from VM to GDrive. Can be a bit long.')\n",
        "                #URGENT try to find a verbose mode or a thing to show some progress for !mv URGENT\n",
        "                !mv \"/content/${gamefolder}/\"{,.[^.]}* \"/content/gdrive/My Drive/${gamefolder}\"\n",
        "            except KeyboardInterrupt:\n",
        "                pass\n",
        "                if os.path.isdir(gamepath):\n",
        "                    print('----------------------------------------------------')\n",
        "                    print(str(gamename) + \"'s successfully installed!\")\n",
        "                    print('----------------------------------------------------\\n\\n')                    \n",
        "                    if os.path.isdir(modelpath):\n",
        "                        print('----------------------------------------------------')\n",
        "                        print('model_v5 successfully installed!')\n",
        "                        print('----------------------------------------------------\\n\\n')                        \n",
        "                    else:\n",
        "                        input('Something went wrong, model_v5 folder is missing.\\nSend this to the thread :\\nERROR : MISSING MODEL_V5 POST-INSTALL\\nThe cell will crash now, please press ENTER...\\n')\n",
        "                        # URGENT try a rerun with magics or find a way to stop cell without force crash URGENT\n",
        "                        raise SystmExit\n",
        "        elif answer in (\"no\",\"n\"):\n",
        "            input(\"Without install, the game can't run.\\nThe cell will crash now, please press ENTER...\\n\")\n",
        "                # URGENT try a rerun with magics or find a way to stop cell without force crash URGENT\n",
        "            raise SystmExit\n",
        "        else:\n",
        "            print(\"Accepted inputs: yes, y, no, n.\")\n",
        "\n",
        "\n",
        "if os.path.isdir(modelpath):\n",
        "    print('----------------------------------------------------')\n",
        "    print(\"model_v5 folder found!\")\n",
        "    print('----------------------------------------------------\\n\\n')    \n",
        "else:\n",
        "    answer = None\n",
        "    while answer not in (\"yes\",\"no\",\"y\",\"n\"):\n",
        "        answer = input(\"model_v5 folder not found!\\nDo you want to try to download it with \" + str(gamename) + \"'s scripts?\\n\\n\")\n",
        "        #COMING (as) SOON (as I figure out how to do it) : Our own download model_v5 script to avoid git hub scripts issues\n",
        "        if answer in (\"yes\",\"y\"):\n",
        "            try:\n",
        "                input('MAKE SURE TO CHOOSE YES if/when it asks you if you want to RE-DOWNLOAD the model.\\nPress Enter to start the download...\\n')\n",
        "            except KeyboardInterrupt:\n",
        "                pass\n",
        "                %cd $gamepath\n",
        "                !chmod 777 download_model.sh \n",
        "                !sed -i -e 's/\\r$//' download_model.sh\n",
        "                !./download_model.sh\n",
        "                if os.path.isdir(modelpath):\n",
        "                    print('----------------------------------------------------')\n",
        "                    print(\"model_v5 folder found!\")\n",
        "                    print('----------------------------------------------------\\n\\n')\n",
        "                else:\n",
        "                    input(\"The model_v5 folder is still not there.\\nSend this to the thread :\\nERROR : MISSING MODEL_V5 STANDARD CHECK RE DOWNLOAD FAIL\\nThe cell will crash now, please press ENTER...\\n\")\n",
        "                    #  URGENT try a rerun with magics or find a way to stop cell without force crash URGENT\n",
        "                    raise SystmExit\n",
        "        elif answer in (\"no\",\"n\"):\n",
        "                input(\"You can get the torrent file here :\\nhttps://github.com/nickwalton/AIDungeon/files/3935881/model_v5.torrent.zip\\nThe cell will now crash.\\nPlease press Enter...\")\n",
        "                #  URGENT try a rerun with magics or find a way to stop cell without force crash URGENT\n",
        "                raise SystmExit\n",
        "        else:\n",
        "            print(\"Accepted inputs: yes, y, no, n.\\n\")\n",
        "# The last bits of code. Checking for update verbose mode to\n",
        "# show the message when it's already up-to-date.\n",
        "%cd $gamepath\n",
        "!git fetch -v\n",
        "# Asking if you want to update. might be a way to hook the fetch result and\n",
        "# determine if it's needed, but it's quite minor. For now, this will do the job.\n",
        "answer = None\n",
        "while answer not in (\"yes\",\"no\",\"y\",\"n\"):\n",
        "    answer = input(\"Do you need/want to update?\\n\")\n",
        "    if answer in (\"yes\",\"y\"):\n",
        "        !git pull\n",
        "    elif answer in (\"no\",\"n\"):\n",
        "        # Nothing needed here, goes straight to clear_output()\n",
        "        pass\n",
        "    else:\n",
        "        print(\"Accepted inputs: yes, y, no, n.\\n\")\n",
        "# Launching the game\n",
        "try:\n",
        "    input('Press Enter to play...')\n",
        "except KeyboardInterrupt:\n",
        "    pass\n",
        "clear_output()\n",
        "display(Javascript('''google.colab.output.setIframeHeight(0, true, {maxHeight: view})'''))\n",
        "!python play.py"
      ],
      "execution_count": 0,
      "outputs": []
    },
    {
      "cell_type": "markdown",
      "metadata": {
        "id": "9mO5XY3HOBKN",
        "colab_type": "text"
      },
      "source": [
        "---\n",
        "---\n",
        "# SECTION 2 : OPTIONAL\n",
        "---\n",
        "---"
      ]
    },
    {
      "cell_type": "markdown",
      "metadata": {
        "id": "zITeSYmJvBp4",
        "colab_type": "text"
      },
      "source": [
        "---\n",
        "---\n",
        "# CELL 1 : Maximize RAM"
      ]
    },
    {
      "cell_type": "markdown",
      "metadata": {
        "id": "s8JwIpZhqxJa",
        "colab_type": "text"
      },
      "source": [
        "If you get an OOM (out of memory error, random crashes) you might want to increase the available RAM. To do this, run the cell below.\n",
        "\n",
        "*Wait until it crashes and a little message pops up (takes about 10 seconds) asking if you'd like to increase the available memory. Say yes and run the game in SECTION 2 - CELL 1.*"
      ]
    },
    {
      "cell_type": "code",
      "metadata": {
        "id": "Zb8MBT52sIHn",
        "colab_type": "code",
        "colab": {}
      },
      "source": [
        "thislist = [\"1\"]\n",
        "while 1:\n",
        "    thislist *= 10"
      ],
      "execution_count": 0,
      "outputs": []
    },
    {
      "cell_type": "markdown",
      "metadata": {
        "id": "ooL1ozRUgO5r",
        "colab_type": "text"
      },
      "source": [
        "---\n",
        "---\n",
        "# CELL 2 : Drawfag OC"
      ]
    },
    {
      "cell_type": "markdown",
      "metadata": {
        "id": "nQN338QjYrqO",
        "colab_type": "text"
      },
      "source": [
        "Run this cell and get a random image from a Git repo with some drawfag stuff. The pic is even clickable so you can go straight to its Github page."
      ]
    },
    {
      "cell_type": "markdown",
      "metadata": {
        "id": "U7FT4lAWZILx",
        "colab_type": "text"
      },
      "source": [
        "*The cell is currently in development. It works perfectly in its current state, but have some flaws explained under the cell for curiousfags.*"
      ]
    },
    {
      "cell_type": "code",
      "metadata": {
        "id": "g9BG1IB6gl5L",
        "colab_type": "code",
        "colab": {}
      },
      "source": [
        "from IPython.display import HTML\n",
        "from IPython.display import Image\n",
        "from random import choice\n",
        "# listing of pictures made from github filenames (currently 1 to 12 and all .png)\n",
        "sequence = [i for i in range(1, 13)]\n",
        "# select a random pic\n",
        "for _ in range(1):\n",
        "\tpic = choice(sequence)\n",
        "# because fucktards\n",
        "print (\"<- Click this icon to close the pic. Big pictures take longer to load.\")\n",
        "# draw the pic and make it clickable to check it on github\n",
        "HTML(\"<center><a href=https://github.com/AIDungeonpastes/AID2-Art/tree/master/art/\" + str(pic) + \".png target=_blank><img src=https://raw.githubusercontent.com/AIDungeonpastes/AID2-Art/master/art/\" + str(pic) + \".png></a></center>\")"
      ],
      "execution_count": 0,
      "outputs": []
    },
    {
      "cell_type": "markdown",
      "metadata": {
        "id": "1dwuWFcBZ_Eu",
        "colab_type": "text"
      },
      "source": [
        "*   The pictures listing is not dynamic and if any picture name change, the script will broke on it.\n",
        "*   Any new picture in the repo needs the (1, 13) to be implemented manually accordingly (basically +1 for each new pic)\n",
        "*   By default, Colab cells output scrolls down to the last line, meaning you have to scroll up to the beginning of the story\n",
        "\n"
      ]
    }
  ]
}
