{
  "nbformat": 4,
  "nbformat_minor": 0,
  "metadata": {
    "colab": {
      "name": "Thadunge2 Fork Working Colab.ipynb",
      "provenance": [],
      "collapsed_sections": [],
      "include_colab_link": true
    },
    "kernelspec": {
      "name": "python3",
      "display_name": "Python 3"
    },
    "accelerator": "GPU"
  },
  "cells": [
    {
      "cell_type": "markdown",
      "metadata": {
        "id": "view-in-github",
        "colab_type": "text"
      },
      "source": [
        "<a href=\"https://colab.research.google.com/github/Kornilov1/Thadunge2-Fork-Working-Colab/blob/master/Thadunge2_Fork_Working_Colab.ipynb\" target=\"_parent\"><img src=\"https://colab.research.google.com/assets/colab-badge.svg\" alt=\"Open In Colab\"/></a>"
      ]
    },
    {
      "cell_type": "markdown",
      "metadata": {
        "id": "7dRi_BDWErNf",
        "colab_type": "text"
      },
      "source": [
        "# AI Dungeon 2 Thadunge2 Fork Working Colab\n",
        "\n",
        "![BYU PCCL](https://pcc4318.files.wordpress.com/2018/02/asset-1.png?w=277)![BYU PCCL](https://i.ibb.co/gPmRK87/1496877631500.png)\n",
        "\n",
        "Sponsored by the [BYU PCCL Lab](https://pcc.cs.byu.edu/).\n",
        "\n",
        "### <a href=\"https://twitter.com/nickwalton00?ref_src=twsrc%5Etfw\" class=\"twitter-follow-button\" data-show-count=\"false\">Follow @nickwalton00</a> on twitter for updates.\n",
        "\n",
        "## About\n",
        "AI Dungeon 2 is a completely AI generated text adventure built with OpenAI's largest GPT-2 model. It's a first of it's kind game that allows you to enter and will react to any action you can imagine.\n",
        "\n",
        "This is a mod of the base game made entirely by the collective efforts of Anons, so you know what to expect from this.\n",
        "\n",
        "## Official Links\n",
        "* While you wait you can [read adventures others have had](https://console.cloud.google.com/storage/browser/aidungeonstories?pli=1/).\n",
        "* [Read more](https://pcc.cs.byu.edu/2019/11/21/ai-dungeon-2-creating-infinitely-generated-text-adventures-with-deep-learning-language-models/) about how AI Dungeon 2 is made.\n",
        "\n",
        "* If you have any questions or issues feel free to contact the author on twitter https://twitter.com/nickwalton00.\n",
        "* If you like playing then please consider [supporting](https://www.patreon.com/join/AIDungeon/) the author. BEWARE that there is no telling of if he will ever cuck out to pressure, but you can see for yourself [here](https://www.patreon.com/posts/roadmap-32316007), also remember that he is a mormom IRL so you know what to expect.\n",
        " - It's official, the author is a confirmed hack that doesn't even know what the fuck is he doing: he trained the AI with bullshit it didn't even need, with the training data being badly formatted (which is where all the weird responses from the AI come from), on an Open Source software (GPT-2 model), and putting it online with some simple code anyone could write.\n", 
        " - And now he begs for money on patreon, for costs he doesn't even have, to do something he is too retarded to do, and with promises to change shit he can't change. He is a scammer and doesn't deserve your money. If you already donated, try to pull out.\n",  
        " - There are Anons currently trying to integrate the vanilla Open Source GPT-2 model with whatever works of the modded version of AI Dungeon 2. But, for the time being, we will have to do with this modded one. There is also the possibility of re-training the AI, but this option (while being looked for) is still too remote for now. "    
      ]
    },
    {
      "cell_type": "markdown",
      "metadata": {
        "id": "xn0bEX3R8IMC",
        "colab_type": "text"
      },
      "source": [
        "# How to play\n",
        "\n",
        "1. First make sure you have a Google Drive account and that you are signed up.\n",  
        "2. On the top left: Click \"File\"-> \"Save a a copy in Drive\". A new tab will open, close the one you where on before.\n",
        "3. Click \"Tools\"-> \"Settings...\" -> \"Theme\" -> \"Dark\" (optional but recommended).\n",
        "4. Delete your AIdungeon folder in your Google Drive if it's already in it.\n",
        " - If you have already downloaded the \"model_v5\" folder through torrent, I advise against deleting it, it might come handy in the future. If anyone is curious **[here is the torrent](https://github.com/nickwalton/AIDungeon/files/3935881/model_v5.torrent.zip)**.\n",
        "5. (Optional) Run the fifth cell if you want more RAM, the allocated GPU will crash (takes about 80-85 seconds) and Google Colab will offer you an option to get more RAM (max is 25GB), if you have already max RAM you can skip this.\n",
        "IF ENOUGH PEOPLE USE THIS OPTION THEN YOU COULD GET A HIGH-RAM SERVER AUTOMATICALLY, IN THIS CASE JUST RECONNECT NORMALLY AND IGNORE THIS STEP.\n",
        "6. Run the first cell, it will install said dependencies and mount your Google Drive. It will ask for authorization so follow the link given and log in, then paste the code back in the box that showed up under the code and press enter.\n",
        "7. Run the second cell, it will download the game files to /content/AIDungeon/.\n",
        " - If you wish to use another Github fork (meaning a different version of the game) for whatever reason, just change the link on the last part of the first line. Unmodded AI Dungeon 2 is: https://github.com/AIDungeon/AIDungeon/\n",
        " - If this cell gives you an error, try replacing the first part of the first cell with the following parameters to install the missing dependencies (it might be possible that future updates to the GitHub fork require more dependencies), run the cell, and it \"should\" solve the problem:\n",
        "        + !pip install regex\n",
        "        + !pip install profanityfilter\n",
        "        + !pip install playsound\n",
        "        + !pip install func_timeout\n",
        "        + !pip install -r requirements.txt\n",
        "8. Run the third cell, it will copy the game files to your Google Drive so they won't have to be downloaded every time.\n",
        "9. Now AIdungeon is correctly installed in your Google Drive, you just need to run the fourth cell to play, but DO NOT REPEAT THE PREVIOUS STEPS\n",
        " - Make sure each command is finished, some of them take a while to process.\n",     
        "10. When running the game again (i.e.: after you closed the tab) just:\n",
        " - Run the first cell. You might need to authorize it again.\n",
        "        + If this cell gives you an error, try clicking \"Runtime\"-> \"Restart runtime\" on the top of the screen.\n",
        " - Run the fourth cell and play the game.\n",
        "11. To get the most recent changes done from the GitHub, you will have to repeat everything over again starting from step \"4.\", from time to time.\n",
        "12. To spice things up a bit once in a while, you might like to switch to the untrained Open Source GPT-2 model (AFAIK it seems to generate better porn stories than the one trained by the author, while that last one seems to be better at generating adventure stories).\n",
        " - You just have to follow these steps and be very CAREFUL (not really tested, please let me know if it works) (Also I'm not even sure if the files I used in the torrent are really the vanilla GPR-2 model ones):\n",
        " - Download the folder in **[this torrent](magnet:?xt=urn:btih:d9964834da2da55b8cc5d079407b5e1f9d489763&dn=AIDungeon-Vanilla+GPT-2)** and remember to seed.\n",
        " - Upload said folder inside your Google Drive account.\n",
        " - Go to the Colab.\n",
        " - Now comes the tricky part. There are 2 methods with which you can switch back and for between the trained and untrained AI, the first one involving editing the Colab (easier), while the second one editing Google Drive (trickier). Pick one method and stick with it:\n",
        " - Method (A): change the first line of the fourth cell, this way it will load the folder (in your Google Drive) that you want to play with. Remember to change that line each time you want to switch of model:\n",
        "        + For the AI Dungeon 2 trained model:\n",
        "            * %cd /content/gdrive/My\\ Drive/AIDungeon\n",
        "        + For the Open Source GPT-2 model:\n",
        "            * %cd /content/gdrive/My\\ Drive/AIDungeon-Vanilla GPT-2\n",
        " - Method (B): each time you want to use a different trained model you will have to rename the desired model folder name (in your Google Drive) to \"AIDungeon\". Then, when you run the fourth cell (which is not changed with this method) it will load that folder which you just renamed. For simplicity’s sake, just do this:\n",
        "        + For the AI Dungeon 2 trained model: rename its folder (default \"AIDungeon\") to \"AIDungeon-Trained\".\n",
        "        + For the Open Source GPT-2 model:  rename its folder (default \"AIDungeon-Vanilla GPT-2\") to \"AIDungeon-Vanilla GPT-2\".\n",
        "        + When you want to play one of the models just rename the desired model folder to \"AIDungeon\".\n",
        "        + After you finish playing with the desired model, rename back the model folder to its past name.\n",
        "            * BEWARE that if you forget to do this method properly and, by mistake, you run the second and then the third cells, they will replace your model folder named \"AIDungeon\" (inside your Google Drive) with the one being used in the GitHub fork on the second cell. So if, at that moment, you had the \"AIDungeon-Vanilla GPT-2\" model named as \"AIDungeon\", this would overwrite and replace it with the \"AIDungeon\" trained model one from the GitHub fork. YOU HAVE BEEN WARNED.\n",
        " - With either of the methods used, you just need to run the first and fourth cells to play. If you are using \"AIDungeon-Vanilla GPT-2\" model, the second and third cells won’t affect you, they will only be required to run when updating the GitHub fork when you switch back of model. But BE EXTREMELY CAREFUL with what was said in the warning up there.\n",
        "\n",
        ""
      ]
    },
    {
      "cell_type": "code",
      "metadata": {
        "id": "meQ2T-4uxFDN",
        "colab_type": "code",
        "colab": {}
      },
      "source": [
        "!pip install regex\n",
        "!pip install profanityfilter\n",
        "!pip install playsound\n",
        "!pip install func_timeout\n",
        "from google.colab import drive\n",
        "drive.mount('/content/gdrive', force_remount=True)\n",
        "root_dir = \"/content/gdrive/My Drive/\""
      ],
      "execution_count": 0,
      "outputs": []
    },
    {
      "cell_type": "code",
      "metadata": {
        "colab_type": "code",
        "id": "4MeHmMf_CUAZ",
        "colab": {}
      },
      "source": [
        "!git clone https://github.com/thadunge2/AIDungeon\n",
        "%cd AIDungeon\n",
        "!chmod 777 install.sh \n",
        "!sed -i -e 's/\\r$//' install.sh\n",
        "!./install.sh\n",
        "from IPython.display import clear_output \n",
        "clear_output()\n",
        "print(\"Download Complete!\")"
      ],
      "execution_count": 0,
      "outputs": []
    },
    {
      "cell_type": "code",
      "metadata": {
        "colab_type": "code",
        "id": "6y7zF5AdCTSz",
        "colab": {}
      },
      "source": [
        "%cd /content/gdrive/My\\ Drive/\n",
        "!mkdir AIDungeon\n",
        "!mv /content/AIDungeon/{,.[^.]}* /content/gdrive/My\\ Drive/AIDungeon"
      ],
      "execution_count": 0,
      "outputs": []
    },
    {
      "cell_type": "code",
      "metadata": {
        "id": "YjArwbWh6XwN",
        "colab_type": "code",
        "colab": {}
      },
      "source": [
        "%cd /content/gdrive/My\\ Drive/AIDungeon\n",
        "from IPython.display import Javascript\n",
        "display(Javascript('''google.colab.output.setIframeHeight(0, true, {maxHeight: 5000})'''))\n",
        "!python play.py"
      ],
      "execution_count": 0,
      "outputs": []
    },
    {
      "cell_type": "markdown",
      "metadata": {
        "id": "s8JwIpZhqxJa",
        "colab_type": "text"
      },
      "source": [
        "If you get an OOM (out of memory error, random crashes) you might want to increase the available RAM. To do this, run the code below. Wait until it crashes and a little message pops up (takes about 80-85 seconds) asking if you'd like to increase the available memory. Say yes and run the game."
       ]
    },
    {
      "cell_type": "code",
      "metadata": {
        "id": "Zb8MBT52sIHn",
        "colab_type": "code",
        "colab": {}
      },
      "source": [
        "thislist = [\"1\"]\n",
        "while 1:\n",
        "    thislist.append(\"1\")"
      ],
      "execution_count": 0,
      "outputs": []
    }
  ]
}
