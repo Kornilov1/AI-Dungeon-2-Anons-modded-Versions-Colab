{
  "nbformat": 4,
  "nbformat_minor": 0,
  "metadata": {
    "colab": {
      "name": "Thadunge2 Fork Working Colab.ipynb",
      "provenance": [],
      "collapsed_sections": [],
      "machine_shape": "hm",
      "include_colab_link": true
    },
    "kernelspec": {
      "name": "python3",
      "display_name": "Python 3"
    },
    "accelerator": "GPU"
  },
  "cells": [
    {
      "cell_type": "markdown",
      "metadata": {
        "id": "view-in-github",
        "colab_type": "text"
      },
      "source": [
        "<a href=\"https://colab.research.google.com/github/Kornilov1/Thadunge2-Fork-Working-Colab/blob/Visuals/Thadunge2_Fork_Working_Colab.ipynb\" target=\"_parent\"><img src=\"https://colab.research.google.com/assets/colab-badge.svg\" alt=\"Open In Colab\"/></a>"
      ]
    },
    {
      "cell_type": "markdown",
      "metadata": {
        "id": "7dRi_BDWErNf",
        "colab_type": "text"
      },
      "source": [
        "# ![Special Edition](https://i.ibb.co/zN5YfKR/V-special-edition.jpg)"
      ]
    },
    {
      "cell_type": "markdown",
      "metadata": {
        "id": "JICnNPtb6S-I",
        "colab_type": "text"
      },
      "source": [
        "Based on <a href=\"https://twitter.com/nickwalton00?ref_src=twsrc%5Etfw\" class=\"twitter-follow-button\" data-show-count=\"false\">Nick Walton</a>'s work.\n",
        "\n",
        "\n",
        "\n",
        "---\n",
        "\n",
        "\n",
        "AI Dungeon 2 is a completely AI generated text adventure built with OpenAI's largest GPT-2 model. It's a first of it's kind game that allows you to enter and will react to any action you can imagine.\n",
        "\n",
        "This is a mod of the base game made entirely by the collective efforts of Anons, so you know what to expect from this.\n",
        "\n",
        "This colab is a frontend aiming to allow users to easily run different versions of AIDungeon.\n",
        "Currently supported repositories :\n",
        "* [Thadunge2](https://github.com/thadunge2/AIDungeon/)\n",
        "* [Clover-Edition](https://github.com/cloveranon/Clover-Edition)\n"
      ]
    },
    {
      "cell_type": "markdown",
      "metadata": {
        "id": "xn0bEX3R8IMC",
        "colab_type": "text"
      },
      "source": [
        "---\n",
        "#How to play\n",
        "---"
      ]
    },
    {
      "cell_type": "markdown",
      "metadata": {
        "id": "Fr5j3r9N3v39",
        "colab_type": "text"
      },
      "source": [
        "*When you are asked to run a cell, click this*\n",
        "\n",
        "![THIS !](https://i.ibb.co/Bjh7R8g/run-cell.jpg)\n",
        "\n",
        "*Make sure each command is finished, some of them take a while to process.*\n",
        "\n",
        "*For a comfier experience, click \"Tools\"-> \"Settings...\" -> \"Theme\" -> \"Dark\"*\n",
        "\n",
        "*Run the [SECTION 3 - CELL 1](#scrollTo=zITeSYmJvBp4) if you want more RAM, the allocated GPU will crash (takes about 80-85 seconds) and Google Colab will offer you an option to get more RAM (max is 25GB).*\n",
        "\n",
        "*If you have already downloaded the \"model_v5\" folder through torrent, I advise against deleting it, it might come handy in the future. If anyone is curious [here is the torrent](https://github.com/nickwalton/AIDungeon/files/3935881/model_v5.torrent.zip)*."
      ]
    },
    {
      "cell_type": "markdown",
      "metadata": {
        "id": "1kFSce_Y2Gys",
        "colab_type": "text"
      },
      "source": [
        "1. First **make sure you have a Google Drive account with at least 6Gb of free space in it and that you are signed up**.\n",
        "2. On the top left: Click \"File\"-> \"Save a a copy in Drive\". A new tab will open, **close the current tab and use the new one**.\n",
        "3. Delete your AIdungeon folder in your Google Drive if it's already in it.\n",
        "4. Run the [SECTION 1 - CELL 1](#scrollTo=36Gkd-RytcM_), it will install needed dependencies and mount your Google Drive. **It will ask for authorization so follow the link given and log in, then paste the code back in the box that showed up under the code and press enter**.\n",
        "5. Run the [SECTION 1 - CELL 2](#scrollTo=sSR483VQts7V), it will download the game files to /content/AIDungeon/. You can also freely choose your favorite repo there.\n",
        "6. Run the [SECTION 1 - CELL 3](#scrollTo=afImEGdNuC9A), it will copy the game files to your Google Drive so they won't have to be downloaded every time.\n",
        "7. Now AIDungeon is correctly installed in your Google Drive, you just need to run the [SECTION 2 - CELL 1](#scrollTo=A_sVH81JyJin) to play, but **DO NOT REPEAT THE PREVIOUS STEPS**"
      ]
    },
    {
      "cell_type": "markdown",
      "metadata": {
        "id": "gmioGz252Ghx",
        "colab_type": "text"
      },
      "source": [
        "---\n",
        "# How to play again\n",
        "---"
      ]
    },
    {
      "cell_type": "markdown",
      "metadata": {
        "id": "kp6f3co42GFg",
        "colab_type": "text"
      },
      "source": [
        "When running the game **again** (i.e.: after you closed the tab) just:\n",
        " - Run the [SECTION 1 - CELL 1](#scrollTo=36Gkd-RytcM_). You will need to authorize it again.\n",
        "* If this cell gives you an error, try clicking \"Runtime\"-> \"Restart runtime\" on the top of the screen.\n",
        " - Run the [SECTION 2 - CELL 1](#scrollTo=A_sVH81JyJin) and play the game."
      ]
    },
    {
      "cell_type": "markdown",
      "metadata": {
        "id": "KstmddkB1vhT",
        "colab_type": "text"
      },
      "source": [
        "---\n",
        "# How to update\n",
        "---"
      ]
    },
    {
      "cell_type": "markdown",
      "metadata": {
        "id": "iuxuUz451oPN",
        "colab_type": "text"
      },
      "source": [
        "1. Run [SECTION 3 - CELL 2](#scrollTo=UuZSuj6OiTEI), it will get only the latest changes made on the GitHub, and put them in your Gdrive folder.\n",
        "2. If you're paranoid and want to make sure everything is up-to-date, you will have to repeat everything over again starting from **How to play - step 3** , from time to time."
      ]
    },
    {
      "cell_type": "markdown",
      "metadata": {
        "id": "88pDH9FP0TCz",
        "colab_type": "text"
      },
      "source": [
        "---\n",
        "# Latest News\n",
        "---"
      ]
    },
    {
      "cell_type": "markdown",
      "metadata": {
        "id": "pEm0jTmB0jty",
        "colab_type": "text"
      },
      "source": [
        "**Workarounds**\n",
        "\n",
        "Some anons have reported a bunch of ghost python files getting uploaded to their GDrive and having a bad time deleting them. Here's the best way to deal with it. **It is also the best way to clear your GDrive!!!**\n",
        "\n",
        "Close all runtime, disconnect your VM and close the colab page. Wait a minute or two to be sure you're unlogged and **THEN** go to GDrive delete your files and empty your trash. The bug is caused because people want to delete files in their GDrive while its being mounted in th VM, and so, in use.\n",
        "\n",
        "---\n",
        "**AIDungeon**\n",
        "\n",
        "* The \"save\" and the \"load\" commands are fucked apparently.\n",
        "* The \"restart\" command will crash the AI if, after using it, when it asks you to rate the story, you press enter without actually rating it (that is, without typing a number).\n",
        "* The download_model.sh doesn't check if you have the model_v5 folder, but only check for its parent folder, models. Since it doesn't check if you effectively have the model, you better say yes when it asks you if you want to redownload the model.\n",
        "\n",
        "**Despite these bugs, it's still FULLY PLAYABLE.**\n",
        "\n",
        "---\n",
        "**Clover-Edition**\n",
        "\n",
        "Newly introduced work from a fellow anon, their github is [here](https://github.com/cloveranon/Clover-Edition). We hope to have feedback, for us and them, so try it! \n",
        "\n",
        "* Clover-Edition now have custom prompts and word-wrapping\n",
        "\n",
        "Here's a shameless copypasta of his \"Features\" tab:\n",
        " *   Complete rewrite of the user interface\n",
        " *   Color text output\n",
        " *   Console Bell when AI finishes\n",
        " *   Much improved prompt selection\n",
        " *   A much larger library of fan made starting prompts\n",
        " *   Better config file\n",
        " *   Eventually hope to improve the AI itself, but this will take some time\n",
        "\n",
        "Please note that you should erase your AIDungeon folder before attempting to play Clover-Edition and vice-versa. I tried as much as possible to separate the versions but sometimes it still happen that one installs in the other resulting in AIDungeon/Clover-Edition or Clover-Edition/AIDungeon filesystem. While theoretically harmless, it's a mess so be careful. Please also remember that Clover-Edition will ALSO download the model_v5 folder, you probably don't want both versions in your drive at the same time. 6+6 = 12Gb after all.\n",
        "\n",
        "---\n",
        "**Colab**\n",
        "* Workarounds moved to top of the latest news.\n",
        "* Added missing !./download_model.sh in [SECTION 1 - CELL 2](#scrollTo=sSR483VQts7V). Sorry for the inconvenience!\n",
        "* Many cells modified to implement Clover Edition\n",
        "* This Colab can now support drawfag creations, find them in [SECTION 3 - CELL 3](#scrollTo=ooL1ozRUgO5r). We need feedback on this.\n",
        "* Some Warnings were moved to the latest news to clear the cells and regroup all important stuff in place."
      ]
    },
    {
      "cell_type": "markdown",
      "metadata": {
        "id": "nqgPglYzMeek",
        "colab_type": "text"
      },
      "source": [
        "\n",
        "---\n",
        "---\n",
        "# SECTION 1 : SETUP\n",
        "---\n",
        "---"
      ]
    },
    {
      "cell_type": "markdown",
      "metadata": {
        "id": "36Gkd-RytcM_",
        "colab_type": "text"
      },
      "source": [
        "---\n",
        "---\n",
        "#CELL 1 : Installing dependencies and mounting GDrive\n"
      ]
    },
    {
      "cell_type": "markdown",
      "metadata": {
        "id": "WcHlF6MkP0-Y",
        "colab_type": "text"
      },
      "source": [
        "Run the cell.\n",
        "\n",
        "*You must run this cell each time you come back to play before running the game in SECTION 2 - CELL 1*"
      ]
    },
    {
      "cell_type": "code",
      "metadata": {
        "id": "meQ2T-4uxFDN",
        "colab_type": "code",
        "colab": {
          "base_uri": "https://localhost:8080/",
          "height": 860
        },
        "outputId": "e80de705-337e-43f1-c5df-b3d2becf8780"
      },
      "source": [
        "!pip install regex\n",
        "!pip install profanityfilter\n",
        "!pip install playsound\n",
        "!pip install func_timeout\n",
        "!pip install tracery\n",
        "from google.colab import drive\n",
        "drive.mount('/content/gdrive', force_remount=True)\n",
        "root_dir = \"/content/gdrive/My Drive/\""
      ],
      "execution_count": 5,
      "outputs": [
        {
          "output_type": "stream",
          "text": [
            "Collecting regex\n",
            "\u001b[?25l  Downloading https://files.pythonhosted.org/packages/91/0e/84041e5245d0bfc0f6c6431b36f8d7e1668ee0ce5f8184e0e1f9ee1082b6/regex-2019.12.19-cp36-cp36m-manylinux2010_x86_64.whl (689kB)\n",
            "\r\u001b[K     |▌                               | 10kB 23.7MB/s eta 0:00:01\r\u001b[K     |█                               | 20kB 1.7MB/s eta 0:00:01\r\u001b[K     |█▍                              | 30kB 2.6MB/s eta 0:00:01\r\u001b[K     |██                              | 40kB 1.7MB/s eta 0:00:01\r\u001b[K     |██▍                             | 51kB 2.1MB/s eta 0:00:01\r\u001b[K     |██▉                             | 61kB 2.5MB/s eta 0:00:01\r\u001b[K     |███▎                            | 71kB 2.9MB/s eta 0:00:01\r\u001b[K     |███▉                            | 81kB 3.2MB/s eta 0:00:01\r\u001b[K     |████▎                           | 92kB 3.6MB/s eta 0:00:01\r\u001b[K     |████▊                           | 102kB 2.8MB/s eta 0:00:01\r\u001b[K     |█████▎                          | 112kB 2.8MB/s eta 0:00:01\r\u001b[K     |█████▊                          | 122kB 2.8MB/s eta 0:00:01\r\u001b[K     |██████▏                         | 133kB 2.8MB/s eta 0:00:01\r\u001b[K     |██████▋                         | 143kB 2.8MB/s eta 0:00:01\r\u001b[K     |███████▏                        | 153kB 2.8MB/s eta 0:00:01\r\u001b[K     |███████▋                        | 163kB 2.8MB/s eta 0:00:01\r\u001b[K     |████████                        | 174kB 2.8MB/s eta 0:00:01\r\u001b[K     |████████▋                       | 184kB 2.8MB/s eta 0:00:01\r\u001b[K     |█████████                       | 194kB 2.8MB/s eta 0:00:01\r\u001b[K     |█████████▌                      | 204kB 2.8MB/s eta 0:00:01\r\u001b[K     |██████████                      | 215kB 2.8MB/s eta 0:00:01\r\u001b[K     |██████████▌                     | 225kB 2.8MB/s eta 0:00:01\r\u001b[K     |███████████                     | 235kB 2.8MB/s eta 0:00:01\r\u001b[K     |███████████▍                    | 245kB 2.8MB/s eta 0:00:01\r\u001b[K     |███████████▉                    | 256kB 2.8MB/s eta 0:00:01\r\u001b[K     |████████████▍                   | 266kB 2.8MB/s eta 0:00:01\r\u001b[K     |████████████▉                   | 276kB 2.8MB/s eta 0:00:01\r\u001b[K     |█████████████▎                  | 286kB 2.8MB/s eta 0:00:01\r\u001b[K     |█████████████▉                  | 296kB 2.8MB/s eta 0:00:01\r\u001b[K     |██████████████▎                 | 307kB 2.8MB/s eta 0:00:01\r\u001b[K     |██████████████▊                 | 317kB 2.8MB/s eta 0:00:01\r\u001b[K     |███████████████▏                | 327kB 2.8MB/s eta 0:00:01\r\u001b[K     |███████████████▊                | 337kB 2.8MB/s eta 0:00:01\r\u001b[K     |████████████████▏               | 348kB 2.8MB/s eta 0:00:01\r\u001b[K     |████████████████▋               | 358kB 2.8MB/s eta 0:00:01\r\u001b[K     |█████████████████▏              | 368kB 2.8MB/s eta 0:00:01\r\u001b[K     |█████████████████▋              | 378kB 2.8MB/s eta 0:00:01\r\u001b[K     |██████████████████              | 389kB 2.8MB/s eta 0:00:01\r\u001b[K     |██████████████████▌             | 399kB 2.8MB/s eta 0:00:01\r\u001b[K     |███████████████████             | 409kB 2.8MB/s eta 0:00:01\r\u001b[K     |███████████████████▌            | 419kB 2.8MB/s eta 0:00:01\r\u001b[K     |████████████████████            | 430kB 2.8MB/s eta 0:00:01\r\u001b[K     |████████████████████▍           | 440kB 2.8MB/s eta 0:00:01\r\u001b[K     |█████████████████████           | 450kB 2.8MB/s eta 0:00:01\r\u001b[K     |█████████████████████▍          | 460kB 2.8MB/s eta 0:00:01\r\u001b[K     |█████████████████████▉          | 471kB 2.8MB/s eta 0:00:01\r\u001b[K     |██████████████████████▍         | 481kB 2.8MB/s eta 0:00:01\r\u001b[K     |██████████████████████▉         | 491kB 2.8MB/s eta 0:00:01\r\u001b[K     |███████████████████████▎        | 501kB 2.8MB/s eta 0:00:01\r\u001b[K     |███████████████████████▊        | 512kB 2.8MB/s eta 0:00:01\r\u001b[K     |████████████████████████▎       | 522kB 2.8MB/s eta 0:00:01\r\u001b[K     |████████████████████████▊       | 532kB 2.8MB/s eta 0:00:01\r\u001b[K     |█████████████████████████▏      | 542kB 2.8MB/s eta 0:00:01\r\u001b[K     |█████████████████████████▊      | 552kB 2.8MB/s eta 0:00:01\r\u001b[K     |██████████████████████████▏     | 563kB 2.8MB/s eta 0:00:01\r\u001b[K     |██████████████████████████▋     | 573kB 2.8MB/s eta 0:00:01\r\u001b[K     |███████████████████████████     | 583kB 2.8MB/s eta 0:00:01\r\u001b[K     |███████████████████████████▋    | 593kB 2.8MB/s eta 0:00:01\r\u001b[K     |████████████████████████████    | 604kB 2.8MB/s eta 0:00:01\r\u001b[K     |████████████████████████████▌   | 614kB 2.8MB/s eta 0:00:01\r\u001b[K     |█████████████████████████████   | 624kB 2.8MB/s eta 0:00:01\r\u001b[K     |█████████████████████████████▌  | 634kB 2.8MB/s eta 0:00:01\r\u001b[K     |██████████████████████████████  | 645kB 2.8MB/s eta 0:00:01\r\u001b[K     |██████████████████████████████▍ | 655kB 2.8MB/s eta 0:00:01\r\u001b[K     |███████████████████████████████ | 665kB 2.8MB/s eta 0:00:01\r\u001b[K     |███████████████████████████████▍| 675kB 2.8MB/s eta 0:00:01\r\u001b[K     |███████████████████████████████▉| 686kB 2.8MB/s eta 0:00:01\r\u001b[K     |████████████████████████████████| 696kB 2.8MB/s \n",
            "\u001b[?25hInstalling collected packages: regex\n",
            "Successfully installed regex-2019.12.19\n",
            "Collecting profanityfilter\n",
            "  Downloading https://files.pythonhosted.org/packages/99/72/d2bafed1b5c1acc747f39adeab924b3b683b9561c06fdb2bca6bb1daff69/profanityfilter-2.0.6-py2.py3-none-any.whl\n",
            "Collecting inflection\n",
            "  Downloading https://files.pythonhosted.org/packages/d5/35/a6eb45b4e2356fe688b21570864d4aa0d0a880ce387defe9c589112077f8/inflection-0.3.1.tar.gz\n",
            "Building wheels for collected packages: inflection\n",
            "  Building wheel for inflection (setup.py) ... \u001b[?25l\u001b[?25hdone\n",
            "  Created wheel for inflection: filename=inflection-0.3.1-cp36-none-any.whl size=6076 sha256=57faf9b540db84e503eaf7a905579efee56d551cbf87bc475668ec17b59ff858\n",
            "  Stored in directory: /root/.cache/pip/wheels/9f/5a/d3/6fc3bf6516d2a3eb7e18f9f28b472110b59325f3f258fe9211\n",
            "Successfully built inflection\n",
            "Installing collected packages: inflection, profanityfilter\n",
            "Successfully installed inflection-0.3.1 profanityfilter-2.0.6\n",
            "Collecting playsound\n",
            "  Downloading https://files.pythonhosted.org/packages/f5/16/10d897b0a83fb4b05b03a63d7a2667ab75f857f67f7062fd447dd3f49bf7/playsound-1.2.2-py2.py3-none-any.whl\n",
            "Installing collected packages: playsound\n",
            "Successfully installed playsound-1.2.2\n",
            "Collecting func_timeout\n",
            "\u001b[?25l  Downloading https://files.pythonhosted.org/packages/b3/0d/bf0567477f7281d9a3926c582bfef21bff7498fc0ffd3e9de21811896a0b/func_timeout-4.3.5.tar.gz (44kB)\n",
            "\u001b[K     |████████████████████████████████| 51kB 1.6MB/s \n",
            "\u001b[?25hBuilding wheels for collected packages: func-timeout\n",
            "  Building wheel for func-timeout (setup.py) ... \u001b[?25l\u001b[?25hdone\n",
            "  Created wheel for func-timeout: filename=func_timeout-4.3.5-cp36-none-any.whl size=15078 sha256=a3e65e51c04383dc4c3b59c212ac225ac8b772a7526ad3bb8d89b68fc6575c6e\n",
            "  Stored in directory: /root/.cache/pip/wheels/46/7c/4f/24f1d2d5bbff92219debe7ea19af84f76ddeb90dd4ec544f26\n",
            "Successfully built func-timeout\n",
            "Installing collected packages: func-timeout\n",
            "Successfully installed func-timeout-4.3.5\n",
            "Collecting tracery\n",
            "  Downloading https://files.pythonhosted.org/packages/96/9a/7a7ffa8ace49ac6a3f422fdd83caf8d0ad0d132f01389f02845379033a7b/tracery-0.1.1.tar.gz\n",
            "Building wheels for collected packages: tracery\n",
            "  Building wheel for tracery (setup.py) ... \u001b[?25l\u001b[?25hdone\n",
            "  Created wheel for tracery: filename=tracery-0.1.1-cp36-none-any.whl size=7696 sha256=755ef8052f9849ce986b7d75c4faab98f138a91034af64a6e2283a83faa770c7\n",
            "  Stored in directory: /root/.cache/pip/wheels/22/ba/09/8341e10777b9d2bf6d5414d3c9627b7812f5bedce4b3edacac\n",
            "Successfully built tracery\n",
            "Installing collected packages: tracery\n",
            "Successfully installed tracery-0.1.1\n",
            "Go to this URL in a browser: https://accounts.google.com/o/oauth2/auth?client_id=947318989803-6bn6qk8qdgf4n4g3pfee6491hc0brc4i.apps.googleusercontent.com&redirect_uri=urn%3aietf%3awg%3aoauth%3a2.0%3aoob&response_type=code&scope=email%20https%3a%2f%2fwww.googleapis.com%2fauth%2fdocs.test%20https%3a%2f%2fwww.googleapis.com%2fauth%2fdrive%20https%3a%2f%2fwww.googleapis.com%2fauth%2fdrive.photos.readonly%20https%3a%2f%2fwww.googleapis.com%2fauth%2fpeopleapi.readonly\n",
            "\n",
            "Enter your authorization code:\n",
            "··········\n",
            "Mounted at /content/gdrive\n"
          ],
          "name": "stdout"
        }
      ]
    },
    {
      "cell_type": "markdown",
      "metadata": {
        "id": "sSR483VQts7V",
        "colab_type": "text"
      },
      "source": [
        "---\n",
        "---\n",
        "#CELL 2 : Cloning GIT repo to VM"
      ]
    },
    {
      "cell_type": "markdown",
      "metadata": {
        "id": "PULJhld0QWZp",
        "colab_type": "text"
      },
      "source": [
        "Choose your repo. Thadunge2 is the default one."
      ]
    },
    {
      "cell_type": "code",
      "metadata": {
        "colab_type": "code",
        "id": "4MeHmMf_CUAZ",
        "colab": {
          "base_uri": "https://localhost:8080/",
          "height": 36
        },
        "outputId": "93be22ba-5c40-4b4e-858c-9761eadedf5f"
      },
      "source": [
        "#@title Choose your repo here { form-width: \"37.5%\", display-mode: \"both\" }\n",
        "# This variable is dynamically changed with the dropdown list on the right\n",
        "repo = \"thadunge2/AIDungeon\" #@param [\"thadunge2/AIDungeon\", \"cloveranon/Clover-Edition\"]\n",
        "# This line will clone the repo in the VM\n",
        "!git clone https://github.com/$repo\n",
        "# This is a repo selector used to run the install code for each repo.\n",
        "# It's a simple bool (true/false) for now, but can easily be upgraded to a real\n",
        "# selector if more than 2 repo are actually available.\n",
        "repository = [repo]\n",
        "# This is the default value to compare the repo for the bool\n",
        "default = 'thadunge2/AIDungeon'\n",
        "# main code goes here. it's a simple if else because only 2 repo exists at\n",
        "#this time. \"if\" is run if bool is true, \"else\" is run if bool is false\n",
        "for choice in repository:\n",
        "  if (bool(choice == default)):\n",
        "    %cd AIDungeon\n",
        "    !chmod 777 install.sh \n",
        "    !sed -i -e 's/\\r$//' install.sh\n",
        "    !./install.sh\n",
        "    !chmod 777 download_model.sh \n",
        "    !sed -i -e 's/\\r$//' download_model.sh\n",
        "    !./download_model.sh\n",
        "  else:\n",
        "    %cd Clover-Edition\n",
        "    !chmod 777 install.sh\n",
        "    !sed -i -e 's/\\r$//' install.sh\n",
        "    !./install.sh\n",
        "# Clearing the installation garbage of the output\n",
        "from IPython.display import clear_output \n",
        "clear_output()\n",
        "print(\"Download Complete!\")"
      ],
      "execution_count": 6,
      "outputs": [
        {
          "output_type": "stream",
          "text": [
            "Download Complete!\n"
          ],
          "name": "stdout"
        }
      ]
    },
    {
      "cell_type": "markdown",
      "metadata": {
        "id": "afImEGdNuC9A",
        "colab_type": "text"
      },
      "source": [
        "---\n",
        "---\n",
        "#CELL 3 : Copying game files from VM to GDrive"
      ]
    },
    {
      "cell_type": "markdown",
      "metadata": {
        "id": "dKSFipS_CuoC",
        "colab_type": "text"
      },
      "source": [
        "Run the cell. It take a bit of time, be patient.\n",
        "\n",
        "*If you get this type of error on AIDungeon, do not worry, it's just a few python setup files that can't be copied for currently unkown reasons, but you can still play :*\n",
        "*   */content/gdrive/My Drive*\n",
        "*   *mv: cannot create symbolic link '/content/gdrive/My Drive/AIDungeon/venv/lib64': Operation not supported*\n",
        "*   *mv: cannot create symbolic link '/content/gdrive/My Drive/AIDungeon/venv/bin/python3': Operation not supported*\n",
        "*   *mv: cannot create symbolic link '/content/gdrive/My Drive/AIDungeon/venv/bin/python': Operation not supported*\n",
        "\n",
        "*For Clover-Edition, this might happen. It's probably harmless but it will be checked later.*\n",
        "* *mv: cannot move '/content//gdrive/.shortcut-targets-by-id' to '/content/gdrive/My Drive/gdrive/.shortcut-targets-by-id': Operation not supported*\n",
        "* *mv: cannot move '/content//gdrive' to a subdirectory of itself, '/content/gdrive/My Drive/gdrive'*\n",
        "\n"
      ]
    },
    {
      "cell_type": "code",
      "metadata": {
        "colab_type": "code",
        "id": "6y7zF5AdCTSz",
        "colab": {}
      },
      "source": [
        "#@title Choose the repo you want to move. { form-width: \"37.5%\", display-mode: \"both\" }\n",
        "repo = \"AIDungeon\" #@param [\"AIDungeon\", \"Clover-Edition\"]\n",
        "%cd \"/content/gdrive/My Drive/\"\n",
        "!mkdir $repo\n",
        "!mv \"/content/${repo}/\"{,.[^.]}* \"/content/gdrive/My Drive/${repo}\""
      ],
      "execution_count": 0,
      "outputs": []
    },
    {
      "cell_type": "markdown",
      "metadata": {
        "id": "sad33SaPNMQU",
        "colab_type": "text"
      },
      "source": [
        "---\n",
        "---\n",
        "# SECTION 2 : PLAY THE GAME\n",
        "---\n",
        "---"
      ]
    },
    {
      "cell_type": "markdown",
      "metadata": {
        "id": "A_sVH81JyJin",
        "colab_type": "text"
      },
      "source": [
        "---\n",
        "---\n",
        "# CELL 1 : Play"
      ]
    },
    {
      "cell_type": "markdown",
      "metadata": {
        "id": "vunT3Rp-lO6N",
        "colab_type": "text"
      },
      "source": [
        "Select your version and rune the cell. It's gonna be reworked soon."
      ]
    },
    {
      "cell_type": "code",
      "metadata": {
        "colab_type": "code",
        "id": "3F-suih1TuDZ",
        "colab": {
          "base_uri": "https://localhost:8080/",
          "height": 185
        },
        "outputId": "b85c28f5-1709-429d-899a-894f308f9b16"
      },
      "source": [
        "#@title Choose your version { form-width: \"37.5%\", display-mode: \"both\" }\n",
        "version = \"Clover-Edition\" #@param [\"AIDungeon\", \"Clover-Edition\"]\n",
        "%cd \"/content/\"$version\n",
        "from IPython.display import Javascript\n",
        "display(Javascript('''google.colab.output.setIframeHeight(0, true, {maxHeight: 5000})'''))\n",
        "!python play.py"
      ],
      "execution_count": 4,
      "outputs": [
        {
          "output_type": "stream",
          "text": [
            "/content/Clover-Edition\n",
            "Traceback (most recent call last):\n",
            "  File \"play.py\", line 10, in <module>\n",
            "    from generator.gpt2.gpt2_generator import *\n",
            "  File \"/content/Clover-Edition/generator/gpt2/gpt2_generator.py\", line 7, in <module>\n",
            "    from generator.gpt2.src import encoder, model, sample\n",
            "  File \"/content/Clover-Edition/generator/gpt2/src/encoder.py\", line 7, in <module>\n",
            "    import regex as re\n",
            "ModuleNotFoundError: No module named 'regex'\n"
          ],
          "name": "stdout"
        }
      ]
    },
    {
      "cell_type": "markdown",
      "metadata": {
        "id": "9mO5XY3HOBKN",
        "colab_type": "text"
      },
      "source": [
        "---\n",
        "---\n",
        "# SECTION 3 : OPTIONAL\n",
        "---\n",
        "---"
      ]
    },
    {
      "cell_type": "markdown",
      "metadata": {
        "id": "zITeSYmJvBp4",
        "colab_type": "text"
      },
      "source": [
        "---\n",
        "---\n",
        "# CELL 1 : Maximize RAM"
      ]
    },
    {
      "cell_type": "markdown",
      "metadata": {
        "id": "s8JwIpZhqxJa",
        "colab_type": "text"
      },
      "source": [
        "If you get an OOM (out of memory error, random crashes) you might want to increase the available RAM. To do this, run the cell below.\n",
        "\n",
        "*Wait until it crashes and a little message pops up (takes about 80-85 seconds) asking if you'd like to increase the available memory. Say yes and run the game in SECTION 2 - CELL 1.*"
      ]
    },
    {
      "cell_type": "code",
      "metadata": {
        "id": "Zb8MBT52sIHn",
        "colab_type": "code",
        "colab": {}
      },
      "source": [
        "thislist = [\"1\"]\n",
        "while 1:\n",
        "    thislist.append(\"1\")"
      ],
      "execution_count": 0,
      "outputs": []
    },
    {
      "cell_type": "markdown",
      "metadata": {
        "id": "UuZSuj6OiTEI",
        "colab_type": "text"
      },
      "source": [
        "---\n",
        "---\n",
        "# CELL 2 : Updating GIT repo in GDrive"
      ]
    },
    {
      "cell_type": "markdown",
      "metadata": {
        "colab_type": "text",
        "id": "2uHh66g_ioSq"
      },
      "source": [
        "Run this cell from time to time to update the repo you use. \n",
        "\n",
        "*It will ask your authorization code to force remount your GDrive in the VM in order to do the update.*\n",
        "\n",
        "*WARNING : before updating your game, go to your GDrive and copy the \"AIDungeon\" or \"Clover-Edition\" folder to \"AIDungeon-Old\" and \"Clover-Edition-old\". Make sure the current update is STABLE, before actually overwriting your files. In case the update is buggy, you just need to delete the updated \"AIDungeon\" folder, and rename back the \"AIDungeon-Old\" folder to \"AIDungeon\" to revert back to the stable version.*"
      ]
    },
    {
      "cell_type": "code",
      "metadata": {
        "colab_type": "code",
        "id": "czyMoUu9ixOA",
        "cellView": "both",
        "colab": {}
      },
      "source": [
        "#@title Choose the repo to update { form-width: \"37.5%\" }\n",
        "repo = \"AIDungeon\" #@param [\"AIDungeon\", \"Clover-Edition\"]\n",
        "from google.colab import drive\n",
        "drive.mount('/content/gdrive', force_remount=True)\n",
        "root_dir = \"/content/gdrive/My Drive/\"\n",
        "%cd \"/content/gdrive/My Drive/\"$repo\n",
        "!git pull"
      ],
      "execution_count": 0,
      "outputs": []
    },
    {
      "cell_type": "markdown",
      "metadata": {
        "id": "ooL1ozRUgO5r",
        "colab_type": "text"
      },
      "source": [
        "---\n",
        "---\n",
        "# CELL 3 : FANARTS"
      ]
    },
    {
      "cell_type": "markdown",
      "metadata": {
        "id": "nQN338QjYrqO",
        "colab_type": "text"
      },
      "source": [
        "Run this cell and get a random image from a Git repo with some drawfag stuff. The pic is even clickable so you can go straight to its Github page."
      ]
    },
    {
      "cell_type": "markdown",
      "metadata": {
        "id": "U7FT4lAWZILx",
        "colab_type": "text"
      },
      "source": [
        "*The cell is currently in development. It works perfectly in its current state, but have some flaws explained under the cell for curiousfags.*"
      ]
    },
    {
      "cell_type": "code",
      "metadata": {
        "id": "g9BG1IB6gl5L",
        "colab_type": "code",
        "colab": {}
      },
      "source": [
        "from IPython.display import HTML\n",
        "from IPython.display import Image\n",
        "from random import choice\n",
        "# listing of pictures made from github filenames (currently 1 to 11 and all .png)\n",
        "sequence = [i for i in range(1, 12)]\n",
        "# select a random pic\n",
        "for _ in range(1):\n",
        "\tpic = choice(sequence)\n",
        "# because fucktards\n",
        "print (\"<- Click this icon to close the pic. Big pictures take longer to load.\")\n",
        "# draw the pic and make it clickable to check it on github\n",
        "HTML(\"<a href=https://github.com/AIDungeonpastes/AID2-Art/tree/master/art/\" + str(pic) + \".png target=_blank><img src=https://raw.githubusercontent.com/AIDungeonpastes/AID2-Art/master/art/\" + str(pic) + \".png></a>\")"
      ],
      "execution_count": 0,
      "outputs": []
    },
    {
      "cell_type": "markdown",
      "metadata": {
        "id": "1dwuWFcBZ_Eu",
        "colab_type": "text"
      },
      "source": [
        "*   The pictures listing is not dynamic and if any picture name change, the script will broke on it.\n",
        "*   Any new picture in the repo needs the (1, 12) to be implemented manually accordingly (basically +1 for each new pic)\n",
        "*   By default, Colab cells output scrolls down to the last line, meaning you have to scroll up to the beginning of the story\n",
        "\n"
      ]
    },
    {
      "cell_type": "markdown",
      "metadata": {
        "id": "5ZwSSQD_Jo7z",
        "colab_type": "text"
      },
      "source": [
        "\n",
        "\n",
        "---\n",
        "\n",
        "---\n",
        "\n",
        "\n",
        "\n",
        "---\n",
        "\n",
        "\n",
        "\n",
        "---\n",
        "\n",
        "\n",
        "\n",
        "---\n",
        "\n",
        "\n",
        "\n",
        "---\n",
        "\n",
        "\n",
        "\n",
        "\n",
        "\n",
        "---\n",
        "\n",
        "\n",
        "\n",
        "---\n",
        "\n",
        "\n",
        "\n",
        "---\n",
        "\n",
        "\n",
        "\n",
        "---\n"
      ]
    },
    {
      "cell_type": "markdown",
      "metadata": {
        "id": "UTde0XfhPA-z",
        "colab_type": "text"
      },
      "source": [
        "# DO NOT RUN THIS CELL !!!! NEVER !!! AVOID IT LIKE IF IT WAS THE WORST NORMIE TO EVER EXIST !!! SERIOUSLY, IT COULD SCREW EVERYTHING IN YOUR GDRIVE !!! IT'S A WIP CELL SPECIFICALLY DESIGNED FOR :\n",
        "* BRAINLETS\n",
        "* DROOLING WEABTARDS\n",
        "* DRAGON'S FUCKTOYS\n",
        "* KOBOLD'S BALLSUCKERS\n",
        "* DISCORD TRANNIES\n",
        "* REDDIT NIGGERS\n",
        "* THE /VG/ FAG\n",
        "* AND ALL THE OTHERS MENTALLY DISABLED HUMAN RETARDATIONS THAT LURKS THE THREAD AND SHITPOST THEIR STUPIDITY EVERYWHRE LIKE AN UNENDING GOLDEN SHOWER ON THE PACIFIC OCEAN OF OUR COMFY THREAD\n",
        "\n",
        "If you run this cell despite all of the above, it might be a hint that one of the aboves applies to you."
      ]
    },
    {
      "cell_type": "code",
      "metadata": {
        "id": "C_jfZLq4JBAH",
        "colab_type": "code",
        "colab": {}
      },
      "source": [
        "# The next comment is actually the formatting of the form.\n",
        "#@title Choose your version { form-width: \"1%\", display-mode: \"both\" }\n",
        "\n",
        "# Here goes all the class imports needed by the cell\n",
        "from google.colab import drive\n",
        "from IPython.display import clear_output\n",
        "from IPython import os\n",
        "\n",
        "# This will install needed dependencies\n",
        "!pip install regex\n",
        "!pip install profanityfilter\n",
        "!pip install playsound\n",
        "!pip install func_timeout\n",
        "!pip install tracery\n",
        "\n",
        "# This will mount GDrive into the VM at /content/gdrive/My Drive\n",
        "# and place us in it\n",
        "drive.mount('/content/gdrive', force_remount=True)\n",
        "root_dir = \"/content/gdrive/My Drive/\"\n",
        "%cd \"/content/gdrive/MyDrive\"\n",
        "\n",
        "# This variable is dynamically changed depending of the dropdown list value\n",
        "# The comment besides the variable is mandatory to pass the form value to\n",
        "# the code\n",
        "repository = \"thadunge2/AIDungeon\" #@param [\"thadunge2/AIDungeon\", \"cloveranon/Clover-Edition\"]\n",
        "# This small code sets all variables needed according to the repository variable\n",
        "if (repository == \"thadunge2/AIDungeon\"):\n",
        "  gamefolder = \"AIDungeon\n",
        "elif (repository == \"cloveranon/Clover-Edition\"):\n",
        "  gamefolder = \"Clover-Edition\"\n",
        "\n",
        "# startup text\n",
        "print('Detecting game directory...')\n",
        "\n",
        "# Main code. rely on game folder detection. if detected, checks for github\n",
        "# updates and ask the user if they want to update.\n",
        "# If not detected, runs the installation code. If detected, but model_v5\n",
        "# folder not detected, ask user if they want to attempt to download it\n",
        "# drom the game files. Check model_v5 existence only if main folder was found.\n",
        "if os.path.isdir('./AIDungeon'):\n",
        "  print('AIDungeon folder found!')\n",
        "  if os.path.isdir('./AIDungeon/generator/gpt2/models/model_v5'):\n",
        "    print('model_v5 folder found!')\n",
        "  else:\n",
        "    print('However, the model_v5 folder is missing.')\n",
        "    answer = None\n",
        "    while answer not in (\"yes\",\"no\",\"y\",\"n\"):\n",
        "      answer = input(\"Attempt to download it from the game scripts? \")\n",
        "        if answer in (\"yes\",\"y\"):\n",
        "          try:\n",
        "            input(\"When AiDungeon's script asks you if you want to redownload, make sur to hit Y, even if it says you already.\\nPress Enter to continue.)\n",
        "          except KeyboardInterrupt:\n",
        "            pass\n",
        "          !chmod 777 download_model.sh \n",
        "          !sed -i -e 's/\\r$//' download_model.sh\n",
        "          !./download_model.sh\n",
        "          if os.path.isdir('./AIDungeon/generator/gpt2/models/model_v5'):\n",
        "            print('model_v5 folder found!')\n",
        "          else:\n",
        "            print('Despite the attempt of downloading via game script, the model_v5 is still missing.\\nThadunge2 fucked up it seems. Stopping the cell via crash.')\n",
        "            # Throwing an exception to crash the cell. can't find any other way to stop it by itself.\n",
        "            break\n",
        "        elif answer in (\"no\",\"n\"):\n",
        "          input(\"The cell will now crash because I can't stop it otherwise and you can't play the game without a model_v5 folder.\\nYou will see a 'SyntaxError:' exception, it's normal. Press enter to... well, to crash.\")\n",
        "          # Throwing an exception to crash the cell.\n",
        "          break\n",
        "        else:\n",
        "          print(\"Accepted inputs: yes, y, no, n.\")\n",
        "else\n",
        "  #AIDungeon install code\n",
        "  answer = None\n",
        "  while answer not in (\"yes\",\"no\",\"y\",\"n\"):\n",
        "    answer = input(\"AIDungeon folder not found. Install it? \")\n",
        "    if answer in (\"yes\",\"y\"):\n",
        "      try:\n",
        "        input('Make sure to choose YES when it asks you if you want to re-download the model.')\n",
        "        except KeyboardInterrupt:\n",
        "          pass\n",
        "      %cd str(folder)\n",
        "      !chmod 777 install.sh \n",
        "      !sed -i -e 's/\\r$//' install.sh\n",
        "      !./install.sh\n",
        "      !chmod 777 download_model.sh \n",
        "      !sed -i -e 's/\\r$//' download_model.sh\n",
        "      !./download_model.sh\n",
        "          if os.path.isdir('./AIDungeon/generator/gpt2/models/model_v5'):\n",
        "            print('model_v5 folder found!')\n",
        "          else:\n",
        "            print('Despite the installation, the model_v5 is seems missing.\\nThadunge2 fucked up it seems. Stopping the cell via crash.')\n",
        "            # Throwing an exception to crash the cell. can't find any other way to stop it by itself.\n",
        "            break\n",
        "        elif answer in (\"no\",\"n\"):\n",
        "          print(\"The cell will now crash because I can't stop it otherwise and you can't play the game without installing it.\\nYou will see a 'SyntaxError:' exception, it's normal.\")\n",
        "          # Throwing an exception to crash the cell.\n",
        "          break\n",
        "        else:\n",
        "          print(\"Accepted inputs: yes, y, no, n.\")\n",
        "    %cd str(folder)\n",
        "  !chmod 777 install.sh \n",
        "  !sed -i -e 's/\\r$//' install.sh\n",
        "  !./install.sh\n",
        "  !chmod 777 download_model.sh \n",
        "  !sed -i -e 's/\\r$//' download_model.sh\n",
        "  !./download_model.sh\n",
        "elif os.path.isdir('./Clover-Edition')\n",
        "  print('clover exist')\n",
        "else\n",
        "# end of wip code\n",
        "\n",
        "\n",
        "# checking updates on github\n",
        "!git fetch -v\n",
        "# Asking if they want to update\n",
        "while answer not in (\"yes\",\"no\",\"y\",\"n\"):\n",
        "  answer = input(\"Do you want to update? \")\n",
        "  if answer in (\"yes\",\"y\"):\n",
        "    !git pull\n",
        "  elif answer in (\"no\",\"n\"):\n",
        "    print(\"Let's proceed then\")\n",
        "  else:\n",
        "    print(\"Accepted inputs: yes, y, no, n.\")\n",
        "\n",
        "# launch the game here\n",
        "  print('Launching the game...')\n",
        "\n",
        "\n",
        "\n",
        "# This line will clone the repo in the mounted GDrive\n",
        "!git clone https://github.com/$repository\n",
        "\n",
        "# Now we launch the setup procedure only the one relevant with the repo will run\n",
        "# We use simple true/false to know the correct repo\n",
        "if (bool(repository == \"thadunge2/AIDungeon\")):\n",
        "  %cd str(folder)\n",
        "  !chmod 777 install.sh \n",
        "  !sed -i -e 's/\\r$//' install.sh\n",
        "  !./install.sh\n",
        "  !chmod 777 download_model.sh \n",
        "  !sed -i -e 's/\\r$//' download_model.sh\n",
        "  !./download_model.sh\n",
        "elif (bool(repository == )):\n",
        "  %cd str(folder)\n",
        "  !chmod 777 install.sh\n",
        "  !sed -i -e 's/\\r$//' install.sh\n",
        "  !./install.sh\n",
        "\n",
        "# Clearing the installation garbage of the output\n",
        "clear_output()\n",
        "print(\"Download Complete!\")\n",
        "\n",
        "# Since we're already in the mounted GDrive, no longer need the "
      ],
      "execution_count": 0,
      "outputs": []
    },
    {
      "cell_type": "markdown",
      "metadata": {
        "id": "49P_djYmyrcq",
        "colab_type": "text"
      },
      "source": [
        "this is test cell for dev of cell above."
      ]
    },
    {
      "cell_type": "code",
      "metadata": {
        "id": "mgeE5kbXXr6o",
        "colab_type": "code",
        "colab": {
          "base_uri": "https://localhost:8080/",
          "height": 92
        },
        "outputId": "c4c2d230-57a5-4c5c-8417-448ec4b45465"
      },
      "source": [
        "%cd sample_data\n",
        "!ls"
      ],
      "execution_count": 12,
      "outputs": [
        {
          "output_type": "stream",
          "text": [
            "/content/sample_data\n",
            "anscombe.json\t\t      mnist_test.csv\n",
            "california_housing_test.csv   mnist_train_small.csv\n",
            "california_housing_train.csv  README.md\n"
          ],
          "name": "stdout"
        }
      ]
    }
  ]
}