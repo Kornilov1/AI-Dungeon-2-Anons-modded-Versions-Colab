{
  "nbformat": 4,
  "nbformat_minor": 0,
  "metadata": {
    "colab": {
      "name": "Thadunge2 Fork Working Colab.ipynb",
      "provenance": [],
      "collapsed_sections": [],
      "include_colab_link": true
    },
    "kernelspec": {
      "name": "python3",
      "display_name": "Python 3"
    },
    "accelerator": "GPU"
  },
  "cells": [
    {
      "cell_type": "markdown",
      "metadata": {
        "colab_type": "text",
        "id": "view-in-github"
      },
      "source": [
        "<a href=\"https://colab.research.google.com/github/Kornilov1/Thadunge2-Fork-Working-Colab/blob/master/Thadunge2_Fork_Working_Colab.ipynb\" target=\"_parent\"><img src=\"https://colab.research.google.com/assets/colab-badge.svg\" alt=\"Open In Colab\"/></a>"
      ]
    },
    {
      "cell_type": "markdown",
      "metadata": {
        "colab_type": "text",
        "id": "7dRi_BDWErNf"
      },
      "source": [
        "# AI Dungeon 2 Thadunge2 Fork Working Colab\n",
        "\n",
        "![BYU PCCL](https://pcc4318.files.wordpress.com/2018/02/asset-1.png?w=277)![BYU PCCL](https://i.ibb.co/gPmRK87/1496877631500.png)\n",
        "\n",
        "Sponsored by the [BYU PCCL Lab](https://pcc.cs.byu.edu/).\n",
        "\n",
        "### <a href=\"https://twitter.com/nickwalton00?ref_src=twsrc%5Etfw\" class=\"twitter-follow-button\" data-show-count=\"false\">Follow @nickwalton00</a> on twitter for updates.\n",
        "\n",
        "## About\n",
        "AI Dungeon 2 is a completely AI generated text adventure built with OpenAI's largest GPT-2 model. It's a first of it's kind game that allows you to enter and will react to any action you can imagine.\n",
        "\n",
        "This is a mod of the base game made entirely by the collective efforts of Anons, so you know what to expect from this.\n",
        "\n",
        "## Official Links\n",
        "* While you wait you can [read adventures others have had](https://console.cloud.google.com/storage/browser/aidungeonstories?pli=1/).\n",
        "* [Read more](https://pcc.cs.byu.edu/2019/11/21/ai-dungeon-2-creating-infinitely-generated-text-adventures-with-deep-learning-language-models/) about how AI Dungeon 2 is made.\n",
        "\n",
        "* If you have any questions or issues feel free to contact the author on twitter https://twitter.com/nickwalton00.\n",
        "* If you like playing then please consider [supporting](https://www.patreon.com/join/AIDungeon/) the author. BEWARE that there is no telling of if he will ever cuck out to pressure, but you can see for yourself [here](https://www.patreon.com/posts/roadmap-32316007), also remember that he is a mormom IRL so you know what to expect.\n",
        " - It's official, the author is a confirmed hack that doesn't even know what the fuck is he doing: he trained the AI with bullshit it didn't even need, with the training data being badly formatted (which is where all the weird responses from the AI come from), on an Open Source software (GPT-2 model), and putting it online with some simple code anyone could write.\n", 
        " - And now he begs for money on patreon, for costs he doesn't even have, to do something he is too retarded to do, and with promises to change shit he can't change. He is a scammer and doesn't deserve your money. If you already donated, try to pull out.\n",  
        " - There are Anons currently trying to integrate the vanilla Open Source GPT-2 model with whatever works of the modded version of AI Dungeon 2. But, for the time being, we will have to do with this modded one. There is also the possibility of re-training the AI, but this option (while being looked for) is still too remote for now. "    
      ]
    },
    {
      "cell_type": "markdown",
      "metadata": {
        "colab_type": "text",
        "id": "kIldfwd8wjvT"
      },
      "source": [
        "# Main Game"
      ]
    },
    {
      "cell_type": "code",
      "metadata": {
        "colab": {},
        "colab_type": "code",
        "id": "zLx1yMu9wwBg"
      },
      "source": [
        "!pip install regex\n",
        "!pip install profanityfilter\n",
        "!pip install playsound\n",
        "!pip install func_timeout\n",
        "from google.colab import drive\n",
        "drive.mount('/content/gdrive', force_remount=True)\n",
        "root_dir = \"/content/gdrive/My Drive/\""
      ],
      "execution_count": 0,
      "outputs": []
    },
    {
      "cell_type": "code",
      "metadata": {
        "colab": {},
        "colab_type": "code",
        "id": "LWfm6q8tAbDB"
      },
      "source": [
        "!git clone https://github.com/thadunge2/AIDungeon\n",
        "%cd AIDungeon\n",
        "!chmod 777 install.sh \n",
        "!sed -i -e 's/\\r$//' install.sh\n",
        "!./install.sh\n",
        "from IPython.display import clear_output \n",
        "clear_output()\n",
        "print(\"Download Complete!\")"
      ],
      "execution_count": 0,
      "outputs": []
    },
    {
      "cell_type": "code",
      "metadata": {
        "colab": {},
        "colab_type": "code",
        "id": "HK2DO1jFxnv6"
      },
      "source": [
        "%cd /content/gdrive/My\\ Drive/\n",
        "!mkdir AIDungeon\n",
        "!mv /content/AIDungeon/{,.[^.]}* /content/gdrive/My\\ Drive/AIDungeon"
      ],
      "execution_count": 0,
      "outputs": []
    },
    {
      "cell_type": "code",
      "metadata": {
        "colab": {},
        "colab_type": "code",
        "id": "Ue0qY7mvKrZ0"
      },
      "source": [
        "%cd /content/gdrive/My\\ Drive/AIDungeon\n",
        "from IPython.display import Javascript\n",
        "display(Javascript('''google.colab.output.setIframeHeight(0, true, {maxHeight: 5000})'''))\n",
        "!python play.py"
      ],
      "execution_count": 0,
      "outputs": []
    },
    {
      "cell_type": "markdown",
      "metadata": {
        "colab_type": "text",
        "id": "pdmJ358wwzmv"
      },
      "source": [
        "If you get an OOM (out of memory error, random crashes) you might want to increase the available RAM. To do this, run the code below. Wait until it crashes and a little message pops up (takes about 80-85 seconds) asking if you'd like to increase the available memory. Say yes and run the game."
       ]
    },
    {
      "cell_type": "code",
      "metadata": {
        "colab": {},
        "colab_type": "code",
        "id": "XqK7MXhG40Oa"
      },
       "source": [
        "thislist = [\"1\"]\n",
        "while 1:\n",
        "    thislist.append(\"1\")"
        ")"
      ],
      "execution_count": 0,
      "outputs": [] 
    }
  ]
}
